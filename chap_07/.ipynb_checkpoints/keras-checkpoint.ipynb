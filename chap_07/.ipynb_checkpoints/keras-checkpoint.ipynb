{
 "cells": [
  {
   "cell_type": "markdown",
   "id": "75292a34",
   "metadata": {},
   "source": [
    "# Working with Keras: A Deep Dive\n",
    "\n",
    "### Loading Libraries"
   ]
  },
  {
   "cell_type": "code",
   "execution_count": 57,
   "id": "b95cc476",
   "metadata": {},
   "outputs": [],
   "source": [
    "import tensorflow as tf\n",
    "from tensorflow import keras\n",
    "from tensorflow.keras import models\n",
    "from tensorflow.keras import layers\n",
    "from tensorflow.keras.utils import to_categorical\n",
    "from tensorflow.keras import regularizers\n",
    "\n",
    "# TensorFlow Datasets\n",
    "from tensorflow.keras.datasets import mnist\n",
    "from tensorflow.keras.datasets import imdb\n",
    "from tensorflow.keras.datasets import reuters\n",
    "from tensorflow.keras.datasets import boston_housing\n",
    "\n",
    "# Math Computing\n",
    "import numpy as np\n",
    "\n",
    "# Data Visualization\n",
    "import matplotlib.pyplot as plt\n",
    "\n",
    "# Operating System\n",
    "import os"
   ]
  },
  {
   "cell_type": "markdown",
   "id": "247bb8ac",
   "metadata": {},
   "source": [
    "### Different Ways to Build Keras Models"
   ]
  },
  {
   "cell_type": "code",
   "execution_count": 2,
   "id": "ce064ca0",
   "metadata": {},
   "outputs": [],
   "source": [
    "# Model set-up\n",
    "model = keras.Sequential([\n",
    "    layers.Dense(64, activation=\"relu\"),\n",
    "    layers.Dense(10, activation=\"softmax\")\n",
    "])"
   ]
  },
  {
   "cell_type": "code",
   "execution_count": 3,
   "id": "ed4873da",
   "metadata": {},
   "outputs": [],
   "source": [
    "# Incrementally building a Sequential Model, as follow:\n",
    "model = keras.Sequential()\n",
    "model.add(layers.Dense(64, activation=\"relu\"))\n",
    "model.add(layers.Dense(10, activation=\"softmax\"))"
   ]
  },
  {
   "cell_type": "code",
   "execution_count": 4,
   "id": "505574ba",
   "metadata": {},
   "outputs": [],
   "source": [
    "# Models that aren't yet built have no weights\n",
    "# model.weights"
   ]
  },
  {
   "cell_type": "code",
   "execution_count": 5,
   "id": "43915f76",
   "metadata": {},
   "outputs": [
    {
     "data": {
      "text/plain": [
       "[<tf.Variable 'dense_2/kernel:0' shape=(3, 64) dtype=float32, numpy=\n",
       " array([[-0.16905174,  0.07509637, -0.2743699 , -0.20125604, -0.18531738,\n",
       "          0.24571848, -0.20769536,  0.19432941,  0.1492188 , -0.06116922,\n",
       "         -0.15800145,  0.291407  ,  0.1451363 ,  0.11636773,  0.10895565,\n",
       "         -0.23730326,  0.15397188, -0.29870522, -0.03154033,  0.1695103 ,\n",
       "         -0.04426622,  0.03529584, -0.0277642 ,  0.09070021,  0.06609991,\n",
       "         -0.29268014,  0.1830833 ,  0.10581988, -0.2457346 , -0.15698533,\n",
       "         -0.01996851, -0.2617976 ,  0.08522123, -0.19763416, -0.08481696,\n",
       "          0.20392495, -0.02391517,  0.08546808,  0.21561074,  0.14117217,\n",
       "          0.22907072,  0.05827788,  0.2832548 , -0.17053683,  0.08180138,\n",
       "          0.04420343,  0.25157577,  0.17625734, -0.00937778,  0.26003897,\n",
       "          0.03713563,  0.21684045, -0.17196321, -0.162794  ,  0.11438841,\n",
       "          0.1896902 , -0.27227005, -0.18761805,  0.07123449, -0.17816238,\n",
       "         -0.13168167,  0.22587311,  0.0064055 , -0.20031175],\n",
       "        [ 0.2728352 ,  0.24936122, -0.22354284, -0.206447  , -0.2958865 ,\n",
       "         -0.15918046, -0.29407284, -0.12202579,  0.08938721,  0.17655548,\n",
       "          0.14778548,  0.15321776,  0.17029148,  0.26272148,  0.08461612,\n",
       "         -0.23690814, -0.20905775, -0.04755464,  0.06367716, -0.08132915,\n",
       "          0.21206832,  0.185898  , -0.12374142, -0.2839671 ,  0.20400095,\n",
       "          0.05874056, -0.09737134,  0.1766322 , -0.02603003,  0.09927967,\n",
       "          0.29894352, -0.21111962,  0.12679166,  0.08432874, -0.27935052,\n",
       "         -0.0877731 , -0.0057922 ,  0.05640778, -0.04084912, -0.22283152,\n",
       "          0.16945308,  0.15390688, -0.17313652,  0.27415377, -0.09623142,\n",
       "         -0.05129038, -0.11486879, -0.16045602,  0.14500096,  0.09744567,\n",
       "         -0.06364027,  0.13728622, -0.04778224,  0.10169455,  0.01461893,\n",
       "         -0.20595634, -0.20620206, -0.05071154, -0.16735053,  0.2106461 ,\n",
       "          0.23766929,  0.22828501, -0.18980357,  0.1608054 ],\n",
       "        [ 0.14585498, -0.25257382, -0.05843769, -0.17683017, -0.07673745,\n",
       "         -0.07487984,  0.23303705, -0.23831482, -0.27745873,  0.1187678 ,\n",
       "          0.12599272, -0.27653822,  0.28379422, -0.20829025, -0.01058325,\n",
       "          0.15449551, -0.23713553, -0.00032198, -0.16097164, -0.20669928,\n",
       "         -0.17377886, -0.2793129 ,  0.11799917, -0.12375583,  0.16266057,\n",
       "         -0.1215945 , -0.22702473, -0.05700417, -0.2183907 ,  0.1189132 ,\n",
       "         -0.00894025,  0.01123771, -0.11249556,  0.04477379,  0.22945505,\n",
       "          0.14371398,  0.13453344,  0.02337605, -0.2821088 ,  0.01679283,\n",
       "         -0.09946181,  0.19443366, -0.23945096,  0.09396362,  0.27546084,\n",
       "         -0.22839546,  0.00567356,  0.15095353, -0.12756349, -0.09369601,\n",
       "          0.17859104,  0.07477832,  0.28877944, -0.15074784,  0.00613195,\n",
       "         -0.22513004,  0.04957527,  0.09644333,  0.27253693, -0.11960576,\n",
       "          0.11381242,  0.08695811, -0.27954108, -0.28683656]],\n",
       "       dtype=float32)>,\n",
       " <tf.Variable 'dense_2/bias:0' shape=(64,) dtype=float32, numpy=\n",
       " array([0., 0., 0., 0., 0., 0., 0., 0., 0., 0., 0., 0., 0., 0., 0., 0., 0.,\n",
       "        0., 0., 0., 0., 0., 0., 0., 0., 0., 0., 0., 0., 0., 0., 0., 0., 0.,\n",
       "        0., 0., 0., 0., 0., 0., 0., 0., 0., 0., 0., 0., 0., 0., 0., 0., 0.,\n",
       "        0., 0., 0., 0., 0., 0., 0., 0., 0., 0., 0., 0., 0.], dtype=float32)>,\n",
       " <tf.Variable 'dense_3/kernel:0' shape=(64, 10) dtype=float32, numpy=\n",
       " array([[-2.41996765e-01,  2.28292078e-01, -1.08802140e-01,\n",
       "         -2.19689369e-01, -2.01409757e-02,  2.70774812e-01,\n",
       "          2.27996796e-01,  6.10430539e-02,  2.02068359e-01,\n",
       "         -2.29136541e-01],\n",
       "        [ 8.64210129e-02, -1.10684633e-01, -2.19039053e-01,\n",
       "         -2.48306096e-01, -2.64567733e-02, -1.75765008e-01,\n",
       "          1.39393032e-01, -3.59808654e-02,  3.19498777e-02,\n",
       "          7.40369558e-02],\n",
       "        [ 1.59363210e-01, -2.49988794e-01, -8.93551856e-02,\n",
       "          1.87866151e-01, -2.27145150e-01,  2.06243664e-01,\n",
       "         -1.20067656e-01,  1.15623295e-01, -1.14598855e-01,\n",
       "          1.83227777e-01],\n",
       "        [-1.17144823e-01, -2.46040300e-01, -1.30845994e-01,\n",
       "         -1.09835550e-01,  8.96390378e-02,  1.16423160e-01,\n",
       "          2.25202113e-01, -3.35775316e-02,  2.18779296e-01,\n",
       "          1.75875247e-01],\n",
       "        [-5.11944741e-02, -1.88745260e-01,  1.35744333e-01,\n",
       "         -2.28202105e-01,  5.89382946e-02,  1.99815184e-01,\n",
       "         -2.01381788e-01, -2.47306496e-01,  4.00932431e-02,\n",
       "          2.80564755e-01],\n",
       "        [ 1.75106406e-01, -1.73206672e-01, -1.00753009e-01,\n",
       "          1.67467535e-01, -2.71389961e-01,  2.13492393e-01,\n",
       "         -2.70191908e-01,  2.62539595e-01,  2.29297012e-01,\n",
       "         -2.27768511e-01],\n",
       "        [ 5.47619760e-02,  2.40081877e-01,  1.44809484e-01,\n",
       "         -2.21768603e-01,  1.66500866e-01, -2.07134843e-01,\n",
       "          1.20339900e-01,  2.05051601e-01,  2.70717144e-02,\n",
       "         -2.36386955e-01],\n",
       "        [-1.19725421e-01, -2.48547718e-01,  7.35017359e-02,\n",
       "         -1.88502148e-01, -1.86736971e-01, -1.31832018e-01,\n",
       "         -7.12717772e-02, -1.36795461e-01,  6.25888407e-02,\n",
       "          9.84027684e-02],\n",
       "        [-9.89638567e-02, -3.72429937e-02,  1.42082036e-01,\n",
       "         -3.12858820e-03,  1.55133247e-01,  2.74490207e-01,\n",
       "         -1.62675977e-03, -1.37087181e-01, -2.75888413e-01,\n",
       "          1.34868562e-01],\n",
       "        [ 2.38209814e-01, -1.90034062e-01,  3.46501768e-02,\n",
       "         -8.58761370e-02,  1.39656365e-01,  2.51142889e-01,\n",
       "         -1.99297398e-01, -7.72498846e-02, -1.40069678e-01,\n",
       "          2.41971701e-01],\n",
       "        [-2.19805330e-01, -6.04796410e-03,  1.45630538e-01,\n",
       "          1.99333698e-01, -1.09308466e-01, -4.65636253e-02,\n",
       "         -6.86135143e-02, -1.77812546e-01, -8.69403780e-02,\n",
       "         -1.07351348e-01],\n",
       "        [ 3.11428905e-02,  1.54743284e-01, -2.60150373e-01,\n",
       "         -1.97023243e-01,  2.07046986e-01,  1.17473602e-01,\n",
       "         -1.29650399e-01, -2.39899457e-02,  1.18401796e-01,\n",
       "          2.23300904e-01],\n",
       "        [ 1.99209690e-01,  1.97166204e-01,  9.51465964e-02,\n",
       "         -2.22521767e-01,  1.96231306e-02, -7.34724700e-02,\n",
       "         -1.48216769e-01, -2.33447760e-01,  2.45667785e-01,\n",
       "         -1.88649267e-01],\n",
       "        [-2.01344922e-01,  1.76233709e-01, -1.48005843e-01,\n",
       "         -3.08542252e-02,  7.19627440e-02, -1.36557564e-01,\n",
       "          6.97729886e-02, -1.08479738e-01,  2.31436700e-01,\n",
       "         -2.50571668e-02],\n",
       "        [ 5.60454726e-02,  5.83222806e-02,  2.45841950e-01,\n",
       "          2.80839354e-01, -5.39893955e-02, -2.06226423e-01,\n",
       "         -2.60532379e-01, -3.16017568e-02,  2.71669835e-01,\n",
       "         -1.17407158e-01],\n",
       "        [-2.65639961e-01, -2.33515248e-01,  6.52982295e-02,\n",
       "          2.58100361e-01,  2.10532755e-01, -2.52168775e-01,\n",
       "          2.58157879e-01, -8.60753208e-02, -1.60719290e-01,\n",
       "          3.41428518e-02],\n",
       "        [ 1.59831375e-01,  1.01285189e-01,  1.42256856e-01,\n",
       "          1.58613235e-01, -1.58004880e-01, -2.32118964e-01,\n",
       "          2.41751879e-01,  1.02534294e-01, -2.34477639e-01,\n",
       "          1.83898211e-03],\n",
       "        [ 2.69972950e-01, -1.52483329e-01, -1.24261782e-01,\n",
       "         -2.68280506e-01,  2.02408940e-01, -2.45824143e-01,\n",
       "         -1.58379838e-01, -9.62430090e-02,  7.57976770e-02,\n",
       "         -1.04214072e-01],\n",
       "        [ 2.06953853e-01, -7.82278329e-02, -1.65941998e-01,\n",
       "         -1.40522435e-01,  2.49092668e-01, -1.40650466e-01,\n",
       "          2.54507810e-01, -1.58571348e-01, -1.86471641e-01,\n",
       "          4.18123305e-02],\n",
       "        [-1.90138817e-01,  1.45181865e-01,  1.94123983e-01,\n",
       "         -9.47362036e-02,  1.80064410e-01, -7.25843459e-02,\n",
       "         -1.08600780e-01,  2.05238163e-01, -2.53890127e-01,\n",
       "         -1.13234147e-01],\n",
       "        [-1.77198544e-01, -1.49422690e-01,  7.83898830e-02,\n",
       "         -1.95837975e-01,  1.66744590e-01, -2.56094664e-01,\n",
       "         -7.82360435e-02, -2.18028992e-01,  1.43796176e-01,\n",
       "          1.34290487e-01],\n",
       "        [-6.14625514e-02,  1.05723768e-01, -2.14145273e-01,\n",
       "         -6.65251166e-02, -7.88336694e-02, -6.79455549e-02,\n",
       "         -9.41687971e-02,  1.30569130e-01,  1.95957303e-01,\n",
       "          1.62040204e-01],\n",
       "        [ 4.33431566e-02, -3.55513990e-02, -7.38474280e-02,\n",
       "          2.61935502e-01, -2.64657438e-02,  6.04822934e-02,\n",
       "          1.41093314e-01,  5.42433560e-02, -1.10243767e-01,\n",
       "         -1.79931432e-01],\n",
       "        [ 9.83545482e-02,  2.47399896e-01,  4.30792868e-02,\n",
       "          1.54269844e-01, -1.34392381e-02, -2.70868421e-01,\n",
       "          1.41377211e-01,  9.16659832e-03, -7.00350404e-02,\n",
       "          2.09840626e-01],\n",
       "        [-2.45786935e-01, -4.75887507e-02,  2.32970446e-01,\n",
       "         -2.22854078e-01,  3.05058062e-02,  1.30749732e-01,\n",
       "         -3.88413668e-03,  1.64448559e-01,  1.37422681e-01,\n",
       "         -9.42114294e-02],\n",
       "        [ 2.64259666e-01,  4.29078639e-02,  5.62180579e-02,\n",
       "          1.56578064e-01, -1.99320912e-03,  8.31580162e-03,\n",
       "          2.60403484e-01, -2.08492905e-01, -8.63291025e-02,\n",
       "          4.88743484e-02],\n",
       "        [-2.36300737e-01,  9.02496278e-02, -1.34131014e-02,\n",
       "          9.35007632e-02, -7.97569752e-04,  7.18244016e-02,\n",
       "          2.17663616e-01, -1.74200624e-01,  2.43607610e-01,\n",
       "          1.71767145e-01],\n",
       "        [ 6.44933879e-02,  1.78556859e-01,  7.77141154e-02,\n",
       "         -2.31798261e-01, -2.77240574e-02,  1.27213985e-01,\n",
       "          1.33876830e-01, -1.67172626e-01, -7.86463022e-02,\n",
       "          8.32101405e-02],\n",
       "        [ 1.46341681e-01,  1.07884079e-01,  2.23521292e-02,\n",
       "          9.15114880e-02, -9.31472629e-02, -2.25892663e-02,\n",
       "          9.36658084e-02,  1.11504048e-01,  2.40089208e-01,\n",
       "          3.51226032e-02],\n",
       "        [ 2.56915063e-01, -1.62448630e-01, -1.08153805e-01,\n",
       "          2.20658928e-01, -2.69205213e-01,  1.86214209e-01,\n",
       "         -1.73248142e-01, -2.70266175e-01, -1.26494378e-01,\n",
       "          3.19586396e-02],\n",
       "        [ 1.94705635e-01, -3.33118141e-02,  9.20168459e-02,\n",
       "          5.19914925e-02, -1.06395617e-01, -5.54038584e-02,\n",
       "         -2.66946197e-01, -1.03052080e-01, -1.09747708e-01,\n",
       "          9.54108834e-02],\n",
       "        [-1.48222268e-01,  1.82470053e-01,  2.30879188e-02,\n",
       "         -3.01838815e-02,  1.69988513e-01, -1.97444826e-01,\n",
       "          6.43114448e-02,  2.55780965e-01,  1.15650445e-01,\n",
       "         -2.55061120e-01],\n",
       "        [-8.30992758e-02, -1.88094378e-03, -2.17020571e-01,\n",
       "          1.92137003e-01,  1.84418947e-01, -2.26858258e-02,\n",
       "         -9.47635025e-02,  9.44912732e-02,  1.01927429e-01,\n",
       "          1.78808868e-01],\n",
       "        [-2.20759228e-01, -2.06070751e-01, -2.73089468e-01,\n",
       "         -1.85702443e-02, -1.88355774e-01, -2.17592210e-01,\n",
       "          2.42425203e-02, -1.33956671e-01,  8.60128701e-02,\n",
       "         -1.12331495e-01],\n",
       "        [ 7.72491395e-02,  3.85103524e-02,  1.96706146e-01,\n",
       "          2.04782814e-01,  1.04106665e-01,  7.91723132e-02,\n",
       "          2.42721051e-01,  8.23161006e-03, -8.88752788e-02,\n",
       "          1.70797616e-01],\n",
       "        [ 1.96252495e-01, -3.04736495e-02,  1.92891866e-01,\n",
       "         -1.59144610e-01, -2.39560023e-01, -1.29759699e-01,\n",
       "          6.34128749e-02,  1.59407407e-01,  7.33744502e-02,\n",
       "          1.30575120e-01],\n",
       "        [-1.51325002e-01, -1.26917124e-01,  1.89646631e-01,\n",
       "         -1.38766959e-01,  2.48749882e-01,  4.70211208e-02,\n",
       "          1.23222947e-01, -2.76816517e-01, -7.44308531e-02,\n",
       "         -8.71051401e-02],\n",
       "        [-1.51106328e-01,  2.54269391e-01, -1.89034596e-01,\n",
       "          2.78874964e-01, -1.84171364e-01, -1.15090504e-01,\n",
       "         -8.65952224e-02, -3.66749614e-02, -2.63163000e-01,\n",
       "          1.26400560e-01],\n",
       "        [-1.24754176e-01, -1.63409531e-01,  2.80730993e-01,\n",
       "         -9.41332877e-02, -2.06381083e-04,  1.80537999e-01,\n",
       "          1.82704002e-01, -5.36060333e-03,  2.16405123e-01,\n",
       "          1.80195361e-01],\n",
       "        [ 1.98864788e-01,  2.77446717e-01, -1.53137714e-01,\n",
       "         -2.32023790e-01, -6.27598464e-02,  1.20127797e-01,\n",
       "         -1.09450892e-01, -2.57044435e-01, -2.51385480e-01,\n",
       "         -2.63138175e-01],\n",
       "        [-3.37936282e-02, -2.35498965e-01,  1.47993475e-01,\n",
       "         -1.76989645e-01,  1.46429539e-01,  1.89876825e-01,\n",
       "          1.64513081e-01, -1.77908331e-01,  2.83638626e-01,\n",
       "         -1.05225608e-01],\n",
       "        [ 1.24256015e-02,  2.65893668e-01,  9.14957821e-02,\n",
       "         -2.46816278e-02,  2.67475039e-01, -4.41741943e-03,\n",
       "          2.16034919e-01, -4.85911965e-02,  2.25394815e-01,\n",
       "          3.43359709e-02],\n",
       "        [ 4.85337675e-02,  9.76733565e-02, -5.72845936e-02,\n",
       "          9.26461816e-03,  1.28535450e-01, -2.31221482e-01,\n",
       "          2.45565325e-01,  2.78003067e-01, -2.67445385e-01,\n",
       "          1.19286865e-01],\n",
       "        [ 1.70283765e-01,  1.27967834e-01,  2.59239703e-01,\n",
       "         -1.37042508e-01,  2.43572205e-01,  2.54265040e-01,\n",
       "         -1.21999636e-01, -2.37329051e-01, -1.52052850e-01,\n",
       "          4.98448908e-02],\n",
       "        [ 8.74161422e-02,  2.26917893e-01,  4.02375162e-02,\n",
       "         -8.45903158e-03,  2.17279226e-01,  2.52956718e-01,\n",
       "          3.33647728e-02, -2.56031752e-01,  1.65074646e-01,\n",
       "          2.82750160e-01],\n",
       "        [-2.62666464e-01,  2.03121573e-01,  1.23171002e-01,\n",
       "         -1.97871864e-01, -1.32147357e-01, -1.23546764e-01,\n",
       "         -2.65610218e-03,  3.23364437e-02,  2.06675649e-01,\n",
       "         -5.93820959e-02],\n",
       "        [-1.97269946e-01,  5.24016619e-02, -1.27902329e-01,\n",
       "         -2.19427243e-01,  1.01141810e-01, -1.48216844e-01,\n",
       "         -1.39742181e-01, -2.78204173e-01, -3.97942662e-02,\n",
       "          3.21466327e-02],\n",
       "        [ 2.18179077e-01,  1.78357154e-01,  1.08239263e-01,\n",
       "         -2.52046168e-01, -3.03147733e-02,  2.27489740e-01,\n",
       "          1.26129389e-01, -6.51435703e-02, -1.36301517e-02,\n",
       "          2.12577045e-01],\n",
       "        [-2.29983792e-01, -5.20216972e-02, -1.37321666e-01,\n",
       "         -2.80641794e-01, -4.46442515e-02, -2.23628089e-01,\n",
       "          1.69582963e-02, -1.48960501e-01, -2.50159055e-01,\n",
       "          1.94852144e-01],\n",
       "        [ 2.60001391e-01,  2.71369249e-01,  1.82985008e-01,\n",
       "         -2.06176311e-01, -2.47988522e-01, -1.84127644e-01,\n",
       "          2.36975551e-02,  2.39715487e-01, -1.81704953e-01,\n",
       "          2.01477110e-01],\n",
       "        [ 1.76288366e-01,  7.64476955e-02, -1.27027646e-01,\n",
       "         -6.16323948e-03,  1.62934363e-01,  2.46478468e-01,\n",
       "         -2.15599254e-01,  8.48047137e-02, -2.31072605e-02,\n",
       "          2.17477173e-01],\n",
       "        [-1.66323066e-01, -2.10740507e-01, -2.06593275e-02,\n",
       "         -2.09965944e-01, -1.70921594e-01, -6.77983016e-02,\n",
       "         -8.41280669e-02,  5.34756184e-02,  2.77954072e-01,\n",
       "          8.92297328e-02],\n",
       "        [-1.16837293e-01, -2.40847811e-01,  7.28726089e-02,\n",
       "          1.58251673e-01, -1.01642773e-01,  1.87483400e-01,\n",
       "         -1.65362835e-01,  2.29517847e-01,  8.16345215e-03,\n",
       "          1.17709130e-01],\n",
       "        [ 2.56744355e-01, -1.05736271e-01, -2.49728233e-01,\n",
       "         -3.84718478e-02,  2.67941386e-01,  2.12585807e-01,\n",
       "         -2.75776386e-01,  2.57009357e-01,  1.31367177e-01,\n",
       "          2.38280863e-01],\n",
       "        [-2.59299725e-01,  7.01394677e-02, -2.59014845e-01,\n",
       "         -1.03708357e-01,  1.80359811e-01,  1.52119100e-02,\n",
       "          7.13676214e-03, -1.58495992e-01, -1.83695599e-01,\n",
       "         -1.18042454e-01],\n",
       "        [-2.00996727e-01, -2.47956946e-01, -2.04410553e-02,\n",
       "         -2.65074372e-02, -1.25913918e-01, -1.84791595e-01,\n",
       "         -2.23151028e-01, -1.29182652e-01,  2.69268423e-01,\n",
       "          9.14922059e-02],\n",
       "        [-1.83806464e-01, -6.20861799e-02,  1.55767053e-01,\n",
       "         -2.77882576e-01, -5.89397252e-02,  1.55442953e-02,\n",
       "          1.92162037e-01, -9.91725624e-02, -2.00570643e-01,\n",
       "          2.28955179e-01],\n",
       "        [ 2.37473637e-01,  1.73121065e-01, -4.75874543e-02,\n",
       "          8.80682766e-02, -2.06125602e-01, -1.36426821e-01,\n",
       "         -2.19543397e-01,  1.70357227e-01, -1.03495181e-01,\n",
       "          2.14904755e-01],\n",
       "        [-8.04825574e-02, -8.46891701e-02, -8.91362429e-02,\n",
       "          2.64320105e-01, -1.08963251e-01,  2.42249697e-01,\n",
       "          2.58897275e-01, -1.51461944e-01, -1.96488351e-01,\n",
       "          8.67026150e-02],\n",
       "        [ 7.13471472e-02, -1.21938005e-01,  8.39501321e-02,\n",
       "         -6.00332171e-02,  1.76735073e-01,  9.90177691e-02,\n",
       "          3.60865593e-02, -2.40771025e-01, -1.26029611e-01,\n",
       "         -2.56787688e-01],\n",
       "        [-1.76131874e-01,  3.48867774e-02, -4.17889804e-02,\n",
       "          1.49779171e-01,  2.52430111e-01,  8.65529180e-02,\n",
       "         -1.55789256e-02, -6.58985674e-02, -9.26458985e-02,\n",
       "         -2.17256635e-01],\n",
       "        [ 1.58271402e-01, -1.16965875e-01,  1.84163481e-01,\n",
       "          1.91739202e-02, -5.60524017e-02,  8.95321667e-02,\n",
       "          1.65502876e-01, -2.22668678e-01, -1.05339944e-01,\n",
       "          1.87130392e-01],\n",
       "        [ 1.24126375e-02,  1.01726204e-01,  7.75722265e-02,\n",
       "          2.51211077e-01, -1.95122957e-01,  1.17757320e-01,\n",
       "          4.69197631e-02,  9.22303498e-02,  1.34206653e-01,\n",
       "         -1.51183799e-01],\n",
       "        [-1.74654201e-01, -1.88748389e-01, -2.75801659e-01,\n",
       "          2.51187533e-01, -8.46893787e-02, -2.46907860e-01,\n",
       "          2.63016433e-01, -1.23090148e-01,  5.68129122e-02,\n",
       "          1.72662467e-01]], dtype=float32)>,\n",
       " <tf.Variable 'dense_3/bias:0' shape=(10,) dtype=float32, numpy=array([0., 0., 0., 0., 0., 0., 0., 0., 0., 0.], dtype=float32)>]"
      ]
     },
     "execution_count": 5,
     "metadata": {},
     "output_type": "execute_result"
    }
   ],
   "source": [
    "# Calling a model for the first time to build it\n",
    "model.build(input_shape=(None, 3))\n",
    "model.weights"
   ]
  },
  {
   "cell_type": "code",
   "execution_count": 6,
   "id": "4b50d921",
   "metadata": {},
   "outputs": [
    {
     "name": "stdout",
     "output_type": "stream",
     "text": [
      "Model: \"sequential_1\"\n",
      "_________________________________________________________________\n",
      " Layer (type)                Output Shape              Param #   \n",
      "=================================================================\n",
      " dense_2 (Dense)             (None, 64)                256       \n",
      "                                                                 \n",
      " dense_3 (Dense)             (None, 10)                650       \n",
      "                                                                 \n",
      "=================================================================\n",
      "Total params: 906 (3.54 KB)\n",
      "Trainable params: 906 (3.54 KB)\n",
      "Non-trainable params: 0 (0.00 Byte)\n",
      "_________________________________________________________________\n"
     ]
    }
   ],
   "source": [
    "# The summary() method\n",
    "model.summary()"
   ]
  },
  {
   "cell_type": "code",
   "execution_count": 7,
   "id": "f84ff810",
   "metadata": {},
   "outputs": [
    {
     "name": "stdout",
     "output_type": "stream",
     "text": [
      "Model: \"First_model\"\n",
      "_________________________________________________________________\n",
      " Layer (type)                Output Shape              Param #   \n",
      "=================================================================\n",
      " First_layer (Dense)         (None, 64)                256       \n",
      "                                                                 \n",
      " Last_layer (Dense)          (None, 10)                650       \n",
      "                                                                 \n",
      "=================================================================\n",
      "Total params: 906 (3.54 KB)\n",
      "Trainable params: 906 (3.54 KB)\n",
      "Non-trainable params: 0 (0.00 Byte)\n",
      "_________________________________________________________________\n"
     ]
    }
   ],
   "source": [
    "# Naming models\n",
    "model = keras.Sequential(name=\"First_model\")\n",
    "model.add(layers.Dense(64, activation=\"relu\", name=\"First_layer\"))\n",
    "model.add(layers.Dense(10, activation=\"softmax\", name=\"Last_layer\"))\n",
    "model.build((None, 3))\n",
    "model.summary()"
   ]
  },
  {
   "cell_type": "code",
   "execution_count": 8,
   "id": "802caaaa",
   "metadata": {},
   "outputs": [],
   "source": [
    "# Specifying the input shape of your model in advance\n",
    "model = keras.Sequential()\n",
    "model.add(keras.Input(shape=(3,)))\n",
    "model.add(layers.Dense(64, activation=\"relu\"))"
   ]
  },
  {
   "cell_type": "code",
   "execution_count": 9,
   "id": "f2e02ffc",
   "metadata": {},
   "outputs": [
    {
     "name": "stdout",
     "output_type": "stream",
     "text": [
      "Model: \"sequential_2\"\n",
      "_________________________________________________________________\n",
      " Layer (type)                Output Shape              Param #   \n",
      "=================================================================\n",
      " dense_4 (Dense)             (None, 64)                256       \n",
      "                                                                 \n",
      "=================================================================\n",
      "Total params: 256 (1.00 KB)\n",
      "Trainable params: 256 (1.00 KB)\n",
      "Non-trainable params: 0 (0.00 Byte)\n",
      "_________________________________________________________________\n"
     ]
    }
   ],
   "source": [
    "model.summary()"
   ]
  },
  {
   "cell_type": "code",
   "execution_count": 10,
   "id": "eae0cec3",
   "metadata": {},
   "outputs": [
    {
     "name": "stdout",
     "output_type": "stream",
     "text": [
      "Model: \"sequential_2\"\n",
      "_________________________________________________________________\n",
      " Layer (type)                Output Shape              Param #   \n",
      "=================================================================\n",
      " dense_4 (Dense)             (None, 64)                256       \n",
      "                                                                 \n",
      " dense_5 (Dense)             (None, 10)                650       \n",
      "                                                                 \n",
      "=================================================================\n",
      "Total params: 906 (3.54 KB)\n",
      "Trainable params: 906 (3.54 KB)\n",
      "Non-trainable params: 0 (0.00 Byte)\n",
      "_________________________________________________________________\n"
     ]
    }
   ],
   "source": [
    "model.add(layers.Dense(10, activation=\"softmax\"))\n",
    "model.summary()"
   ]
  },
  {
   "cell_type": "markdown",
   "id": "cc3434f3",
   "metadata": {},
   "source": [
    "### The Functional API\n",
    "\n",
    "#### A simple example"
   ]
  },
  {
   "cell_type": "code",
   "execution_count": 11,
   "id": "97634cac",
   "metadata": {},
   "outputs": [],
   "source": [
    "# A simple Functional model with two Dense layers\n",
    "inputs = keras.Input(shape=(3,), name=\"my_input\")\n",
    "features = layers.Dense(64, activation=\"relu\") (inputs)\n",
    "outputs = layers.Dense(10, activation=\"softmax\") (features)\n",
    "model = keras.Model(inputs=inputs, outputs=outputs)"
   ]
  },
  {
   "cell_type": "code",
   "execution_count": 12,
   "id": "741f7c24",
   "metadata": {},
   "outputs": [
    {
     "data": {
      "text/plain": [
       "TensorShape([None, 3])"
      ]
     },
     "execution_count": 12,
     "metadata": {},
     "output_type": "execute_result"
    }
   ],
   "source": [
    "inputs.shape"
   ]
  },
  {
   "cell_type": "code",
   "execution_count": 13,
   "id": "6be69ff0",
   "metadata": {},
   "outputs": [
    {
     "data": {
      "text/plain": [
       "tf.float32"
      ]
     },
     "execution_count": 13,
     "metadata": {},
     "output_type": "execute_result"
    }
   ],
   "source": [
    "inputs.dtype"
   ]
  },
  {
   "cell_type": "code",
   "execution_count": 14,
   "id": "e91b0771",
   "metadata": {},
   "outputs": [],
   "source": [
    "features = layers.Dense(64, activation=\"relu\") (inputs)"
   ]
  },
  {
   "cell_type": "code",
   "execution_count": 15,
   "id": "533c380a",
   "metadata": {},
   "outputs": [
    {
     "data": {
      "text/plain": [
       "TensorShape([None, 64])"
      ]
     },
     "execution_count": 15,
     "metadata": {},
     "output_type": "execute_result"
    }
   ],
   "source": [
    "features.shape"
   ]
  },
  {
   "cell_type": "code",
   "execution_count": 16,
   "id": "8ada1154",
   "metadata": {},
   "outputs": [],
   "source": [
    "outputs = layers.Dense(10, activation=\"softmax\") (features)"
   ]
  },
  {
   "cell_type": "code",
   "execution_count": 17,
   "id": "88ec80d7",
   "metadata": {},
   "outputs": [
    {
     "name": "stdout",
     "output_type": "stream",
     "text": [
      "Model: \"model\"\n",
      "_________________________________________________________________\n",
      " Layer (type)                Output Shape              Param #   \n",
      "=================================================================\n",
      " my_input (InputLayer)       [(None, 3)]               0         \n",
      "                                                                 \n",
      " dense_6 (Dense)             (None, 64)                256       \n",
      "                                                                 \n",
      " dense_7 (Dense)             (None, 10)                650       \n",
      "                                                                 \n",
      "=================================================================\n",
      "Total params: 906 (3.54 KB)\n",
      "Trainable params: 906 (3.54 KB)\n",
      "Non-trainable params: 0 (0.00 Byte)\n",
      "_________________________________________________________________\n"
     ]
    }
   ],
   "source": [
    "model.summary()"
   ]
  },
  {
   "cell_type": "markdown",
   "id": "c6d60c63",
   "metadata": {},
   "source": [
    "#### Multi-input, Multi-output models"
   ]
  },
  {
   "cell_type": "code",
   "execution_count": 18,
   "id": "0cf8eede",
   "metadata": {},
   "outputs": [],
   "source": [
    "# A multi-input, multi-output Function model, as follow:\n",
    "vocabulary_size = 10000\n",
    "num_tags = 100\n",
    "num_departments = 4\n",
    "\n",
    "title = keras.Input(shape=(vocabulary_size,), name=\"title\")\n",
    "text_body = keras.Input(shape=(vocabulary_size,), name=\"text_body\")\n",
    "tags = keras.Input(shape=(num_tags,), name=\"tags\")\n",
    "\n",
    "features = layers.Concatenate() ([title, text_body, tags])\n",
    "features = layers.Dense(64, activation=\"relu\")(features)\n",
    "\n",
    "priority = layers.Dense(1, activation=\"sigmoid\", name=\"priority\") (features)\n",
    "department = layers.Dense(\n",
    "    num_departments, activation=\"softmax\", name=\"department\") (features)\n",
    "\n",
    "model = keras.Model(inputs=[title, text_body, tags],\n",
    "                    outputs=[priority, department])"
   ]
  },
  {
   "cell_type": "markdown",
   "id": "b9be84ec",
   "metadata": {},
   "source": [
    "#### Training a Multi-input, Multi-output model"
   ]
  },
  {
   "cell_type": "code",
   "execution_count": 19,
   "id": "4591c443",
   "metadata": {},
   "outputs": [
    {
     "name": "stdout",
     "output_type": "stream",
     "text": [
      "40/40 [==============================] - 0s 3ms/step - loss: 14.6760 - priority_loss: 0.3038 - department_loss: 14.3721 - priority_mean_absolute_error: 0.4706 - department_accuracy: 0.2430\n",
      "40/40 [==============================] - 0s 930us/step - loss: 20.7337 - priority_loss: 0.3100 - department_loss: 20.4236 - priority_mean_absolute_error: 0.4767 - department_accuracy: 0.2586\n",
      "40/40 [==============================] - 0s 862us/step\n"
     ]
    }
   ],
   "source": [
    "# Training a model by providing list of input and targets arrays \n",
    "num_samples = 1280\n",
    "\n",
    "title_data = np.random.randint(0, 2, size=(num_samples, vocabulary_size))\n",
    "text_body_data = np.random.randint(0, 2, size=(num_samples, vocabulary_size))\n",
    "tags_data = np.random.randint(0, 2, size=(num_samples, num_tags))\n",
    "\n",
    "priority_data = np.random.random(size=(num_samples, 1))\n",
    "department_data = np.random.randint(0, 2, size=(num_samples, num_departments))\n",
    "\n",
    "model.compile(optimizer=\"rmsprop\",\n",
    "              loss=[\"mean_squared_error\", \"categorical_crossentropy\"],\n",
    "              metrics=[[\"mean_absolute_error\"], [\"accuracy\"]])\n",
    "model.fit([title_data, text_body_data, tags_data],\n",
    "          [priority_data, department_data],\n",
    "          epochs=1)\n",
    "model.evaluate([title_data, text_body_data, tags_data],\n",
    "               [priority_data, department_data])\n",
    "priority_preds, department_preds = model.predict([title_data, text_body_data, tags_data])"
   ]
  },
  {
   "cell_type": "code",
   "execution_count": 20,
   "id": "d29c111e",
   "metadata": {},
   "outputs": [
    {
     "name": "stdout",
     "output_type": "stream",
     "text": [
      "40/40 [==============================] - 0s 3ms/step - loss: 18.5745 - priority_loss: 0.3100 - department_loss: 18.2645 - priority_mean_absolute_error: 0.4767 - department_accuracy: 0.2438\n",
      "40/40 [==============================] - 0s 894us/step - loss: 8.4373 - priority_loss: 0.3100 - department_loss: 8.1273 - priority_mean_absolute_error: 0.4767 - department_accuracy: 0.5906\n",
      "40/40 [==============================] - 0s 883us/step\n"
     ]
    }
   ],
   "source": [
    "# Training a model providing dicts of input and target arrays\n",
    "model.compile(optimizer=\"rmsprop\",\n",
    "              loss={\"priority\": \"mean_squared_error\", \"department\": \"categorical_crossentropy\"},\n",
    "              metrics={\"priority\": [\"mean_absolute_error\"], \"department\": [\"accuracy\"]})\n",
    "model.fit({\"title\": title_data, \"text_body\": text_body_data, \"tags\": tags_data},\n",
    "          {\"priority\": priority_data, \"department\": department_data},\n",
    "          epochs=1)\n",
    "model.evaluate({\"title\": title_data, \"text_body\": text_body_data, \"tags\": tags_data},\n",
    "               {\"priority\": priority_data, \"department\": department_data})\n",
    "priority_preds, department_preds = model.predict(\n",
    "    {\"title\": title_data, \"text_body\": text_body_data, \"tags\": tags_data})"
   ]
  },
  {
   "cell_type": "markdown",
   "id": "a42d929b",
   "metadata": {},
   "source": [
    "#### The ower of the Functional API: Access to layer connectivity"
   ]
  },
  {
   "cell_type": "code",
   "execution_count": 21,
   "id": "b30ea0fc",
   "metadata": {},
   "outputs": [
    {
     "data": {
      "image/png": "[encoded data removed]",
      "text/plain": [
       "<IPython.core.display.Image object>"
      ]
     },
     "execution_count": 21,
     "metadata": {},
     "output_type": "execute_result"
    }
   ],
   "source": [
    "#\n",
    "keras.utils.plot_model(model, \"ticket_classifier.png\")"
   ]
  },
  {
   "cell_type": "code",
   "execution_count": 22,
   "id": "9ec64b3e",
   "metadata": {},
   "outputs": [
    {
     "data": {
      "image/png": "[encoded data removed]",
      "text/plain": [
       "<IPython.core.display.Image object>"
      ]
     },
     "execution_count": 22,
     "metadata": {},
     "output_type": "execute_result"
    }
   ],
   "source": [
    "keras.utils.plot_model(\n",
    "    model, \"ticket_classifier_with_shape_info.png\", show_shapes=True)"
   ]
  },
  {
   "cell_type": "code",
   "execution_count": 23,
   "id": "a78cc9d3",
   "metadata": {},
   "outputs": [
    {
     "data": {
      "text/plain": [
       "[<keras.src.engine.input_layer.InputLayer at 0x320c62690>,\n",
       " <keras.src.engine.input_layer.InputLayer at 0x320c5bf50>,\n",
       " <keras.src.engine.input_layer.InputLayer at 0x320c230d0>,\n",
       " <keras.src.layers.merging.concatenate.Concatenate at 0x320c5ead0>,\n",
       " <keras.src.layers.core.dense.Dense at 0x30fd1a5d0>,\n",
       " <keras.src.layers.core.dense.Dense at 0x320c6fe90>,\n",
       " <keras.src.layers.core.dense.Dense at 0x30fcf6d50>]"
      ]
     },
     "execution_count": 23,
     "metadata": {},
     "output_type": "execute_result"
    }
   ],
   "source": [
    "# Retrieving the inputs or outputs of a layer in a Functional model\n",
    "model.layers"
   ]
  },
  {
   "cell_type": "code",
   "execution_count": 24,
   "id": "e6dfcb50",
   "metadata": {},
   "outputs": [
    {
     "data": {
      "text/plain": [
       "[<KerasTensor: shape=(None, 10000) dtype=float32 (created by layer 'title')>,\n",
       " <KerasTensor: shape=(None, 10000) dtype=float32 (created by layer 'text_body')>,\n",
       " <KerasTensor: shape=(None, 100) dtype=float32 (created by layer 'tags')>]"
      ]
     },
     "execution_count": 24,
     "metadata": {},
     "output_type": "execute_result"
    }
   ],
   "source": [
    "model.layers[3].input"
   ]
  },
  {
   "cell_type": "code",
   "execution_count": 26,
   "id": "5454ad70",
   "metadata": {},
   "outputs": [
    {
     "data": {
      "text/plain": [
       "<KerasTensor: shape=(None, 20100) dtype=float32 (created by layer 'concatenate')>"
      ]
     },
     "execution_count": 26,
     "metadata": {},
     "output_type": "execute_result"
    }
   ],
   "source": [
    "model.layers[3].output"
   ]
  },
  {
   "cell_type": "code",
   "execution_count": 27,
   "id": "77f39b1d",
   "metadata": {},
   "outputs": [],
   "source": [
    "# Creating a new model by reusing intermediate layer outputs\n",
    "features = model.layers[4].output\n",
    "difficulty = layers.Dense(3, activation=\"softmax\", name=\"difficulty\")(features)\n",
    "\n",
    "new_model = keras.Model(\n",
    "    inputs=[title, text_body, tags],\n",
    "    outputs=[priority, department, difficulty])"
   ]
  },
  {
   "cell_type": "code",
   "execution_count": 28,
   "id": "9b44a92b",
   "metadata": {},
   "outputs": [
    {
     "data": {
      "image/png": "[encoded data removed]",
      "text/plain": [
       "<IPython.core.display.Image object>"
      ]
     },
     "execution_count": 28,
     "metadata": {},
     "output_type": "execute_result"
    }
   ],
   "source": [
    "keras.utils.plot_model(new_model, \"updated_ticket_classifier.png\", show_shapes=True)"
   ]
  },
  {
   "cell_type": "markdown",
   "id": "491b19a7",
   "metadata": {},
   "source": [
    "#### Subclassing The Model Class"
   ]
  },
  {
   "cell_type": "code",
   "execution_count": 29,
   "id": "0eb02d31",
   "metadata": {},
   "outputs": [],
   "source": [
    "# A simple subclassed model\n",
    "class CustomerTicketModel(keras.Model):\n",
    "\n",
    "    def __init__(self, num_departments):\n",
    "        super().__init__()\n",
    "        self.concat_layer = layers.Concatenate()\n",
    "        self.mixing_layer = layers.Dense(64, activation=\"relu\")\n",
    "        self.priority_scorer = layers.Dense(1, activation=\"sigmoid\")\n",
    "        self.department_classifier = layers.Dense(\n",
    "            num_departments, activation=\"softmax\")\n",
    "\n",
    "    def call(self, inputs):\n",
    "        title = inputs[\"title\"]\n",
    "        text_body = inputs[\"text_body\"]\n",
    "        tags = inputs[\"tags\"]\n",
    "\n",
    "        features = self.concat_layer([title, text_body, tags])\n",
    "        features = self.mixing_layer(features)\n",
    "        priority = self.priority_scorer(features)\n",
    "        department = self.department_classifier(features)\n",
    "        return priority, department"
   ]
  },
  {
   "cell_type": "code",
   "execution_count": 30,
   "id": "13d423d6",
   "metadata": {},
   "outputs": [],
   "source": [
    "model = CustomerTicketModel(num_departments=4)\n",
    "\n",
    "priority, department = model(\n",
    "    {\"title\": title_data, \"text_body\": text_body_data, \"tags\": tags_data})"
   ]
  },
  {
   "cell_type": "code",
   "execution_count": 31,
   "id": "189fe5f4",
   "metadata": {},
   "outputs": [
    {
     "name": "stdout",
     "output_type": "stream",
     "text": [
      "40/40 [==============================] - 0s 3ms/step - loss: 19.8648 - output_1_loss: 0.3000 - output_2_loss: 19.5648 - output_1_mean_absolute_error: 0.4663 - output_2_accuracy: 0.2523\n",
      "40/40 [==============================] - 0s 1ms/step - loss: 5.9641 - output_1_loss: 0.3100 - output_2_loss: 5.6541 - output_1_mean_absolute_error: 0.4767 - output_2_accuracy: 0.5891\n",
      "40/40 [==============================] - 0s 1ms/step\n"
     ]
    }
   ],
   "source": [
    "model.compile(optimizer=\"rmsprop\",\n",
    "              loss=[\"mean_squared_error\", \"categorical_crossentropy\"],\n",
    "              metrics=[[\"mean_absolute_error\"], [\"accuracy\"]])\n",
    "model.fit({\"title\": title_data,\n",
    "           \"text_body\": text_body_data,\n",
    "           \"tags\": tags_data},\n",
    "          [priority_data, department_data],\n",
    "          epochs=1)\n",
    "model.evaluate({\"title\": title_data,\n",
    "                \"text_body\": text_body_data,\n",
    "                \"tags\": tags_data},\n",
    "               [priority_data, department_data])\n",
    "priority_preds, department_preds = model.predict({\"title\": title_data,\n",
    "                                                  \"text_body\": text_body_data,\n",
    "                                                  \"tags\": tags_data})"
   ]
  },
  {
   "cell_type": "markdown",
   "id": "22efbd95",
   "metadata": {},
   "source": [
    "#### Mixing & matching different components"
   ]
  },
  {
   "cell_type": "code",
   "execution_count": 33,
   "id": "72fed10c",
   "metadata": {},
   "outputs": [],
   "source": [
    "# Creating a Functional model that includes a subclassed model\n",
    "class Classifier(keras.Model):\n",
    "\n",
    "    def __init__(self, num_classes=2):\n",
    "        super().__init__()\n",
    "        if num_classes == 2:\n",
    "            num_units = 1\n",
    "            activation = \"sigmoid\"\n",
    "        else:\n",
    "            num_units = num_classes\n",
    "            activation = \"softmax\"\n",
    "        self.dense = layers.Dense(num_units, activation=activation)\n",
    "\n",
    "    def call(self, inputs):\n",
    "        return self.dense(inputs)\n",
    "\n",
    "inputs = keras.Input(shape=(3,))\n",
    "features = layers.Dense(64, activation=\"relu\")(inputs)\n",
    "outputs = Classifier(num_classes=10)(features)\n",
    "model = keras.Model(inputs=inputs, outputs=outputs)"
   ]
  },
  {
   "cell_type": "code",
   "execution_count": 34,
   "id": "f56356d1",
   "metadata": {},
   "outputs": [],
   "source": [
    "# Creating a subclassed model that includes a Functional model\n",
    "inputs = keras.Input(shape=(64,))\n",
    "outputs = layers.Dense(1, activation=\"sigmoid\")(inputs)\n",
    "binary_classifier = keras.Model(inputs=inputs, outputs=outputs)\n",
    "\n",
    "class MyModel(keras.Model):\n",
    "\n",
    "    def __init__(self, num_classes=2):\n",
    "        super().__init__()\n",
    "        self.dense = layers.Dense(64, activation=\"relu\")\n",
    "        self.classifier = binary_classifier\n",
    "\n",
    "    def call(self, inputs):\n",
    "        features = self.dense(inputs)\n",
    "        return self.classifier(features)\n",
    "\n",
    "model = MyModel()"
   ]
  },
  {
   "cell_type": "markdown",
   "id": "0d509833",
   "metadata": {},
   "source": [
    "### Using built-in Training & Evaluation Loops"
   ]
  },
  {
   "cell_type": "code",
   "execution_count": 35,
   "id": "f941170f",
   "metadata": {},
   "outputs": [
    {
     "name": "stdout",
     "output_type": "stream",
     "text": [
      "Epoch 1/3\n",
      "1563/1563 [==============================] - 2s 1ms/step - loss: 0.2930 - accuracy: 0.9140 - val_loss: 0.1452 - val_accuracy: 0.9584\n",
      "Epoch 2/3\n",
      "1563/1563 [==============================] - 2s 1ms/step - loss: 0.1656 - accuracy: 0.9541 - val_loss: 0.1210 - val_accuracy: 0.9683\n",
      "Epoch 3/3\n",
      "1563/1563 [==============================] - 2s 1ms/step - loss: 0.1389 - accuracy: 0.9627 - val_loss: 0.1126 - val_accuracy: 0.9722\n",
      "313/313 [==============================] - 0s 356us/step - loss: 0.1052 - accuracy: 0.9732\n",
      "313/313 [==============================] - 0s 333us/step\n"
     ]
    }
   ],
   "source": [
    "# The standard workflow:\n",
    "def get_mnist_model():\n",
    "    inputs = keras.Input(shape=(28 * 28,))\n",
    "    features = layers.Dense(512, activation=\"relu\")(inputs)\n",
    "    features = layers.Dropout(0.5)(features)\n",
    "    outputs = layers.Dense(10, activation=\"softmax\")(features)\n",
    "    model = keras.Model(inputs, outputs)\n",
    "    return model\n",
    "\n",
    "(images, labels), (test_images, test_labels) = mnist.load_data()\n",
    "\n",
    "images = images.reshape((60000, 28 * 28)).astype(\"float32\") / 255\n",
    "test_images = test_images.reshape((10000, 28 * 28)).astype(\"float32\") / 255\n",
    "train_images, val_images = images[10000:], images[:10000]\n",
    "train_labels, val_labels = labels[10000:], labels[:10000]\n",
    "\n",
    "model = get_mnist_model()\n",
    "\n",
    "model.compile(optimizer=\"rmsprop\",\n",
    "              loss=\"sparse_categorical_crossentropy\",\n",
    "              metrics=[\"accuracy\"])\n",
    "\n",
    "model.fit(train_images, train_labels,\n",
    "          epochs=3,\n",
    "          validation_data=(val_images, val_labels))\n",
    "\n",
    "test_metrics = model.evaluate(test_images, test_labels)\n",
    "predictions = model.predict(test_images)"
   ]
  },
  {
   "cell_type": "markdown",
   "id": "59d347b3",
   "metadata": {},
   "source": [
    "#### Writing your own metrics"
   ]
  },
  {
   "cell_type": "code",
   "execution_count": 36,
   "id": "2808b363",
   "metadata": {},
   "outputs": [],
   "source": [
    "# Implementing a custom metric by subclassing the Metric class\n",
    "\n",
    "class RootMeanSquaredError(keras.metrics.Metric):\n",
    "\n",
    "    def __init__(self, name=\"rmse\", **kwargs):\n",
    "        super().__init__(name=name, **kwargs)\n",
    "        self.mse_sum = self.add_weight(name=\"mse_sum\", initializer=\"zeros\")\n",
    "        self.total_samples = self.add_weight(\n",
    "            name=\"total_samples\", initializer=\"zeros\", dtype=\"int32\")\n",
    "\n",
    "    def update_state(self, y_true, y_pred, sample_weight=None):\n",
    "        y_true = tf.one_hot(y_true, depth=tf.shape(y_pred)[1])\n",
    "        mse = tf.reduce_sum(tf.square(y_true - y_pred))\n",
    "        self.mse_sum.assign_add(mse)\n",
    "        num_samples = tf.shape(y_pred)[0]\n",
    "        self.total_samples.assign_add(num_samples)\n",
    "\n",
    "    def result(self):\n",
    "        return tf.sqrt(self.mse_sum / tf.cast(self.total_samples, tf.float32))\n",
    "\n",
    "    def reset_state(self):\n",
    "        self.mse_sum.assign(0.)\n",
    "        self.total_samples.assign(0)"
   ]
  },
  {
   "cell_type": "code",
   "execution_count": 37,
   "id": "fcc13fb8",
   "metadata": {},
   "outputs": [
    {
     "name": "stdout",
     "output_type": "stream",
     "text": [
      "Epoch 1/3\n",
      "1563/1563 [==============================] - 2s 1ms/step - loss: 0.2964 - accuracy: 0.9118 - rmse: 7.1816 - val_loss: 0.1613 - val_accuracy: 0.9539 - val_rmse: 7.3526\n",
      "Epoch 2/3\n",
      "1563/1563 [==============================] - 2s 1ms/step - loss: 0.1679 - accuracy: 0.9539 - rmse: 7.3559 - val_loss: 0.1244 - val_accuracy: 0.9672 - val_rmse: 7.3981\n",
      "Epoch 3/3\n",
      "1563/1563 [==============================] - 2s 1ms/step - loss: 0.1412 - accuracy: 0.9623 - rmse: 7.3866 - val_loss: 0.1156 - val_accuracy: 0.9697 - val_rmse: 7.4149\n",
      "313/313 [==============================] - 0s 382us/step - loss: 0.1089 - accuracy: 0.9700 - rmse: 7.4245\n"
     ]
    }
   ],
   "source": [
    "model = get_mnist_model()\n",
    "model.compile(optimizer=\"rmsprop\",\n",
    "              loss=\"sparse_categorical_crossentropy\",\n",
    "              metrics=[\"accuracy\", RootMeanSquaredError()])\n",
    "model.fit(train_images, train_labels,\n",
    "          epochs=3,\n",
    "          validation_data=(val_images, val_labels))\n",
    "test_metrics = model.evaluate(test_images, test_labels)"
   ]
  },
  {
   "cell_type": "markdown",
   "id": "fe2fe0c3",
   "metadata": {},
   "source": [
    "#### Using Callbacks"
   ]
  },
  {
   "cell_type": "code",
   "execution_count": 38,
   "id": "3041f093",
   "metadata": {},
   "outputs": [
    {
     "data": {
      "text/plain": [
       "keras.src.callbacks.CSVLogger"
      ]
     },
     "execution_count": 38,
     "metadata": {},
     "output_type": "execute_result"
    }
   ],
   "source": [
    "keras.callbacks.ModelCheckpoint\n",
    "keras.callbacks.EarlyStopping\n",
    "keras.callbacks.LearningRateScheduler\n",
    "keras.callbacks.ReduceLROnPlateau\n",
    "keras.callbacks.CSVLogger"
   ]
  },
  {
   "cell_type": "markdown",
   "id": "0cbd006b",
   "metadata": {},
   "source": [
    "#### The EarlyStopping & ModelCheckpoint callbacks"
   ]
  },
  {
   "cell_type": "code",
   "execution_count": 39,
   "id": "3beae8df",
   "metadata": {},
   "outputs": [
    {
     "name": "stdout",
     "output_type": "stream",
     "text": [
      "Epoch 1/10\n",
      "1563/1563 [==============================] - 2s 1ms/step - loss: 0.2952 - accuracy: 0.9126 - val_loss: 0.1535 - val_accuracy: 0.9583\n",
      "Epoch 2/10\n",
      "1563/1563 [==============================] - 2s 1ms/step - loss: 0.1645 - accuracy: 0.9530 - val_loss: 0.1246 - val_accuracy: 0.9666\n",
      "Epoch 3/10\n",
      "1563/1563 [==============================] - 2s 1ms/step - loss: 0.1391 - accuracy: 0.9628 - val_loss: 0.1201 - val_accuracy: 0.9687\n",
      "Epoch 4/10\n",
      "1563/1563 [==============================] - 2s 1ms/step - loss: 0.1252 - accuracy: 0.9672 - val_loss: 0.1084 - val_accuracy: 0.9748\n",
      "Epoch 5/10\n",
      "1563/1563 [==============================] - 2s 1ms/step - loss: 0.1149 - accuracy: 0.9701 - val_loss: 0.1080 - val_accuracy: 0.9754\n",
      "Epoch 6/10\n",
      "1563/1563 [==============================] - 2s 1ms/step - loss: 0.1097 - accuracy: 0.9730 - val_loss: 0.1128 - val_accuracy: 0.9759\n",
      "Epoch 7/10\n",
      "1563/1563 [==============================] - 2s 1ms/step - loss: 0.1062 - accuracy: 0.9740 - val_loss: 0.1172 - val_accuracy: 0.9755\n",
      "Epoch 8/10\n",
      "1563/1563 [==============================] - 2s 1ms/step - loss: 0.1013 - accuracy: 0.9763 - val_loss: 0.1180 - val_accuracy: 0.9758\n"
     ]
    },
    {
     "data": {
      "text/plain": [
       "<keras.src.callbacks.History at 0x3212fac50>"
      ]
     },
     "execution_count": 39,
     "metadata": {},
     "output_type": "execute_result"
    }
   ],
   "source": [
    "# Using the callbacks argument in the fit() method\n",
    "callbacks_list = [\n",
    "    keras.callbacks.EarlyStopping(\n",
    "        monitor=\"val_accuracy\",\n",
    "        patience=2,\n",
    "    ),\n",
    "    keras.callbacks.ModelCheckpoint(\n",
    "        filepath=\"checkpoint_path.keras\",\n",
    "        monitor=\"val_loss\",\n",
    "        save_best_only=True,\n",
    "    )\n",
    "]\n",
    "model = get_mnist_model()\n",
    "\n",
    "model.compile(optimizer=\"rmsprop\",\n",
    "              loss=\"sparse_categorical_crossentropy\",\n",
    "              metrics=[\"accuracy\"])\n",
    "\n",
    "model.fit(train_images, train_labels,\n",
    "          epochs=10,\n",
    "          callbacks=callbacks_list,\n",
    "          validation_data=(val_images, val_labels))"
   ]
  },
  {
   "cell_type": "code",
   "execution_count": 40,
   "id": "8ff41244",
   "metadata": {},
   "outputs": [],
   "source": [
    "model = keras.models.load_model(\"checkpoint_path.keras\")"
   ]
  },
  {
   "cell_type": "markdown",
   "id": "f4cd70cc",
   "metadata": {},
   "source": [
    "#### Writing your own callbacks"
   ]
  },
  {
   "cell_type": "code",
   "execution_count": 45,
   "id": "8587084a",
   "metadata": {},
   "outputs": [],
   "source": [
    "# Creating a custom callback by subclassing the Callback class\n",
    "class LossHistory(keras.callbacks.Callback):\n",
    "    def on_train_begin(self, logs):\n",
    "        self.per_batch_losses = []\n",
    "\n",
    "    def on_batch_end(self, batch, logs):\n",
    "        self.per_batch_losses.append(logs.get(\"loss\"))\n",
    "\n",
    "    def on_epoch_end(self, epoch, logs):\n",
    "        plt.clf()\n",
    "        plt.plot(range(len(self.per_batch_losses)), self.per_batch_losses,\n",
    "                 label=\"Training loss for each batch\")\n",
    "        plt.xlabel(f\"Batch (epoch {epoch})\")\n",
    "        plt.ylabel(\"Loss\")\n",
    "        plt.legend()\n",
    "        plt.savefig(f\"plot_at_epoch_{epoch}\")\n",
    "        self.per_batch_losses = []"
   ]
  },
  {
   "cell_type": "code",
   "execution_count": 46,
   "id": "acfd3352",
   "metadata": {},
   "outputs": [
    {
     "name": "stdout",
     "output_type": "stream",
     "text": [
      "Epoch 1/10\n",
      "1563/1563 [==============================] - 2s 1ms/step - loss: 0.2948 - accuracy: 0.9126 - val_loss: 0.1611 - val_accuracy: 0.9516\n",
      "Epoch 2/10\n",
      "1563/1563 [==============================] - 2s 1ms/step - loss: 0.1667 - accuracy: 0.9539 - val_loss: 0.1251 - val_accuracy: 0.9659\n",
      "Epoch 3/10\n",
      "1563/1563 [==============================] - 2s 1ms/step - loss: 0.1380 - accuracy: 0.9616 - val_loss: 0.1167 - val_accuracy: 0.9705\n",
      "Epoch 4/10\n",
      "1563/1563 [==============================] - 2s 1ms/step - loss: 0.1257 - accuracy: 0.9672 - val_loss: 0.1111 - val_accuracy: 0.9718\n",
      "Epoch 5/10\n",
      "1563/1563 [==============================] - 2s 1ms/step - loss: 0.1170 - accuracy: 0.9700 - val_loss: 0.1028 - val_accuracy: 0.9763\n",
      "Epoch 6/10\n",
      "1563/1563 [==============================] - 2s 1ms/step - loss: 0.1140 - accuracy: 0.9714 - val_loss: 0.0951 - val_accuracy: 0.9794\n",
      "Epoch 7/10\n",
      "1563/1563 [==============================] - 2s 1ms/step - loss: 0.1057 - accuracy: 0.9746 - val_loss: 0.1133 - val_accuracy: 0.9767\n",
      "Epoch 8/10\n",
      "1563/1563 [==============================] - 2s 1ms/step - loss: 0.1017 - accuracy: 0.9762 - val_loss: 0.1165 - val_accuracy: 0.9765\n",
      "Epoch 9/10\n",
      "1563/1563 [==============================] - 2s 1ms/step - loss: 0.0997 - accuracy: 0.9774 - val_loss: 0.1118 - val_accuracy: 0.9782\n",
      "Epoch 10/10\n",
      "1563/1563 [==============================] - 2s 1ms/step - loss: 0.0945 - accuracy: 0.9784 - val_loss: 0.1153 - val_accuracy: 0.9789\n"
     ]
    },
    {
     "data": {
      "text/plain": [
       "<keras.src.callbacks.History at 0x3b113ac90>"
      ]
     },
     "execution_count": 46,
     "metadata": {},
     "output_type": "execute_result"
    },
    {
     "data": {
      "image/png": "[encoded data removed]",
      "text/plain": [
       "<Figure size 640x480 with 1 Axes>"
      ]
     },
     "metadata": {},
     "output_type": "display_data"
    }
   ],
   "source": [
    "model = get_mnist_model()\n",
    "model.compile(optimizer=\"rmsprop\",\n",
    "              loss=\"sparse_categorical_crossentropy\",\n",
    "              metrics=[\"accuracy\"])\n",
    "model.fit(train_images, train_labels,\n",
    "          epochs=10,\n",
    "          callbacks=[LossHistory()],\n",
    "          validation_data=(val_images, val_labels))"
   ]
  },
  {
   "cell_type": "markdown",
   "id": "2cc38455",
   "metadata": {},
   "source": [
    "#### Monitoring & Visualization with TensorBoard"
   ]
  },
  {
   "cell_type": "code",
   "execution_count": 52,
   "id": "b98fdc54",
   "metadata": {},
   "outputs": [
    {
     "name": "stdout",
     "output_type": "stream",
     "text": [
      "Epoch 1/10\n",
      "1563/1563 [==============================] - 2s 1ms/step - loss: 0.2934 - accuracy: 0.9130 - val_loss: 0.1500 - val_accuracy: 0.9577\n",
      "Epoch 2/10\n",
      "1563/1563 [==============================] - 2s 1ms/step - loss: 0.1618 - accuracy: 0.9540 - val_loss: 0.1273 - val_accuracy: 0.9667\n",
      "Epoch 3/10\n",
      "1563/1563 [==============================] - 2s 1ms/step - loss: 0.1387 - accuracy: 0.9624 - val_loss: 0.1152 - val_accuracy: 0.9723\n",
      "Epoch 4/10\n",
      "1563/1563 [==============================] - 2s 1ms/step - loss: 0.1262 - accuracy: 0.9670 - val_loss: 0.1137 - val_accuracy: 0.9724\n",
      "Epoch 5/10\n",
      "1563/1563 [==============================] - 2s 1ms/step - loss: 0.1151 - accuracy: 0.9708 - val_loss: 0.1102 - val_accuracy: 0.9750\n",
      "Epoch 6/10\n",
      "1563/1563 [==============================] - 2s 1ms/step - loss: 0.1097 - accuracy: 0.9728 - val_loss: 0.1273 - val_accuracy: 0.9734\n",
      "Epoch 7/10\n",
      "1563/1563 [==============================] - 2s 1ms/step - loss: 0.1064 - accuracy: 0.9743 - val_loss: 0.1175 - val_accuracy: 0.9767\n",
      "Epoch 8/10\n",
      "1563/1563 [==============================] - 2s 1ms/step - loss: 0.1013 - accuracy: 0.9765 - val_loss: 0.1175 - val_accuracy: 0.9776\n",
      "Epoch 9/10\n",
      "1563/1563 [==============================] - 2s 1ms/step - loss: 0.0952 - accuracy: 0.9779 - val_loss: 0.1159 - val_accuracy: 0.9792\n",
      "Epoch 10/10\n",
      "1563/1563 [==============================] - 2s 1ms/step - loss: 0.0933 - accuracy: 0.9787 - val_loss: 0.1197 - val_accuracy: 0.9781\n"
     ]
    },
    {
     "data": {
      "text/plain": [
       "<keras.src.callbacks.History at 0x3d1dc2550>"
      ]
     },
     "execution_count": 52,
     "metadata": {},
     "output_type": "execute_result"
    }
   ],
   "source": [
    "model = get_mnist_model()\n",
    "model.compile(optimizer=\"rmsprop\",\n",
    "              loss=\"sparse_categorical_crossentropy\",\n",
    "              metrics=[\"accuracy\"])\n",
    "\n",
    "tensorboard = keras.callbacks.TensorBoard(\n",
    "    log_dir=\"/Users/isisromero/logs\",\n",
    ")\n",
    "model.fit(train_images, train_labels,\n",
    "          epochs=10,\n",
    "          validation_data=(val_images, val_labels),\n",
    "          callbacks=[tensorboard])"
   ]
  },
  {
   "cell_type": "code",
   "execution_count": 58,
   "id": "2976f104",
   "metadata": {},
   "outputs": [],
   "source": [
    "os.environ['TENSORBOARD_BINARY'] = '/Users/isisromero/anaconda3/envs/ml_env/bin/tensorboard'"
   ]
  },
  {
   "cell_type": "code",
   "execution_count": 59,
   "id": "75671d49",
   "metadata": {},
   "outputs": [
    {
     "data": {
      "text/html": [
       "\n",
       "      <iframe id=\"tensorboard-frame-f5ef70a2a7802e36\" width=\"100%\" height=\"800\" frameborder=\"0\">\n",
       "      </iframe>\n",
       "      <script>\n",
       "        (function() {\n",
       "          const frame = document.getElementById(\"tensorboard-frame-f5ef70a2a7802e36\");\n",
       "          const url = new URL(\"/\", window.location);\n",
       "          const port = 6006;\n",
       "          if (port) {\n",
       "            url.port = port;\n",
       "          }\n",
       "          frame.src = url;\n",
       "        })();\n",
       "      </script>\n",
       "    "
      ],
      "text/plain": [
       "<IPython.core.display.HTML object>"
      ]
     },
     "metadata": {},
     "output_type": "display_data"
    }
   ],
   "source": [
    "%reload_ext tensorboard\n",
    "%tensorboard --logdir /Users/isisromero/logs"
   ]
  },
  {
   "cell_type": "markdown",
   "id": "bf684e7a",
   "metadata": {},
   "source": [
    "### Writing your own Training and Evaluation Loops\n",
    "\n",
    "#### Low-level usage of metrics"
   ]
  },
  {
   "cell_type": "code",
   "execution_count": 60,
   "id": "21fa7dfd",
   "metadata": {},
   "outputs": [
    {
     "name": "stdout",
     "output_type": "stream",
     "text": [
      "result: 1.00\n"
     ]
    }
   ],
   "source": [
    "metric = keras.metrics.SparseCategoricalAccuracy()\n",
    "targets = [0, 1, 2]\n",
    "predictions = [[1, 0, 0], [0, 1, 0], [0, 0, 1]]\n",
    "metric.update_state(targets, predictions)\n",
    "current_result = metric.result()\n",
    "print(f\"result: {current_result:.2f}\")"
   ]
  },
  {
   "cell_type": "code",
   "execution_count": 61,
   "id": "b97f5cf7",
   "metadata": {},
   "outputs": [
    {
     "name": "stdout",
     "output_type": "stream",
     "text": [
      "Mean of values: 2.00\n"
     ]
    }
   ],
   "source": [
    "values = [0, 1, 2, 3, 4]\n",
    "mean_tracker = keras.metrics.Mean()\n",
    "for value in values:\n",
    "    mean_tracker.update_state(value)\n",
    "print(f\"Mean of values: {mean_tracker.result():.2f}\")"
   ]
  },
  {
   "cell_type": "markdown",
   "id": "f4dcc29d",
   "metadata": {},
   "source": [
    "#### A complete training and evaluation loop"
   ]
  },
  {
   "cell_type": "code",
   "execution_count": 63,
   "id": "be688947",
   "metadata": {},
   "outputs": [],
   "source": [
    "# Writing a step-by-step training loop: the training step function\n",
    "\n",
    "\n",
    "model = get_mnist_model()\n",
    "\n",
    "loss_fn = keras.losses.SparseCategoricalCrossentropy()\n",
    "optimizer = keras.optimizers.legacy.RMSprop()\n",
    "metrics = [keras.metrics.SparseCategoricalAccuracy()]\n",
    "loss_tracking_metric = keras.metrics.Mean()\n",
    "\n",
    "def train_step(inputs, targets):\n",
    "    with tf.GradientTape() as tape:\n",
    "        predictions = model(inputs, training=True)\n",
    "        loss = loss_fn(targets, predictions)\n",
    "    gradients = tape.gradient(loss, model.trainable_weights)\n",
    "    optimizer.apply_gradients(zip(gradients, model.trainable_weights))\n",
    "\n",
    "    logs = {}\n",
    "    for metric in metrics:\n",
    "        metric.update_state(targets, predictions)\n",
    "        logs[metric.name] = metric.result()\n",
    "\n",
    "    loss_tracking_metric.update_state(loss)\n",
    "    logs[\"loss\"] = loss_tracking_metric.result()\n",
    "    return logs"
   ]
  },
  {
   "cell_type": "code",
   "execution_count": 64,
   "id": "1a3e27c4",
   "metadata": {},
   "outputs": [],
   "source": [
    "# Writing a step-by-step training loop: resetting the metrics\n",
    "def reset_metrics():\n",
    "    for metric in metrics:\n",
    "        metric.reset_state()\n",
    "    loss_tracking_metric.reset_state()"
   ]
  },
  {
   "cell_type": "code",
   "execution_count": 65,
   "id": "d9ac5ed9",
   "metadata": {},
   "outputs": [
    {
     "name": "stdout",
     "output_type": "stream",
     "text": [
      "Results at the end of epoch 0\n",
      "...sparse_categorical_accuracy: 0.9141\n",
      "...loss: 0.2911\n",
      "Results at the end of epoch 1\n",
      "...sparse_categorical_accuracy: 0.9542\n",
      "...loss: 0.1654\n",
      "Results at the end of epoch 2\n",
      "...sparse_categorical_accuracy: 0.9640\n",
      "...loss: 0.1408\n"
     ]
    }
   ],
   "source": [
    "# Writing a step-by-step training loop: the loop itself\n",
    "training_dataset = tf.data.Dataset.from_tensor_slices((train_images, train_labels))\n",
    "training_dataset = training_dataset.batch(32)\n",
    "epochs = 3\n",
    "for epoch in range(epochs):\n",
    "    reset_metrics()\n",
    "    for inputs_batch, targets_batch in training_dataset:\n",
    "        logs = train_step(inputs_batch, targets_batch)\n",
    "    print(f\"Results at the end of epoch {epoch}\")\n",
    "    for key, value in logs.items():\n",
    "        print(f\"...{key}: {value:.4f}\")"
   ]
  },
  {
   "cell_type": "code",
   "execution_count": 66,
   "id": "4a29515f",
   "metadata": {},
   "outputs": [
    {
     "name": "stdout",
     "output_type": "stream",
     "text": [
      "Evaluation results:\n",
      "...val_sparse_categorical_accuracy: 0.9666\n",
      "...val_loss: 0.1297\n"
     ]
    }
   ],
   "source": [
    "# Writing a step-by-step evaluation loop\n",
    "def test_step(inputs, targets):\n",
    "    predictions = model(inputs, training=False)\n",
    "    loss = loss_fn(targets, predictions)\n",
    "\n",
    "    logs = {}\n",
    "    for metric in metrics:\n",
    "        metric.update_state(targets, predictions)\n",
    "        logs[\"val_\" + metric.name] = metric.result()\n",
    "\n",
    "    loss_tracking_metric.update_state(loss)\n",
    "    logs[\"val_loss\"] = loss_tracking_metric.result()\n",
    "    return logs\n",
    "\n",
    "val_dataset = tf.data.Dataset.from_tensor_slices((val_images, val_labels))\n",
    "val_dataset = val_dataset.batch(32)\n",
    "reset_metrics()\n",
    "for inputs_batch, targets_batch in val_dataset:\n",
    "    logs = test_step(inputs_batch, targets_batch)\n",
    "print(\"Evaluation results:\")\n",
    "for key, value in logs.items():\n",
    "    print(f\"...{key}: {value:.4f}\")"
   ]
  },
  {
   "cell_type": "markdown",
   "id": "2301d7de",
   "metadata": {},
   "source": [
    "#### Make it fast with tf.function"
   ]
  },
  {
   "cell_type": "code",
   "execution_count": 67,
   "id": "3a7dad7c",
   "metadata": {},
   "outputs": [
    {
     "name": "stdout",
     "output_type": "stream",
     "text": [
      "Evaluation results:\n",
      "...val_sparse_categorical_accuracy: 0.9666\n",
      "...val_loss: 0.1297\n"
     ]
    }
   ],
   "source": [
    "# Adding a tf.function decorator to our evaluation-step function\n",
    "@tf.function\n",
    "def test_step(inputs, targets):\n",
    "    predictions = model(inputs, training=False)\n",
    "    loss = loss_fn(targets, predictions)\n",
    "\n",
    "    logs = {}\n",
    "    for metric in metrics:\n",
    "        metric.update_state(targets, predictions)\n",
    "        logs[\"val_\" + metric.name] = metric.result()\n",
    "\n",
    "    loss_tracking_metric.update_state(loss)\n",
    "    logs[\"val_loss\"] = loss_tracking_metric.result()\n",
    "    return logs\n",
    "\n",
    "val_dataset = tf.data.Dataset.from_tensor_slices((val_images, val_labels))\n",
    "val_dataset = val_dataset.batch(32)\n",
    "reset_metrics()\n",
    "for inputs_batch, targets_batch in val_dataset:\n",
    "    logs = test_step(inputs_batch, targets_batch)\n",
    "print(\"Evaluation results:\")\n",
    "for key, value in logs.items():\n",
    "    print(f\"...{key}: {value:.4f}\")"
   ]
  },
  {
   "cell_type": "markdown",
   "id": "15ce57ea",
   "metadata": {},
   "source": [
    "#### Leveraging fit() with a custom training loop"
   ]
  },
  {
   "cell_type": "code",
   "execution_count": 68,
   "id": "6b10832d",
   "metadata": {},
   "outputs": [],
   "source": [
    "# Implementing a custom training step to use with fit()\n",
    "loss_fn = keras.losses.SparseCategoricalCrossentropy()\n",
    "loss_tracker = keras.metrics.Mean(name=\"loss\")\n",
    "\n",
    "class CustomModel(keras.Model):\n",
    "    def train_step(self, data):\n",
    "        inputs, targets = data\n",
    "        with tf.GradientTape() as tape:\n",
    "            predictions = self(inputs, training=True)\n",
    "            loss = loss_fn(targets, predictions)\n",
    "        gradients = tape.gradient(loss, self.trainable_weights)\n",
    "        self.optimizer.apply_gradients(zip(gradients, self.trainable_weights))\n",
    "\n",
    "        loss_tracker.update_state(loss)\n",
    "        return {\"loss\": loss_tracker.result()}\n",
    "\n",
    "    @property\n",
    "    def metrics(self):\n",
    "        return [loss_tracker]"
   ]
  },
  {
   "cell_type": "code",
   "execution_count": 70,
   "id": "53accc3d",
   "metadata": {},
   "outputs": [
    {
     "name": "stdout",
     "output_type": "stream",
     "text": [
      "Epoch 1/3\n",
      "1563/1563 [==============================] - 2s 1ms/step - loss: 0.2954 - accuracy: 0.9120\n",
      "Epoch 2/3\n",
      "1563/1563 [==============================] - 2s 998us/step - loss: 0.1678 - accuracy: 0.9522\n",
      "Epoch 3/3\n",
      "1563/1563 [==============================] - 2s 1ms/step - loss: 0.1406 - accuracy: 0.9621\n"
     ]
    },
    {
     "data": {
      "text/plain": [
       "<keras.src.callbacks.History at 0x3c5a74bd0>"
      ]
     },
     "execution_count": 70,
     "metadata": {},
     "output_type": "execute_result"
    }
   ],
   "source": [
    "inputs = keras.Input(shape=(28 * 28,))\n",
    "features = layers.Dense(512, activation=\"relu\")(inputs)\n",
    "features = layers.Dropout(0.5)(features)\n",
    "outputs = layers.Dense(10, activation=\"softmax\")(features)\n",
    "model = keras.Model(inputs, outputs)\n",
    "\n",
    "\n",
    "optimizer = keras.optimizers.legacy.RMSprop()\n",
    "\n",
    "model.compile(optimizer=optimizer, loss='sparse_categorical_crossentropy', metrics=['accuracy'])\n",
    "\n",
    "model.fit(train_images, train_labels, epochs=3)\n"
   ]
  },
  {
   "cell_type": "code",
   "execution_count": 71,
   "id": "aba19712",
   "metadata": {},
   "outputs": [],
   "source": [
    "class CustomModel(keras.Model):\n",
    "    def train_step(self, data):\n",
    "        inputs, targets = data\n",
    "        with tf.GradientTape() as tape:\n",
    "            predictions = self(inputs, training=True)\n",
    "            loss = self.compiled_loss(targets, predictions)\n",
    "        gradients = tape.gradient(loss, self.trainable_weights)\n",
    "        self.optimizer.apply_gradients(zip(gradients, self.trainable_weights))\n",
    "        self.compiled_metrics.update_state(targets, predictions)\n",
    "        return {m.name: m.result() for m in self.metrics}"
   ]
  },
  {
   "cell_type": "code",
   "execution_count": 73,
   "id": "c8935f78",
   "metadata": {},
   "outputs": [
    {
     "name": "stdout",
     "output_type": "stream",
     "text": [
      "Epoch 1/3\n",
      "1563/1563 [==============================] - 2s 1ms/step - loss: 0.2959 - sparse_categorical_accuracy: 0.9123\n",
      "Epoch 2/3\n",
      "1563/1563 [==============================] - 2s 1ms/step - loss: 0.1643 - sparse_categorical_accuracy: 0.9529\n",
      "Epoch 3/3\n",
      "1563/1563 [==============================] - 2s 990us/step - loss: 0.1363 - sparse_categorical_accuracy: 0.9630\n"
     ]
    },
    {
     "data": {
      "text/plain": [
       "<keras.src.callbacks.History at 0x3c60f9fd0>"
      ]
     },
     "execution_count": 73,
     "metadata": {},
     "output_type": "execute_result"
    }
   ],
   "source": [
    "\n",
    "inputs = keras.Input(shape=(28 * 28,))\n",
    "features = layers.Dense(512, activation=\"relu\")(inputs)\n",
    "features = layers.Dropout(0.5)(features)\n",
    "outputs = layers.Dense(10, activation=\"softmax\")(features)\n",
    "model = keras.Model(inputs, outputs) \n",
    "\n",
    "\n",
    "optimizer = keras.optimizers.legacy.RMSprop()\n",
    "\n",
    "model.compile(optimizer=optimizer,\n",
    "              loss=keras.losses.SparseCategoricalCrossentropy(),\n",
    "              metrics=[keras.metrics.SparseCategoricalAccuracy()])\n",
    "\n",
    "model.fit(train_images, train_labels, epochs=3)\n"
   ]
  },
  {
   "cell_type": "code",
   "execution_count": null,
   "id": "45bbcb22",
   "metadata": {},
   "outputs": [],
   "source": []
  }
 ],
 "metadata": {
  "kernelspec": {
   "display_name": "Python 3 (ipykernel)",
   "language": "python",
   "name": "python3"
  },
  "language_info": {
   "codemirror_mode": {
    "name": "ipython",
    "version": 3
   },
   "file_extension": ".py",
   "mimetype": "text/x-python",
   "name": "python",
   "nbconvert_exporter": "python",
   "pygments_lexer": "ipython3",
   "version": "3.11.7"
  }
 },
 "nbformat": 4,
 "nbformat_minor": 5
}
