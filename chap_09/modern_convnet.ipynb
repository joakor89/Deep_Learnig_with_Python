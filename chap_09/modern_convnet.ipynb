{
 "cells": [
  {
   "cell_type": "markdown",
   "id": "076359df",
   "metadata": {},
   "source": [
    "# Modern ConvNet Architecture Patterns\n",
    "\n",
    "### Loading Libraries"
   ]
  },
  {
   "cell_type": "code",
   "execution_count": null,
   "id": "b37d1250",
   "metadata": {},
   "outputs": [],
   "source": [
    "import tensorflow as tf\n",
    "from tensorflow import keras\n",
    "from tensorflow.keras import models\n",
    "from tensorflow.keras import layers\n",
    "from tensorflow.keras.utils import to_categorical\n",
    "from tensorflow.keras import regularizers\n",
    "from tensorflow.keras.utils import load_img, img_to_array\n",
    "from tensorflow.keras.utils import image_dataset_from_directory\n",
    "\n",
    "# TensorFlow Datasets\n",
    "from tensorflow.keras.datasets import mnist\n",
    "from tensorflow.keras.datasets import imdb\n",
    "from tensorflow.keras.datasets import reuters\n",
    "from tensorflow.keras.datasets import boston_housing\n",
    "\n",
    "# Math Computing\n",
    "import numpy as np\n",
    "\n",
    "# Data Visualization\n",
    "import matplotlib.pyplot as plt\n",
    "\n",
    "# Operating System\n",
    "import os, shutil, pathlib\n",
    "import random\n",
    "from google.colab import files"
   ]
  },
  {
   "cell_type": "code",
   "execution_count": 1,
   "id": "e77f7633",
   "metadata": {},
   "outputs": [],
   "source": [
    "# Residual block where the number of filters changes \n",
    "\n",
    "# inputs = keras.Input(shape=(32, 32, 3))\n",
    "# x = layers.Conv2D(32, 3, activation=\"relu\")(inputs)\n",
    "# residual = x\n",
    "# x = layers.Conv2D(64, 3, activation=\"relu\", padding=\"same\")(x)\n",
    "# residual = layers.Conv2D(64, 1)(residual)\n",
    "# x = layers.add([x, residual])"
   ]
  },
  {
   "cell_type": "code",
   "execution_count": 2,
   "id": "2983f47a",
   "metadata": {},
   "outputs": [],
   "source": [
    "# Case where target block includes a max pooling layer\n",
    "\n",
    "# inputs = keras.Input(shape=(32, 32, 3))\n",
    "# x = layers.Conv2D(32, 3, activation=\"relu\")(inputs)\n",
    "# residual = x\n",
    "# x = layers.Conv2D(64, 3, activation=\"relu\", padding=\"same\")(x)\n",
    "# x = layers.MaxPooling2D(2, padding=\"same\")(x)\n",
    "# residual = layers.Conv2D(64, 1, strides=2)(residual)\n",
    "# x = layers.add([x, residual])"
   ]
  },
  {
   "cell_type": "code",
   "execution_count": 3,
   "id": "fdf43cde",
   "metadata": {},
   "outputs": [],
   "source": [
    "# inputs = keras.Input(shape=(32, 32, 3))\n",
    "# x = layers.Rescaling(1./255)(inputs)\n",
    "\n",
    "# def residual_block(x, filters, pooling=False):\n",
    "#     residual = x\n",
    "#     x = layers.Conv2D(filters, 3, activation=\"relu\", padding=\"same\")(x)\n",
    "#     x = layers.Conv2D(filters, 3, activation=\"relu\", padding=\"same\")(x)\n",
    "#     if pooling:\n",
    "#         x = layers.MaxPooling2D(2, padding=\"same\")(x)\n",
    "#         residual = layers.Conv2D(filters, 1, strides=2)(residual)\n",
    "#     elif filters != residual.shape[-1]:\n",
    "#         residual = layers.Conv2D(filters, 1)(residual)\n",
    "#     x = layers.add([x, residual])\n",
    "#     return x\n",
    "\n",
    "# x = residual_block(x, filters=32, pooling=True)\n",
    "# x = residual_block(x, filters=64, pooling=True)\n",
    "# x = residual_block(x, filters=128, pooling=False)\n",
    "\n",
    "# x = layers.GlobalAveragePooling2D()(x)\n",
    "# outputs = layers.Dense(1, activation=\"sigmoid\")(x)\n",
    "# model = keras.Model(inputs=inputs, outputs=outputs)\n",
    "# model.summary()"
   ]
  },
  {
   "cell_type": "markdown",
   "id": "0b90a973",
   "metadata": {},
   "source": [
    "#### Batch normalization\n",
    "#### Depthwise separable convolutions\n",
    "\n",
    "#### Putting it together: A mini Xception-like model"
   ]
  },
  {
   "cell_type": "code",
   "execution_count": 4,
   "id": "64f466d3",
   "metadata": {},
   "outputs": [],
   "source": [
    "# from google.colab import files\n",
    "# files.upload()"
   ]
  },
  {
   "cell_type": "code",
   "execution_count": 5,
   "id": "15efea85",
   "metadata": {},
   "outputs": [],
   "source": [
    "# !mkdir ~/.kaggle\n",
    "# !cp kaggle.json ~/.kaggle/\n",
    "# !chmod 600 ~/.kaggle/kaggle.json\n",
    "# !kaggle competitions download -c dogs-vs-cats\n",
    "# !unzip -qq train.zip"
   ]
  },
  {
   "cell_type": "code",
   "execution_count": 6,
   "id": "9350da13",
   "metadata": {},
   "outputs": [],
   "source": [
    "# original_dir = pathlib.Path(\"train\")\n",
    "# new_base_dir = pathlib.Path(\"cats_vs_dogs_small\")\n",
    "\n",
    "# def make_subset(subset_name, start_index, end_index):\n",
    "#     for category in (\"cat\", \"dog\"):\n",
    "#         dir = new_base_dir / subset_name / category\n",
    "#         os.makedirs(dir)\n",
    "#         fnames = [f\"{category}.{i}.jpg\" for i in range(start_index, end_index)]\n",
    "#         for fname in fnames:\n",
    "#             shutil.copyfile(src=original_dir / fname,\n",
    "#                             dst=dir / fname)\n",
    "\n",
    "# make_subset(\"train\", start_index=0, end_index=1000)\n",
    "# make_subset(\"validation\", start_index=1000, end_index=1500)\n",
    "# make_subset(\"test\", start_index=1500, end_index=2500)\n",
    "\n",
    "# train_dataset = image_dataset_from_directory(\n",
    "#     new_base_dir / \"train\",\n",
    "#     image_size=(180, 180),\n",
    "#     batch_size=32)\n",
    "# validation_dataset = image_dataset_from_directory(\n",
    "#     new_base_dir / \"validation\",\n",
    "#     image_size=(180, 180),\n",
    "#     batch_size=32)\n",
    "# test_dataset = image_dataset_from_directory(\n",
    "#     new_base_dir / \"test\",\n",
    "#     image_size=(180, 180),\n",
    "#     batch_size=32)"
   ]
  },
  {
   "cell_type": "code",
   "execution_count": 7,
   "id": "0144f467",
   "metadata": {},
   "outputs": [],
   "source": [
    "# data_augmentation = keras.Sequential(\n",
    "#     [\n",
    "#         layers.RandomFlip(\"horizontal\"),\n",
    "#         layers.RandomRotation(0.1),\n",
    "#         layers.RandomZoom(0.2),\n",
    "#     ]\n",
    "# )"
   ]
  },
  {
   "cell_type": "code",
   "execution_count": 8,
   "id": "979a8cd3",
   "metadata": {},
   "outputs": [],
   "source": [
    "# inputs = keras.Input(shape=(180, 180, 3))\n",
    "# x = data_augmentation(inputs)\n",
    "\n",
    "# x = layers.Rescaling(1./255)(x)\n",
    "# x = layers.Conv2D(filters=32, kernel_size=5, use_bias=False)(x)\n",
    "\n",
    "# for size in [32, 64, 128, 256, 512]:\n",
    "#     residual = x\n",
    "\n",
    "#     x = layers.BatchNormalization()(x)\n",
    "#     x = layers.Activation(\"relu\")(x)\n",
    "#     x = layers.SeparableConv2D(size, 3, padding=\"same\", use_bias=False)(x)\n",
    "\n",
    "#     x = layers.BatchNormalization()(x)\n",
    "#     x = layers.Activation(\"relu\")(x)\n",
    "#     x = layers.SeparableConv2D(size, 3, padding=\"same\", use_bias=False)(x)\n",
    "\n",
    "#     x = layers.MaxPooling2D(3, strides=2, padding=\"same\")(x)\n",
    "\n",
    "#     residual = layers.Conv2D(\n",
    "#         size, 1, strides=2, padding=\"same\", use_bias=False)(residual)\n",
    "#     x = layers.add([x, residual])\n",
    "\n",
    "# x = layers.GlobalAveragePooling2D()(x)\n",
    "# x = layers.Dropout(0.5)(x)\n",
    "# outputs = layers.Dense(1, activation=\"sigmoid\")(x)\n",
    "# model = keras.Model(inputs=inputs, outputs=outputs)"
   ]
  },
  {
   "cell_type": "code",
   "execution_count": null,
   "id": "31becd9b",
   "metadata": {},
   "outputs": [],
   "source": []
  }
 ],
 "metadata": {
  "kernelspec": {
   "display_name": "Python 3 (ipykernel)",
   "language": "python",
   "name": "python3"
  },
  "language_info": {
   "codemirror_mode": {
    "name": "ipython",
    "version": 3
   },
   "file_extension": ".py",
   "mimetype": "text/x-python",
   "name": "python",
   "nbconvert_exporter": "python",
   "pygments_lexer": "ipython3",
   "version": "3.11.7"
  }
 },
 "nbformat": 4,
 "nbformat_minor": 5
}
