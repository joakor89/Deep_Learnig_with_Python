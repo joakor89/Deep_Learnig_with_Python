{
 "cells": [
  {
   "cell_type": "markdown",
   "id": "9258ebd2",
   "metadata": {},
   "source": [
    "# Getting Started with Neural Networks: Classification & Regression\n",
    "\n",
    "### Loading Libraries"
   ]
  },
  {
   "cell_type": "code",
   "execution_count": 71,
   "id": "4d4ba0cf",
   "metadata": {},
   "outputs": [],
   "source": [
    "import tensorflow as tf\n",
    "from tensorflow import keras\n",
    "from tensorflow.keras import models\n",
    "from tensorflow.keras import layers\n",
    "from tensorflow.keras.utils import to_categorical\n",
    "\n",
    "# TensorFlow Datasets\n",
    "from tensorflow.keras.datasets import imdb\n",
    "from tensorflow.keras.datasets import reuters\n",
    "\n",
    "# Math Computing\n",
    "import numpy as np\n",
    "\n",
    "# Data Visualization\n",
    "import matplotlib.pyplot as plt\n",
    "\n",
    "# Copy\n",
    "import copy"
   ]
  },
  {
   "cell_type": "markdown",
   "id": "9137cf8f",
   "metadata": {},
   "source": [
    "### Loading Data - Classifying Movie Reviews: A binary classification example"
   ]
  },
  {
   "cell_type": "code",
   "execution_count": 83,
   "id": "fe97e313",
   "metadata": {},
   "outputs": [],
   "source": [
    "# Data Uploading\n",
    "(train_data, train_labels), (test_data, test_labels) = imdb.load_data(num_words=10000) "
   ]
  },
  {
   "cell_type": "code",
   "execution_count": 84,
   "id": "9a7d6f04",
   "metadata": {},
   "outputs": [
    {
     "data": {
      "text/plain": [
       "[1,\n",
       " 14,\n",
       " 22,\n",
       " 16,\n",
       " 43,\n",
       " 530,\n",
       " 973,\n",
       " 1622,\n",
       " 1385,\n",
       " 65,\n",
       " 458,\n",
       " 4468,\n",
       " 66,\n",
       " 3941,\n",
       " 4,\n",
       " 173,\n",
       " 36,\n",
       " 256,\n",
       " 5,\n",
       " 25,\n",
       " 100,\n",
       " 43,\n",
       " 838,\n",
       " 112,\n",
       " 50,\n",
       " 670,\n",
       " 2,\n",
       " 9,\n",
       " 35,\n",
       " 480,\n",
       " 284,\n",
       " 5,\n",
       " 150,\n",
       " 4,\n",
       " 172,\n",
       " 112,\n",
       " 167,\n",
       " 2,\n",
       " 336,\n",
       " 385,\n",
       " 39,\n",
       " 4,\n",
       " 172,\n",
       " 4536,\n",
       " 1111,\n",
       " 17,\n",
       " 546,\n",
       " 38,\n",
       " 13,\n",
       " 447,\n",
       " 4,\n",
       " 192,\n",
       " 50,\n",
       " 16,\n",
       " 6,\n",
       " 147,\n",
       " 2025,\n",
       " 19,\n",
       " 14,\n",
       " 22,\n",
       " 4,\n",
       " 1920,\n",
       " 4613,\n",
       " 469,\n",
       " 4,\n",
       " 22,\n",
       " 71,\n",
       " 87,\n",
       " 12,\n",
       " 16,\n",
       " 43,\n",
       " 530,\n",
       " 38,\n",
       " 76,\n",
       " 15,\n",
       " 13,\n",
       " 1247,\n",
       " 4,\n",
       " 22,\n",
       " 17,\n",
       " 515,\n",
       " 17,\n",
       " 12,\n",
       " 16,\n",
       " 626,\n",
       " 18,\n",
       " 2,\n",
       " 5,\n",
       " 62,\n",
       " 386,\n",
       " 12,\n",
       " 8,\n",
       " 316,\n",
       " 8,\n",
       " 106,\n",
       " 5,\n",
       " 4,\n",
       " 2223,\n",
       " 5244,\n",
       " 16,\n",
       " 480,\n",
       " 66,\n",
       " 3785,\n",
       " 33,\n",
       " 4,\n",
       " 130,\n",
       " 12,\n",
       " 16,\n",
       " 38,\n",
       " 619,\n",
       " 5,\n",
       " 25,\n",
       " 124,\n",
       " 51,\n",
       " 36,\n",
       " 135,\n",
       " 48,\n",
       " 25,\n",
       " 1415,\n",
       " 33,\n",
       " 6,\n",
       " 22,\n",
       " 12,\n",
       " 215,\n",
       " 28,\n",
       " 77,\n",
       " 52,\n",
       " 5,\n",
       " 14,\n",
       " 407,\n",
       " 16,\n",
       " 82,\n",
       " 2,\n",
       " 8,\n",
       " 4,\n",
       " 107,\n",
       " 117,\n",
       " 5952,\n",
       " 15,\n",
       " 256,\n",
       " 4,\n",
       " 2,\n",
       " 7,\n",
       " 3766,\n",
       " 5,\n",
       " 723,\n",
       " 36,\n",
       " 71,\n",
       " 43,\n",
       " 530,\n",
       " 476,\n",
       " 26,\n",
       " 400,\n",
       " 317,\n",
       " 46,\n",
       " 7,\n",
       " 4,\n",
       " 2,\n",
       " 1029,\n",
       " 13,\n",
       " 104,\n",
       " 88,\n",
       " 4,\n",
       " 381,\n",
       " 15,\n",
       " 297,\n",
       " 98,\n",
       " 32,\n",
       " 2071,\n",
       " 56,\n",
       " 26,\n",
       " 141,\n",
       " 6,\n",
       " 194,\n",
       " 7486,\n",
       " 18,\n",
       " 4,\n",
       " 226,\n",
       " 22,\n",
       " 21,\n",
       " 134,\n",
       " 476,\n",
       " 26,\n",
       " 480,\n",
       " 5,\n",
       " 144,\n",
       " 30,\n",
       " 5535,\n",
       " 18,\n",
       " 51,\n",
       " 36,\n",
       " 28,\n",
       " 224,\n",
       " 92,\n",
       " 25,\n",
       " 104,\n",
       " 4,\n",
       " 226,\n",
       " 65,\n",
       " 16,\n",
       " 38,\n",
       " 1334,\n",
       " 88,\n",
       " 12,\n",
       " 16,\n",
       " 283,\n",
       " 5,\n",
       " 16,\n",
       " 4472,\n",
       " 113,\n",
       " 103,\n",
       " 32,\n",
       " 15,\n",
       " 16,\n",
       " 5345,\n",
       " 19,\n",
       " 178,\n",
       " 32]"
      ]
     },
     "execution_count": 84,
     "metadata": {},
     "output_type": "execute_result"
    }
   ],
   "source": [
    "train_data[0]"
   ]
  },
  {
   "cell_type": "code",
   "execution_count": 85,
   "id": "259f7919",
   "metadata": {},
   "outputs": [
    {
     "data": {
      "text/plain": [
       "1"
      ]
     },
     "execution_count": 85,
     "metadata": {},
     "output_type": "execute_result"
    }
   ],
   "source": [
    "train_labels[0]"
   ]
  },
  {
   "cell_type": "code",
   "execution_count": 86,
   "id": "9ca3cc0e",
   "metadata": {},
   "outputs": [
    {
     "data": {
      "text/plain": [
       "9999"
      ]
     },
     "execution_count": 86,
     "metadata": {},
     "output_type": "execute_result"
    }
   ],
   "source": [
    "# Checking restriction as follow:\n",
    "max([max(sequence) for sequence in train_data])"
   ]
  },
  {
   "cell_type": "code",
   "execution_count": 87,
   "id": "b4b20d93",
   "metadata": {},
   "outputs": [],
   "source": [
    "# Decoding reviews back to text as follow:\n",
    "word_index = imdb.get_word_index()\n",
    "\n",
    "reverse_word_index = dict(\n",
    "    [(value, key) for (key, value) in word_index.items()])\n",
    "decoded_review = \" \".join(\n",
    "    [reverse_word_index.get(i - 3, \"?\") for i in train_data[0]])"
   ]
  },
  {
   "cell_type": "markdown",
   "id": "a8596fde",
   "metadata": {},
   "source": [
    "#### Preparing the data"
   ]
  },
  {
   "cell_type": "code",
   "execution_count": 88,
   "id": "d6287fd7",
   "metadata": {},
   "outputs": [],
   "source": [
    "# Encoding the integer sequence via multi-hot encoding\n",
    "def vectorize_sequences(sequences, dimension=10000):\n",
    "    # All zero matrix set-up\n",
    "    results = np.zeros((len(sequences), dimension))\n",
    "    for i, sequence in enumerate(sequences):\n",
    "        for j in sequence:\n",
    "            # setting specific indices\n",
    "            results[i, j] = 1.\n",
    "    return results\n",
    "\n",
    "x_train = vectorize_sequences(train_data)\n",
    "x_test = vectorize_sequences(test_data)"
   ]
  },
  {
   "cell_type": "code",
   "execution_count": 89,
   "id": "8c9ecfa7",
   "metadata": {},
   "outputs": [
    {
     "data": {
      "text/plain": [
       "array([0., 1., 1., ..., 0., 0., 0.])"
      ]
     },
     "execution_count": 89,
     "metadata": {},
     "output_type": "execute_result"
    }
   ],
   "source": [
    "x_train[0]"
   ]
  },
  {
   "cell_type": "code",
   "execution_count": 90,
   "id": "153dce55",
   "metadata": {},
   "outputs": [],
   "source": [
    "# Labels vectorization as follow:\n",
    "y_train = np.asarray(train_labels).astype(\"float32\")\n",
    "y_test = np.asarray(test_labels).astype(\"float32\")"
   ]
  },
  {
   "cell_type": "markdown",
   "id": "ed7380b0",
   "metadata": {},
   "source": [
    "#### Building your model\n",
    "\n",
    "###### *output = relu(dot(input, W) + b)*"
   ]
  },
  {
   "cell_type": "code",
   "execution_count": 91,
   "id": "af0894ac",
   "metadata": {},
   "outputs": [],
   "source": [
    "# Model definition as follow:\n",
    "model = keras.Sequential([\n",
    "    layers.Dense(16, activation=\"relu\"),\n",
    "    layers.Dense(16, activation=\"relu\"),\n",
    "    layers.Dense(1, activation=\"sigmoid\"),\n",
    "])"
   ]
  },
  {
   "cell_type": "code",
   "execution_count": 92,
   "id": "ac9ad4dd",
   "metadata": {},
   "outputs": [],
   "source": [
    "# Compiling the model as follow:\n",
    "model.compile(optimizer=\"rmsprop\",\n",
    "              loss=\"binary_crossentropy\",\n",
    "              metrics=[\"accuracy\"])"
   ]
  },
  {
   "cell_type": "markdown",
   "id": "9e8cdf18",
   "metadata": {},
   "source": [
    "#### Approach Validation"
   ]
  },
  {
   "cell_type": "code",
   "execution_count": 93,
   "id": "e307929a",
   "metadata": {},
   "outputs": [],
   "source": [
    "# Setting aside a validation set\n",
    "x_val = x_train[:10000]\n",
    "partial_x_train = x_train[10000:]\n",
    "\n",
    "y_val = y_train[:10000]\n",
    "partial_y_train = y_train[10000:]"
   ]
  },
  {
   "cell_type": "code",
   "execution_count": 94,
   "id": "97b786c8",
   "metadata": {},
   "outputs": [
    {
     "name": "stdout",
     "output_type": "stream",
     "text": [
      "Epoch 1/20\n",
      "30/30 [==============================] - 1s 16ms/step - loss: 0.5024 - accuracy: 0.7964 - val_loss: 0.3872 - val_accuracy: 0.8571\n",
      "Epoch 2/20\n",
      "30/30 [==============================] - 0s 5ms/step - loss: 0.2994 - accuracy: 0.9018 - val_loss: 0.3002 - val_accuracy: 0.8875\n",
      "Epoch 3/20\n",
      "30/30 [==============================] - 0s 4ms/step - loss: 0.2195 - accuracy: 0.9272 - val_loss: 0.2794 - val_accuracy: 0.8884\n",
      "Epoch 4/20\n",
      "30/30 [==============================] - 0s 4ms/step - loss: 0.1713 - accuracy: 0.9430 - val_loss: 0.2903 - val_accuracy: 0.8842\n",
      "Epoch 5/20\n",
      "30/30 [==============================] - 0s 4ms/step - loss: 0.1431 - accuracy: 0.9524 - val_loss: 0.2834 - val_accuracy: 0.8847\n",
      "Epoch 6/20\n",
      "30/30 [==============================] - 0s 4ms/step - loss: 0.1170 - accuracy: 0.9639 - val_loss: 0.3408 - val_accuracy: 0.8707\n",
      "Epoch 7/20\n",
      "30/30 [==============================] - 0s 4ms/step - loss: 0.0977 - accuracy: 0.9707 - val_loss: 0.3242 - val_accuracy: 0.8780\n",
      "Epoch 8/20\n",
      "30/30 [==============================] - 0s 4ms/step - loss: 0.0809 - accuracy: 0.9767 - val_loss: 0.3348 - val_accuracy: 0.8796\n",
      "Epoch 9/20\n",
      "30/30 [==============================] - 0s 4ms/step - loss: 0.0685 - accuracy: 0.9806 - val_loss: 0.3609 - val_accuracy: 0.8745\n",
      "Epoch 10/20\n",
      "30/30 [==============================] - 0s 4ms/step - loss: 0.0565 - accuracy: 0.9849 - val_loss: 0.3818 - val_accuracy: 0.8761\n",
      "Epoch 11/20\n",
      "30/30 [==============================] - 0s 4ms/step - loss: 0.0460 - accuracy: 0.9877 - val_loss: 0.4424 - val_accuracy: 0.8675\n",
      "Epoch 12/20\n",
      "30/30 [==============================] - 0s 4ms/step - loss: 0.0362 - accuracy: 0.9924 - val_loss: 0.4416 - val_accuracy: 0.8730\n",
      "Epoch 13/20\n",
      "30/30 [==============================] - 0s 4ms/step - loss: 0.0314 - accuracy: 0.9935 - val_loss: 0.5012 - val_accuracy: 0.8658\n",
      "Epoch 14/20\n",
      "30/30 [==============================] - 0s 4ms/step - loss: 0.0253 - accuracy: 0.9951 - val_loss: 0.5068 - val_accuracy: 0.8700\n",
      "Epoch 15/20\n",
      "30/30 [==============================] - 0s 4ms/step - loss: 0.0206 - accuracy: 0.9959 - val_loss: 0.5372 - val_accuracy: 0.8704\n",
      "Epoch 16/20\n",
      "30/30 [==============================] - 0s 4ms/step - loss: 0.0172 - accuracy: 0.9967 - val_loss: 0.5676 - val_accuracy: 0.8682\n",
      "Epoch 17/20\n",
      "30/30 [==============================] - 0s 6ms/step - loss: 0.0121 - accuracy: 0.9987 - val_loss: 0.6110 - val_accuracy: 0.8668\n",
      "Epoch 18/20\n",
      "30/30 [==============================] - 0s 6ms/step - loss: 0.0077 - accuracy: 0.9997 - val_loss: 0.6455 - val_accuracy: 0.8663\n",
      "Epoch 19/20\n",
      "30/30 [==============================] - 0s 5ms/step - loss: 0.0103 - accuracy: 0.9980 - val_loss: 0.6701 - val_accuracy: 0.8659\n",
      "Epoch 20/20\n",
      "30/30 [==============================] - 0s 4ms/step - loss: 0.0043 - accuracy: 0.9999 - val_loss: 0.7278 - val_accuracy: 0.8647\n"
     ]
    }
   ],
   "source": [
    "# Model training as follow:\n",
    "history = model.fit(partial_x_train,\n",
    "                    partial_y_train,\n",
    "                    epochs=20,\n",
    "                    batch_size=512,\n",
    "                    validation_data=(x_val, y_val))"
   ]
  },
  {
   "cell_type": "code",
   "execution_count": 95,
   "id": "5d07b783",
   "metadata": {},
   "outputs": [
    {
     "data": {
      "text/plain": [
       "dict_keys(['loss', 'accuracy', 'val_loss', 'val_accuracy'])"
      ]
     },
     "execution_count": 95,
     "metadata": {},
     "output_type": "execute_result"
    }
   ],
   "source": [
    "history_dict = history.history\n",
    "history_dict.keys()"
   ]
  },
  {
   "cell_type": "code",
   "execution_count": 96,
   "id": "2111dbad",
   "metadata": {},
   "outputs": [
    {
     "data": {
      "image/png": "[encoded data removed]",
      "text/plain": [
       "<Figure size 640x480 with 1 Axes>"
      ]
     },
     "metadata": {},
     "output_type": "display_data"
    }
   ],
   "source": [
    "# Plotting the training & validation loss\n",
    "history_dict = history.history\n",
    "loss_values = history_dict[\"loss\"]\n",
    "val_loss_values = history_dict[\"val_loss\"]\n",
    "epochs = range(1, len(loss_values) + 1)\n",
    "\n",
    "plt.plot(epochs, loss_values, \"bo\", label=\"Training loss\")\n",
    "plt.plot(epochs, val_loss_values, \"g\", label=\"Validation loss\")\n",
    "plt.title(\"Training and validation loss\")\n",
    "plt.xlabel(\"Epochs\")\n",
    "plt.ylabel(\"Loss\")\n",
    "plt.grid(True)\n",
    "plt.legend()\n",
    "plt.show()"
   ]
  },
  {
   "cell_type": "code",
   "execution_count": 97,
   "id": "f348cb16",
   "metadata": {},
   "outputs": [
    {
     "data": {
      "image/png": "[encoded data removed]",
      "text/plain": [
       "<Figure size 640x480 with 1 Axes>"
      ]
     },
     "metadata": {},
     "output_type": "display_data"
    }
   ],
   "source": [
    "# Plotting the training & validation accuracy\n",
    "plt.clf()\n",
    "acc = history_dict[\"accuracy\"]\n",
    "val_acc = history_dict[\"val_accuracy\"]\n",
    "plt.plot(epochs, acc, \"bo\", label=\"Training acc\")\n",
    "plt.plot(epochs, val_acc, \"g\", label=\"Validation acc\")\n",
    "plt.title(\"Training and validation accuracy\")\n",
    "plt.xlabel(\"Epochs\")\n",
    "plt.ylabel(\"Accuracy\")\n",
    "plt.grid(True)\n",
    "plt.legend()\n",
    "plt.show()"
   ]
  },
  {
   "cell_type": "code",
   "execution_count": 98,
   "id": "27b1fe8f",
   "metadata": {},
   "outputs": [],
   "source": [
    "# Retraining a model from scratch\n",
    "model = keras.Sequential([\n",
    "    layers.Dense(16, activation=\"relu\"),\n",
    "    layers.Dense(16, activation=\"relu\"),\n",
    "    layers.Dense(1, activation=\"sigmoid\"),\n",
    "])"
   ]
  },
  {
   "cell_type": "code",
   "execution_count": 99,
   "id": "3e1be2a3",
   "metadata": {},
   "outputs": [],
   "source": [
    "# Compiling model as follow:\n",
    "model.compile(optimizer=\"rmsprop\",\n",
    "              loss=\"binary_crossentropy\",\n",
    "              metrics=[\"accuracy\"])"
   ]
  },
  {
   "cell_type": "code",
   "execution_count": 100,
   "id": "40f7f544",
   "metadata": {},
   "outputs": [
    {
     "name": "stdout",
     "output_type": "stream",
     "text": [
      "Epoch 1/4\n",
      "49/49 [==============================] - 0s 3ms/step - loss: 0.4537 - accuracy: 0.8108\n",
      "Epoch 2/4\n",
      "49/49 [==============================] - 0s 3ms/step - loss: 0.2535 - accuracy: 0.9098\n",
      "Epoch 3/4\n",
      "49/49 [==============================] - 0s 3ms/step - loss: 0.1989 - accuracy: 0.9279\n",
      "Epoch 4/4\n",
      "49/49 [==============================] - 0s 3ms/step - loss: 0.1670 - accuracy: 0.9396\n"
     ]
    },
    {
     "data": {
      "text/plain": [
       "<keras.src.callbacks.History at 0x36a158050>"
      ]
     },
     "execution_count": 100,
     "metadata": {},
     "output_type": "execute_result"
    }
   ],
   "source": [
    "# Fitting the model as follow:\n",
    "model.fit(x_train, y_train, epochs=4, batch_size=512)"
   ]
  },
  {
   "cell_type": "code",
   "execution_count": 101,
   "id": "de797625",
   "metadata": {},
   "outputs": [
    {
     "name": "stdout",
     "output_type": "stream",
     "text": [
      "782/782 [==============================] - 0s 309us/step - loss: 0.3065 - accuracy: 0.8790\n"
     ]
    }
   ],
   "source": [
    "# Model evaluation\n",
    "results = model.evaluate(x_test, y_test)"
   ]
  },
  {
   "cell_type": "markdown",
   "id": "cb3b6ea7",
   "metadata": {},
   "source": [
    "#### Using a trained model to generate predictions on new data"
   ]
  },
  {
   "cell_type": "code",
   "execution_count": 102,
   "id": "a25939b3",
   "metadata": {},
   "outputs": [
    {
     "name": "stdout",
     "output_type": "stream",
     "text": [
      "782/782 [==============================] - 0s 277us/step\n"
     ]
    },
    {
     "data": {
      "text/plain": [
       "array([[0.18229757],\n",
       "       [0.9999062 ],\n",
       "       [0.7860378 ],\n",
       "       ...,\n",
       "       [0.09924946],\n",
       "       [0.05910997],\n",
       "       [0.58240896]], dtype=float32)"
      ]
     },
     "execution_count": 102,
     "metadata": {},
     "output_type": "execute_result"
    }
   ],
   "source": [
    "# Predictions on test set\n",
    "model.predict(x_test)"
   ]
  },
  {
   "cell_type": "markdown",
   "id": "108ffeb6",
   "metadata": {},
   "source": [
    "###### an additional approach"
   ]
  },
  {
   "cell_type": "code",
   "execution_count": 103,
   "id": "869febe5",
   "metadata": {},
   "outputs": [],
   "source": [
    "# Addtional retraining model\n",
    "model = keras.Sequential([\n",
    "    layers.Dense(32, activation=\"tanh\"),\n",
    "    layers.Dense(32, activation=\"tanh\"),\n",
    "    layers.Dense(1, activation=\"sigmoid\"),\n",
    "])"
   ]
  },
  {
   "cell_type": "code",
   "execution_count": 104,
   "id": "5440d449",
   "metadata": {},
   "outputs": [],
   "source": [
    "# Compiling model as follow:\n",
    "model.compile(optimizer=\"rmsprop\",\n",
    "              loss=\"mse\",\n",
    "              metrics=[\"accuracy\"])"
   ]
  },
  {
   "cell_type": "code",
   "execution_count": 105,
   "id": "b0ca397f",
   "metadata": {},
   "outputs": [
    {
     "name": "stdout",
     "output_type": "stream",
     "text": [
      "Epoch 1/4\n",
      "49/49 [==============================] - 0s 4ms/step - loss: 0.1255 - accuracy: 0.8309\n",
      "Epoch 2/4\n",
      "49/49 [==============================] - 0s 4ms/step - loss: 0.0645 - accuracy: 0.9151\n",
      "Epoch 3/4\n",
      "49/49 [==============================] - 0s 4ms/step - loss: 0.0502 - accuracy: 0.9374\n",
      "Epoch 4/4\n",
      "49/49 [==============================] - 0s 4ms/step - loss: 0.0444 - accuracy: 0.9442\n"
     ]
    },
    {
     "data": {
      "text/plain": [
       "<keras.src.callbacks.History at 0x36d33c290>"
      ]
     },
     "execution_count": 105,
     "metadata": {},
     "output_type": "execute_result"
    }
   ],
   "source": [
    "# Fitting the model as follow:\n",
    "model.fit(x_train, y_train, epochs=4, batch_size=512)"
   ]
  },
  {
   "cell_type": "code",
   "execution_count": 106,
   "id": "53ef9410",
   "metadata": {},
   "outputs": [
    {
     "name": "stdout",
     "output_type": "stream",
     "text": [
      "782/782 [==============================] - 0s 328us/step - loss: 0.0967 - accuracy: 0.8751\n"
     ]
    }
   ],
   "source": [
    "# Model evaluation\n",
    "results = model.evaluate(x_test, y_test)"
   ]
  },
  {
   "cell_type": "code",
   "execution_count": 107,
   "id": "97bb8dce",
   "metadata": {},
   "outputs": [
    {
     "name": "stdout",
     "output_type": "stream",
     "text": [
      "782/782 [==============================] - 0s 306us/step\n"
     ]
    },
    {
     "data": {
      "text/plain": [
       "array([[0.03311509],\n",
       "       [0.99952716],\n",
       "       [0.98128057],\n",
       "       ...,\n",
       "       [0.21801306],\n",
       "       [0.02078499],\n",
       "       [0.67958117]], dtype=float32)"
      ]
     },
     "execution_count": 107,
     "metadata": {},
     "output_type": "execute_result"
    }
   ],
   "source": [
    "# Predictions on test set\n",
    "model.predict(x_test)"
   ]
  },
  {
   "cell_type": "markdown",
   "id": "885d78b1",
   "metadata": {},
   "source": [
    "### Classifying Newswires: A multiclass classification example\n",
    "\n",
    "#### The reuters dataset"
   ]
  },
  {
   "cell_type": "code",
   "execution_count": 108,
   "id": "6e7d21c6",
   "metadata": {},
   "outputs": [],
   "source": [
    "(train_data, train_labels), (test_data, test_labels) = reuters.load_data(num_words=10000)"
   ]
  },
  {
   "cell_type": "code",
   "execution_count": 109,
   "id": "08b98f35",
   "metadata": {},
   "outputs": [
    {
     "data": {
      "text/plain": [
       "8982"
      ]
     },
     "execution_count": 109,
     "metadata": {},
     "output_type": "execute_result"
    }
   ],
   "source": [
    "len(train_data)"
   ]
  },
  {
   "cell_type": "code",
   "execution_count": 110,
   "id": "1a28b9c5",
   "metadata": {},
   "outputs": [
    {
     "data": {
      "text/plain": [
       "2246"
      ]
     },
     "execution_count": 110,
     "metadata": {},
     "output_type": "execute_result"
    }
   ],
   "source": [
    "len(test_data)"
   ]
  },
  {
   "cell_type": "code",
   "execution_count": 111,
   "id": "c00cd12b",
   "metadata": {},
   "outputs": [
    {
     "data": {
      "text/plain": [
       "[1,\n",
       " 245,\n",
       " 273,\n",
       " 207,\n",
       " 156,\n",
       " 53,\n",
       " 74,\n",
       " 160,\n",
       " 26,\n",
       " 14,\n",
       " 46,\n",
       " 296,\n",
       " 26,\n",
       " 39,\n",
       " 74,\n",
       " 2979,\n",
       " 3554,\n",
       " 14,\n",
       " 46,\n",
       " 4689,\n",
       " 4329,\n",
       " 86,\n",
       " 61,\n",
       " 3499,\n",
       " 4795,\n",
       " 14,\n",
       " 61,\n",
       " 451,\n",
       " 4329,\n",
       " 17,\n",
       " 12]"
      ]
     },
     "execution_count": 111,
     "metadata": {},
     "output_type": "execute_result"
    }
   ],
   "source": [
    "train_data[10]"
   ]
  },
  {
   "cell_type": "code",
   "execution_count": 112,
   "id": "6cfb4446",
   "metadata": {},
   "outputs": [],
   "source": [
    "# Decoding newswires back to text\n",
    "word_index = reuters.get_word_index()\n",
    "\n",
    "reverse_word_index = dict(\n",
    "    [(value, key) for (key, value) in word_index.items()])\n",
    "decoded_newswire = \" \".join(\n",
    "    [reverse_word_index.get(i - 3, \"?\") for i in train_data[0]])"
   ]
  },
  {
   "cell_type": "code",
   "execution_count": 113,
   "id": "c7fed3b3",
   "metadata": {},
   "outputs": [
    {
     "data": {
      "text/plain": [
       "3"
      ]
     },
     "execution_count": 113,
     "metadata": {},
     "output_type": "execute_result"
    }
   ],
   "source": [
    "train_labels[0]"
   ]
  },
  {
   "cell_type": "markdown",
   "id": "71879416",
   "metadata": {},
   "source": [
    "#### Data Preparation"
   ]
  },
  {
   "cell_type": "code",
   "execution_count": 114,
   "id": "5ab538c9",
   "metadata": {},
   "outputs": [],
   "source": [
    "# Encoding the input data as follow:\n",
    "x_train = vectorize_sequences(train_data)\n",
    "x_test = vectorize_sequences(test_data)"
   ]
  },
  {
   "cell_type": "code",
   "execution_count": 115,
   "id": "dc1ea61e",
   "metadata": {},
   "outputs": [],
   "source": [
    "# Encoding labels\n",
    "def to_one_hot(labels, dimension=46):\n",
    "    results = np.zeros((len(labels), dimension))\n",
    "    for i, label in enumerate(labels):\n",
    "        results[i, label] = 1.\n",
    "    return results\n",
    "\n",
    "y_train = to_one_hot(train_labels)\n",
    "y_test = to_one_hot(test_labels)"
   ]
  },
  {
   "cell_type": "code",
   "execution_count": 116,
   "id": "87444a4e",
   "metadata": {},
   "outputs": [],
   "source": [
    "y_train = to_categorical(train_labels)\n",
    "y_test = to_categorical(test_labels)"
   ]
  },
  {
   "cell_type": "markdown",
   "id": "c265763f",
   "metadata": {},
   "source": [
    "#### Building the model"
   ]
  },
  {
   "cell_type": "code",
   "execution_count": 117,
   "id": "c2d735df",
   "metadata": {},
   "outputs": [],
   "source": [
    "# Model definition as follow:\n",
    "model = keras.Sequential([\n",
    "    layers.Dense(64, activation=\"relu\"),\n",
    "    layers.Dense(64, activation=\"relu\"),\n",
    "    layers.Dense(46, activation=\"softmax\")\n",
    "])"
   ]
  },
  {
   "cell_type": "code",
   "execution_count": 118,
   "id": "fdbff426",
   "metadata": {},
   "outputs": [],
   "source": [
    "# Compiling the model\n",
    "model.compile(optimizer=\"rmsprop\",\n",
    "               loss=\"categorical_crossentropy\",\n",
    "               metrics=[\"accuracy\"])"
   ]
  },
  {
   "cell_type": "markdown",
   "id": "6820a9f1",
   "metadata": {},
   "source": [
    "#### Approach Validation"
   ]
  },
  {
   "cell_type": "code",
   "execution_count": 119,
   "id": "166a2f01",
   "metadata": {},
   "outputs": [],
   "source": [
    "# Setting aside validation set\n",
    "x_val = x_train[:1000]\n",
    "partial_x_train = x_train[1000:]\n",
    "\n",
    "y_val = y_train[:1000]\n",
    "partial_y_train = y_train[1000:]"
   ]
  },
  {
   "cell_type": "code",
   "execution_count": 120,
   "id": "47a75999",
   "metadata": {},
   "outputs": [
    {
     "name": "stdout",
     "output_type": "stream",
     "text": [
      "Epoch 1/20\n",
      "16/16 [==============================] - 0s 10ms/step - loss: 2.6004 - accuracy: 0.5365 - val_loss: 1.7322 - val_accuracy: 0.6650\n",
      "Epoch 2/20\n",
      "16/16 [==============================] - 0s 7ms/step - loss: 1.3977 - accuracy: 0.7204 - val_loss: 1.2885 - val_accuracy: 0.7250\n",
      "Epoch 3/20\n",
      "16/16 [==============================] - 0s 7ms/step - loss: 1.0353 - accuracy: 0.7860 - val_loss: 1.1445 - val_accuracy: 0.7560\n",
      "Epoch 4/20\n",
      "16/16 [==============================] - 0s 7ms/step - loss: 0.8189 - accuracy: 0.8274 - val_loss: 1.0412 - val_accuracy: 0.7740\n",
      "Epoch 5/20\n",
      "16/16 [==============================] - 0s 7ms/step - loss: 0.6549 - accuracy: 0.8608 - val_loss: 0.9933 - val_accuracy: 0.7880\n",
      "Epoch 6/20\n",
      "16/16 [==============================] - 0s 7ms/step - loss: 0.5256 - accuracy: 0.8882 - val_loss: 0.9656 - val_accuracy: 0.7940\n",
      "Epoch 7/20\n",
      "16/16 [==============================] - 0s 7ms/step - loss: 0.4262 - accuracy: 0.9110 - val_loss: 0.9123 - val_accuracy: 0.8080\n",
      "Epoch 8/20\n",
      "16/16 [==============================] - 0s 7ms/step - loss: 0.3442 - accuracy: 0.9281 - val_loss: 0.9559 - val_accuracy: 0.8020\n",
      "Epoch 9/20\n",
      "16/16 [==============================] - 0s 7ms/step - loss: 0.2883 - accuracy: 0.9372 - val_loss: 0.9161 - val_accuracy: 0.8160\n",
      "Epoch 10/20\n",
      "16/16 [==============================] - 0s 8ms/step - loss: 0.2449 - accuracy: 0.9426 - val_loss: 0.9444 - val_accuracy: 0.8140\n",
      "Epoch 11/20\n",
      "16/16 [==============================] - 0s 7ms/step - loss: 0.2145 - accuracy: 0.9466 - val_loss: 0.9337 - val_accuracy: 0.8190\n",
      "Epoch 12/20\n",
      "16/16 [==============================] - 0s 8ms/step - loss: 0.1866 - accuracy: 0.9495 - val_loss: 1.0269 - val_accuracy: 0.7980\n",
      "Epoch 13/20\n",
      "16/16 [==============================] - 0s 7ms/step - loss: 0.1684 - accuracy: 0.9529 - val_loss: 0.9519 - val_accuracy: 0.8120\n",
      "Epoch 14/20\n",
      "16/16 [==============================] - 0s 7ms/step - loss: 0.1537 - accuracy: 0.9551 - val_loss: 0.9890 - val_accuracy: 0.8150\n",
      "Epoch 15/20\n",
      "16/16 [==============================] - 0s 7ms/step - loss: 0.1466 - accuracy: 0.9557 - val_loss: 1.0394 - val_accuracy: 0.8030\n",
      "Epoch 16/20\n",
      "16/16 [==============================] - 0s 7ms/step - loss: 0.1337 - accuracy: 0.9578 - val_loss: 1.0287 - val_accuracy: 0.8060\n",
      "Epoch 17/20\n",
      "16/16 [==============================] - 0s 7ms/step - loss: 0.1265 - accuracy: 0.9569 - val_loss: 1.0201 - val_accuracy: 0.8140\n",
      "Epoch 18/20\n",
      "16/16 [==============================] - 0s 7ms/step - loss: 0.1210 - accuracy: 0.9583 - val_loss: 1.0629 - val_accuracy: 0.8140\n",
      "Epoch 19/20\n",
      "16/16 [==============================] - 0s 7ms/step - loss: 0.1230 - accuracy: 0.9553 - val_loss: 1.0737 - val_accuracy: 0.8020\n",
      "Epoch 20/20\n",
      "16/16 [==============================] - 0s 8ms/step - loss: 0.1130 - accuracy: 0.9572 - val_loss: 1.0864 - val_accuracy: 0.8030\n"
     ]
    }
   ],
   "source": [
    "# Model training as follow:\n",
    "history = model.fit(partial_x_train,\n",
    "                    partial_y_train,\n",
    "                    epochs=20,\n",
    "                    batch_size=512,\n",
    "                    validation_data=(x_val, y_val))"
   ]
  },
  {
   "cell_type": "code",
   "execution_count": 121,
   "id": "b065ed0b",
   "metadata": {},
   "outputs": [
    {
     "data": {
      "image/png": "[encoded data removed]",
      "text/plain": [
       "<Figure size 640x480 with 1 Axes>"
      ]
     },
     "metadata": {},
     "output_type": "display_data"
    }
   ],
   "source": [
    "# Plotting the training & validation loss\n",
    "loss = history.history[\"loss\"]\n",
    "val_loss = history.history[\"val_loss\"]\n",
    "epochs = range(1, len(loss) + 1)\n",
    "plt.plot(epochs, loss, \"bo\", label=\"Training loss\")\n",
    "plt.plot(epochs, val_loss, \"forestgreen\", label=\"Validation loss\")\n",
    "plt.title(\"Training and validation loss\")\n",
    "plt.xlabel(\"Epochs\")\n",
    "plt.ylabel(\"Loss\")\n",
    "plt.legend()\n",
    "plt.show()"
   ]
  },
  {
   "cell_type": "code",
   "execution_count": 122,
   "id": "2027aeb3",
   "metadata": {},
   "outputs": [
    {
     "data": {
      "image/png": "[encoded data removed]",
      "text/plain": [
       "<Figure size 640x480 with 1 Axes>"
      ]
     },
     "metadata": {},
     "output_type": "display_data"
    }
   ],
   "source": [
    "# Plotting the training & validation accuracy\n",
    "plt.clf()\n",
    "acc = history.history[\"accuracy\"]\n",
    "val_acc = history.history[\"val_accuracy\"]\n",
    "plt.plot(epochs, acc, \"bo\", label=\"Training accuracy\")\n",
    "plt.plot(epochs, val_acc, \"forestgreen\", label=\"Validation accuracy\")\n",
    "plt.title(\"Training and validation accuracy\")\n",
    "plt.xlabel(\"Epochs\")\n",
    "plt.ylabel(\"Accuracy\")\n",
    "plt.legend()\n",
    "plt.show()"
   ]
  },
  {
   "cell_type": "code",
   "execution_count": 67,
   "id": "786d9ad4",
   "metadata": {},
   "outputs": [],
   "source": [
    "# Retraining a model from strach\n",
    "model = keras.Sequential([\n",
    "    layers.Dense(64, activation=\"relu\"),\n",
    "    layers.Dense(64, activation=\"relu\"),\n",
    "    layers.Dense(46, activation=\"softmax\")])"
   ]
  },
  {
   "cell_type": "code",
   "execution_count": 123,
   "id": "fa5456ad",
   "metadata": {},
   "outputs": [],
   "source": [
    "# Compiling model as follow:\n",
    "model.compile(optimizer=\"rmsprop\",\n",
    "              loss=\"categorical_crossentropy\",\n",
    "              metrics=[\"accuracy\"])"
   ]
  },
  {
   "cell_type": "code",
   "execution_count": 124,
   "id": "b2cc2346",
   "metadata": {},
   "outputs": [
    {
     "name": "stdout",
     "output_type": "stream",
     "text": [
      "Epoch 1/9\n",
      "16/16 [==============================] - 0s 11ms/step - loss: 0.1428 - accuracy: 0.9541 - val_loss: 1.3694 - val_accuracy: 0.7654\n",
      "Epoch 2/9\n",
      "16/16 [==============================] - 0s 7ms/step - loss: 0.1058 - accuracy: 0.9605 - val_loss: 1.3340 - val_accuracy: 0.7756\n",
      "Epoch 3/9\n",
      "16/16 [==============================] - 0s 7ms/step - loss: 0.1068 - accuracy: 0.9580 - val_loss: 1.3056 - val_accuracy: 0.7805\n",
      "Epoch 4/9\n",
      "16/16 [==============================] - 0s 7ms/step - loss: 0.1033 - accuracy: 0.9584 - val_loss: 1.3070 - val_accuracy: 0.7854\n",
      "Epoch 5/9\n",
      "16/16 [==============================] - 0s 7ms/step - loss: 0.1041 - accuracy: 0.9579 - val_loss: 1.3499 - val_accuracy: 0.7778\n",
      "Epoch 6/9\n",
      "16/16 [==============================] - 0s 7ms/step - loss: 0.1029 - accuracy: 0.9574 - val_loss: 1.3441 - val_accuracy: 0.7787\n",
      "Epoch 7/9\n",
      "16/16 [==============================] - 0s 7ms/step - loss: 0.1009 - accuracy: 0.9574 - val_loss: 1.3650 - val_accuracy: 0.7792\n",
      "Epoch 8/9\n",
      "16/16 [==============================] - 0s 7ms/step - loss: 0.0966 - accuracy: 0.9583 - val_loss: 1.3896 - val_accuracy: 0.7778\n",
      "Epoch 9/9\n",
      "16/16 [==============================] - 0s 7ms/step - loss: 0.0976 - accuracy: 0.9597 - val_loss: 1.4288 - val_accuracy: 0.7738\n"
     ]
    }
   ],
   "source": [
    "# Model training as follow:\n",
    "history = model.fit(partial_x_train,\n",
    "                    partial_y_train,\n",
    "                    epochs=9,\n",
    "                    batch_size=512,\n",
    "                    validation_data=(x_test, y_test))"
   ]
  },
  {
   "cell_type": "code",
   "execution_count": 125,
   "id": "e0566e35",
   "metadata": {},
   "outputs": [
    {
     "data": {
      "text/plain": [
       "0.18699910952804988"
      ]
     },
     "execution_count": 125,
     "metadata": {},
     "output_type": "execute_result"
    }
   ],
   "source": [
    "# Empirical checking as follow:\n",
    "test_labels_copy = copy.copy(test_labels)\n",
    "np.random.shuffle(test_labels_copy)\n",
    "hist_array = np.array(test_labels) == np.array(test_labels_copy)\n",
    "hist_array.mean()"
   ]
  },
  {
   "cell_type": "markdown",
   "id": "3c6c7712",
   "metadata": {},
   "source": [
    "#### Generating predictions on new data"
   ]
  },
  {
   "cell_type": "code",
   "execution_count": 126,
   "id": "96eadbc8",
   "metadata": {},
   "outputs": [
    {
     "name": "stdout",
     "output_type": "stream",
     "text": [
      "71/71 [==============================] - 0s 440us/step\n"
     ]
    }
   ],
   "source": [
    "predictions = model.predict(x_test)"
   ]
  },
  {
   "cell_type": "code",
   "execution_count": 127,
   "id": "379db241",
   "metadata": {},
   "outputs": [
    {
     "data": {
      "text/plain": [
       "(46,)"
      ]
     },
     "execution_count": 127,
     "metadata": {},
     "output_type": "execute_result"
    }
   ],
   "source": [
    "predictions[0].shape"
   ]
  },
  {
   "cell_type": "code",
   "execution_count": 128,
   "id": "71744c6b",
   "metadata": {},
   "outputs": [
    {
     "data": {
      "text/plain": [
       "1.0"
      ]
     },
     "execution_count": 128,
     "metadata": {},
     "output_type": "execute_result"
    }
   ],
   "source": [
    "np.sum(predictions[0])"
   ]
  },
  {
   "cell_type": "code",
   "execution_count": 129,
   "id": "7b2e19a0",
   "metadata": {},
   "outputs": [
    {
     "data": {
      "text/plain": [
       "3"
      ]
     },
     "execution_count": 129,
     "metadata": {},
     "output_type": "execute_result"
    }
   ],
   "source": [
    "np.argmax(predictions[0])"
   ]
  },
  {
   "cell_type": "markdown",
   "id": "0edc2c0b",
   "metadata": {},
   "source": [
    "#### A different way to handle the labels and loss"
   ]
  },
  {
   "cell_type": "code",
   "execution_count": 78,
   "id": "f08f2bed",
   "metadata": {},
   "outputs": [],
   "source": [
    "y_train = np.array(train_labels)\n",
    "y_test = np.array(test_labels)"
   ]
  },
  {
   "cell_type": "code",
   "execution_count": 130,
   "id": "29d81f46",
   "metadata": {},
   "outputs": [],
   "source": [
    "# Compiling model as follow:\n",
    "model.compile(optimizer=\"rmsprop\",\n",
    "              loss=\"sparse_categorical_crossentropy\",\n",
    "              metrics=[\"accuracy\"])"
   ]
  },
  {
   "cell_type": "markdown",
   "id": "da5a9a87",
   "metadata": {},
   "source": [
    "#### The importance of having sufficiently large intermediate layers"
   ]
  },
  {
   "cell_type": "code",
   "execution_count": null,
   "id": "ed6ca3f1",
   "metadata": {},
   "outputs": [],
   "source": [
    "# A model with an information bottleneck\n"
   ]
  }
 ],
 "metadata": {
  "kernelspec": {
   "display_name": "Python 3 (ipykernel)",
   "language": "python",
   "name": "python3"
  },
  "language_info": {
   "codemirror_mode": {
    "name": "ipython",
    "version": 3
   },
   "file_extension": ".py",
   "mimetype": "text/x-python",
   "name": "python",
   "nbconvert_exporter": "python",
   "pygments_lexer": "ipython3",
   "version": "3.11.7"
  }
 },
 "nbformat": 4,
 "nbformat_minor": 5
}
