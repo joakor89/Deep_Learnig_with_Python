{
 "cells": [
  {
   "cell_type": "markdown",
   "id": "9cb28385",
   "metadata": {},
   "source": [
    "# Fundamentals of Machine Learning\n",
    "\n",
    "### Loading Libraries"
   ]
  },
  {
   "cell_type": "code",
   "execution_count": 56,
   "id": "cd74c0e9",
   "metadata": {},
   "outputs": [],
   "source": [
    "import tensorflow as tf\n",
    "from tensorflow import keras\n",
    "from tensorflow.keras import models\n",
    "from tensorflow.keras import layers\n",
    "from tensorflow.keras.utils import to_categorical\n",
    "from tensorflow.keras import regularizers\n",
    "\n",
    "# TensorFlow Datasets\n",
    "from tensorflow.keras.datasets import mnist\n",
    "from tensorflow.keras.datasets import imdb\n",
    "from tensorflow.keras.datasets import reuters\n",
    "from tensorflow.keras.datasets import boston_housing\n",
    "\n",
    "# Math Computing\n",
    "import numpy as np\n",
    "\n",
    "# Data Visualization\n",
    "import matplotlib.pyplot as plt\n",
    "\n",
    "# Copy\n",
    "import copy"
   ]
  },
  {
   "cell_type": "markdown",
   "id": "f301032f",
   "metadata": {},
   "source": [
    "##### Loading Data"
   ]
  },
  {
   "cell_type": "code",
   "execution_count": 12,
   "id": "37ec70ba",
   "metadata": {},
   "outputs": [],
   "source": [
    "# Setting data and shaping it as follow:\n",
    "(train_images, train_labels), _ = mnist.load_data()\n",
    "train_images = train_images.reshape((60000, 28 * 28))\n",
    "train_images = train_images.astype(\"float32\") / 255\n",
    "\n",
    "# Adding noise\n",
    "train_images_with_noise_channels = np.concatenate(\n",
    "    [train_images, np.random.random((len(train_images), 784))], axis=1)\n",
    "\n",
    "train_images_with_zeros_channels = np.concatenate(\n",
    "    [train_images, np.zeros((len(train_images), 784))], axis=1)"
   ]
  },
  {
   "cell_type": "markdown",
   "id": "5768ab46",
   "metadata": {},
   "source": [
    "##### Model Training"
   ]
  },
  {
   "cell_type": "code",
   "execution_count": 13,
   "id": "a4f9b06e",
   "metadata": {},
   "outputs": [
    {
     "name": "stdout",
     "output_type": "stream",
     "text": [
      "Epoch 1/10\n",
      "375/375 [==============================] - 1s 3ms/step - loss: 0.6206 - accuracy: 0.8135 - val_loss: 0.2961 - val_accuracy: 0.9093\n",
      "Epoch 2/10\n",
      "375/375 [==============================] - 1s 3ms/step - loss: 0.2520 - accuracy: 0.9232 - val_loss: 0.1955 - val_accuracy: 0.9427\n",
      "Epoch 3/10\n",
      "375/375 [==============================] - 1s 3ms/step - loss: 0.1627 - accuracy: 0.9500 - val_loss: 0.1476 - val_accuracy: 0.9557\n",
      "Epoch 4/10\n",
      "375/375 [==============================] - 1s 3ms/step - loss: 0.1163 - accuracy: 0.9643 - val_loss: 0.1425 - val_accuracy: 0.9563\n",
      "Epoch 5/10\n",
      "375/375 [==============================] - 1s 3ms/step - loss: 0.0835 - accuracy: 0.9738 - val_loss: 0.1247 - val_accuracy: 0.9639\n",
      "Epoch 6/10\n",
      "375/375 [==============================] - 1s 3ms/step - loss: 0.0642 - accuracy: 0.9794 - val_loss: 0.1267 - val_accuracy: 0.9647\n",
      "Epoch 7/10\n",
      "375/375 [==============================] - 1s 3ms/step - loss: 0.0464 - accuracy: 0.9854 - val_loss: 0.1445 - val_accuracy: 0.9610\n",
      "Epoch 8/10\n",
      "375/375 [==============================] - 1s 3ms/step - loss: 0.0339 - accuracy: 0.9888 - val_loss: 0.1791 - val_accuracy: 0.9538\n",
      "Epoch 9/10\n",
      "375/375 [==============================] - 1s 3ms/step - loss: 0.0274 - accuracy: 0.9909 - val_loss: 0.1272 - val_accuracy: 0.9693\n",
      "Epoch 10/10\n",
      "375/375 [==============================] - 1s 3ms/step - loss: 0.0209 - accuracy: 0.9928 - val_loss: 0.1690 - val_accuracy: 0.9588\n",
      "Epoch 1/10\n",
      "375/375 [==============================] - 1s 3ms/step - loss: 0.2919 - accuracy: 0.9136 - val_loss: 0.1465 - val_accuracy: 0.9580\n",
      "Epoch 2/10\n",
      "375/375 [==============================] - 1s 3ms/step - loss: 0.1198 - accuracy: 0.9648 - val_loss: 0.1082 - val_accuracy: 0.9681\n",
      "Epoch 3/10\n",
      "375/375 [==============================] - 1s 3ms/step - loss: 0.0784 - accuracy: 0.9768 - val_loss: 0.0958 - val_accuracy: 0.9729\n",
      "Epoch 4/10\n",
      "375/375 [==============================] - 1s 3ms/step - loss: 0.0564 - accuracy: 0.9830 - val_loss: 0.0833 - val_accuracy: 0.9747\n",
      "Epoch 5/10\n",
      "375/375 [==============================] - 1s 3ms/step - loss: 0.0429 - accuracy: 0.9874 - val_loss: 0.0840 - val_accuracy: 0.9744\n",
      "Epoch 6/10\n",
      "375/375 [==============================] - 1s 3ms/step - loss: 0.0321 - accuracy: 0.9902 - val_loss: 0.0817 - val_accuracy: 0.9777\n",
      "Epoch 7/10\n",
      "375/375 [==============================] - 1s 3ms/step - loss: 0.0242 - accuracy: 0.9930 - val_loss: 0.0817 - val_accuracy: 0.9796\n",
      "Epoch 8/10\n",
      "375/375 [==============================] - 1s 3ms/step - loss: 0.0185 - accuracy: 0.9942 - val_loss: 0.0812 - val_accuracy: 0.9793\n",
      "Epoch 9/10\n",
      "375/375 [==============================] - 1s 3ms/step - loss: 0.0136 - accuracy: 0.9964 - val_loss: 0.0854 - val_accuracy: 0.9791\n",
      "Epoch 10/10\n",
      "375/375 [==============================] - 1s 3ms/step - loss: 0.0108 - accuracy: 0.9973 - val_loss: 0.0929 - val_accuracy: 0.9774\n"
     ]
    }
   ],
   "source": [
    "# Training the same model on MNIST data with noise channels or all-zero channels\n",
    "def get_model():\n",
    "    # Setting Model Structure\n",
    "    model = keras.Sequential([\n",
    "        layers.Dense(512, activation=\"relu\"),\n",
    "        layers.Dense(10, activation=\"softmax\")\n",
    "    ])\n",
    "    # Compiling procedure:\n",
    "    model.compile(optimizer=\"rmsprop\",\n",
    "                  loss=\"sparse_categorical_crossentropy\",\n",
    "                  metrics=[\"accuracy\"])\n",
    "    return model\n",
    "\n",
    "model = get_model()\n",
    "history_noise = model.fit(\n",
    "    train_images_with_noise_channels, train_labels,\n",
    "    epochs=10,\n",
    "    batch_size=128,\n",
    "    validation_split=0.2)\n",
    "\n",
    "model = get_model()\n",
    "history_zeros = model.fit(\n",
    "    train_images_with_zeros_channels, train_labels,\n",
    "    epochs=10,\n",
    "    batch_size=128,\n",
    "    validation_split=0.2)"
   ]
  },
  {
   "cell_type": "markdown",
   "id": "2af39e22",
   "metadata": {},
   "source": [
    "##### Plotting & comparing validation accuracy "
   ]
  },
  {
   "cell_type": "code",
   "execution_count": 18,
   "id": "01734525",
   "metadata": {},
   "outputs": [
    {
     "data": {
      "text/plain": [
       "[]"
      ]
     },
     "execution_count": 18,
     "metadata": {},
     "output_type": "execute_result"
    },
    {
     "data": {
      "image/png": "[encoded data removed]",
      "text/plain": [
       "<Figure size 640x480 with 1 Axes>"
      ]
     },
     "metadata": {},
     "output_type": "display_data"
    }
   ],
   "source": [
    "val_acc_noise = history_noise.history[\"val_accuracy\"]\n",
    "val_acc_zeros = history_noise.history[\"val_accuracy\"]\n",
    "epochs = range(1, 11)\n",
    "\n",
    "plt.plot(epochs, val_acc_noise, \"r-\", label=\"Validation accuracy with noise channels\")\n",
    "plt.plot(epochs, val_acc_zeros, \"b--\", label=\"Validation accuracy with zeros channels\")\n",
    "plt.title(\"Effect of noise channels on validation accuracy\")\n",
    "plt.xlabel(\"Epochs\")\n",
    "plt.ylabel(\"Accuracy\")\n",
    "plt.legend()\n",
    "plt.plot()"
   ]
  },
  {
   "cell_type": "markdown",
   "id": "eaee30ad",
   "metadata": {},
   "source": [
    "#### The nature of generalization in deep learning"
   ]
  },
  {
   "cell_type": "code",
   "execution_count": 19,
   "id": "6212b383",
   "metadata": {},
   "outputs": [],
   "source": [
    "# Fitting MNIST model with randimly shuffled labels\n",
    "(train_images, train_labels), _ = mnist.load_data()\n",
    "train_images = train_images.reshape((60000, 28 * 28))\n",
    "train_images = train_images.astype(\"float32\") / 255"
   ]
  },
  {
   "cell_type": "code",
   "execution_count": 20,
   "id": "160b5e89",
   "metadata": {},
   "outputs": [],
   "source": [
    "random_train_labels = train_labels[:]\n",
    "np.random.shuffle(random_train_labels)"
   ]
  },
  {
   "cell_type": "code",
   "execution_count": 21,
   "id": "d5018284",
   "metadata": {},
   "outputs": [
    {
     "name": "stdout",
     "output_type": "stream",
     "text": [
      "Epoch 1/100\n",
      "375/375 [==============================] - 1s 2ms/step - loss: 2.3169 - accuracy: 0.0995 - val_loss: 2.3077 - val_accuracy: 0.1093\n",
      "Epoch 2/100\n",
      "375/375 [==============================] - 1s 2ms/step - loss: 2.3005 - accuracy: 0.1158 - val_loss: 2.3140 - val_accuracy: 0.1013\n",
      "Epoch 3/100\n",
      "375/375 [==============================] - 1s 2ms/step - loss: 2.2910 - accuracy: 0.1271 - val_loss: 2.3203 - val_accuracy: 0.1038\n",
      "Epoch 4/100\n",
      "375/375 [==============================] - 1s 2ms/step - loss: 2.2761 - accuracy: 0.1426 - val_loss: 2.3271 - val_accuracy: 0.1032\n",
      "Epoch 5/100\n",
      "375/375 [==============================] - 1s 2ms/step - loss: 2.2592 - accuracy: 0.1536 - val_loss: 2.3387 - val_accuracy: 0.1027\n",
      "Epoch 6/100\n",
      "375/375 [==============================] - 1s 2ms/step - loss: 2.2368 - accuracy: 0.1696 - val_loss: 2.3508 - val_accuracy: 0.1082\n",
      "Epoch 7/100\n",
      "375/375 [==============================] - 1s 2ms/step - loss: 2.2145 - accuracy: 0.1823 - val_loss: 2.3650 - val_accuracy: 0.1048\n",
      "Epoch 8/100\n",
      "375/375 [==============================] - 1s 2ms/step - loss: 2.1847 - accuracy: 0.2004 - val_loss: 2.3856 - val_accuracy: 0.1007\n",
      "Epoch 9/100\n",
      "375/375 [==============================] - 1s 2ms/step - loss: 2.1557 - accuracy: 0.2160 - val_loss: 2.3957 - val_accuracy: 0.1022\n",
      "Epoch 10/100\n",
      "375/375 [==============================] - 1s 2ms/step - loss: 2.1241 - accuracy: 0.2322 - val_loss: 2.4243 - val_accuracy: 0.1013\n",
      "Epoch 11/100\n",
      "375/375 [==============================] - 1s 2ms/step - loss: 2.0906 - accuracy: 0.2475 - val_loss: 2.4407 - val_accuracy: 0.1049\n",
      "Epoch 12/100\n",
      "375/375 [==============================] - 1s 2ms/step - loss: 2.0572 - accuracy: 0.2623 - val_loss: 2.4703 - val_accuracy: 0.1044\n",
      "Epoch 13/100\n",
      "375/375 [==============================] - 1s 2ms/step - loss: 2.0214 - accuracy: 0.2769 - val_loss: 2.5075 - val_accuracy: 0.1050\n",
      "Epoch 14/100\n",
      "375/375 [==============================] - 1s 2ms/step - loss: 1.9880 - accuracy: 0.2932 - val_loss: 2.5348 - val_accuracy: 0.1041\n",
      "Epoch 15/100\n",
      "375/375 [==============================] - 1s 2ms/step - loss: 1.9530 - accuracy: 0.3079 - val_loss: 2.5534 - val_accuracy: 0.1052\n",
      "Epoch 16/100\n",
      "375/375 [==============================] - 1s 2ms/step - loss: 1.9174 - accuracy: 0.3215 - val_loss: 2.5864 - val_accuracy: 0.1073\n",
      "Epoch 17/100\n",
      "375/375 [==============================] - 1s 2ms/step - loss: 1.8828 - accuracy: 0.3343 - val_loss: 2.6212 - val_accuracy: 0.1029\n",
      "Epoch 18/100\n",
      "375/375 [==============================] - 1s 2ms/step - loss: 1.8490 - accuracy: 0.3535 - val_loss: 2.6631 - val_accuracy: 0.1069\n",
      "Epoch 19/100\n",
      "375/375 [==============================] - 1s 2ms/step - loss: 1.8174 - accuracy: 0.3636 - val_loss: 2.7024 - val_accuracy: 0.1023\n",
      "Epoch 20/100\n",
      "375/375 [==============================] - 1s 2ms/step - loss: 1.7827 - accuracy: 0.3775 - val_loss: 2.7260 - val_accuracy: 0.1023\n",
      "Epoch 21/100\n",
      "375/375 [==============================] - 1s 2ms/step - loss: 1.7511 - accuracy: 0.3882 - val_loss: 2.7795 - val_accuracy: 0.1019\n",
      "Epoch 22/100\n",
      "375/375 [==============================] - 1s 2ms/step - loss: 1.7196 - accuracy: 0.4013 - val_loss: 2.8042 - val_accuracy: 0.0993\n",
      "Epoch 23/100\n",
      "375/375 [==============================] - 1s 2ms/step - loss: 1.6887 - accuracy: 0.4134 - val_loss: 2.8443 - val_accuracy: 0.1031\n",
      "Epoch 24/100\n",
      "375/375 [==============================] - 1s 2ms/step - loss: 1.6588 - accuracy: 0.4264 - val_loss: 2.8922 - val_accuracy: 0.1018\n",
      "Epoch 25/100\n",
      "375/375 [==============================] - 1s 2ms/step - loss: 1.6299 - accuracy: 0.4349 - val_loss: 2.9304 - val_accuracy: 0.1067\n",
      "Epoch 26/100\n",
      "375/375 [==============================] - 1s 2ms/step - loss: 1.6002 - accuracy: 0.4508 - val_loss: 2.9619 - val_accuracy: 0.1052\n",
      "Epoch 27/100\n",
      "375/375 [==============================] - 1s 2ms/step - loss: 1.5713 - accuracy: 0.4579 - val_loss: 3.0080 - val_accuracy: 0.1028\n",
      "Epoch 28/100\n",
      "375/375 [==============================] - 1s 2ms/step - loss: 1.5434 - accuracy: 0.4712 - val_loss: 3.0599 - val_accuracy: 0.1028\n",
      "Epoch 29/100\n",
      "375/375 [==============================] - 1s 2ms/step - loss: 1.5163 - accuracy: 0.4801 - val_loss: 3.0929 - val_accuracy: 0.1075\n",
      "Epoch 30/100\n",
      "375/375 [==============================] - 1s 2ms/step - loss: 1.4888 - accuracy: 0.4883 - val_loss: 3.1465 - val_accuracy: 0.1073\n",
      "Epoch 31/100\n",
      "375/375 [==============================] - 1s 2ms/step - loss: 1.4648 - accuracy: 0.4988 - val_loss: 3.1876 - val_accuracy: 0.1037\n",
      "Epoch 32/100\n",
      "375/375 [==============================] - 1s 2ms/step - loss: 1.4393 - accuracy: 0.5085 - val_loss: 3.2416 - val_accuracy: 0.1078\n",
      "Epoch 33/100\n",
      "375/375 [==============================] - 1s 2ms/step - loss: 1.4129 - accuracy: 0.5192 - val_loss: 3.3090 - val_accuracy: 0.1037\n",
      "Epoch 34/100\n",
      "375/375 [==============================] - 1s 2ms/step - loss: 1.3911 - accuracy: 0.5271 - val_loss: 3.3616 - val_accuracy: 0.1058\n",
      "Epoch 35/100\n",
      "375/375 [==============================] - 1s 2ms/step - loss: 1.3657 - accuracy: 0.5350 - val_loss: 3.3921 - val_accuracy: 0.1059\n",
      "Epoch 36/100\n",
      "375/375 [==============================] - 1s 2ms/step - loss: 1.3432 - accuracy: 0.5436 - val_loss: 3.4328 - val_accuracy: 0.1058\n",
      "Epoch 37/100\n",
      "375/375 [==============================] - 1s 2ms/step - loss: 1.3222 - accuracy: 0.5510 - val_loss: 3.4841 - val_accuracy: 0.1056\n",
      "Epoch 38/100\n",
      "375/375 [==============================] - 1s 2ms/step - loss: 1.2994 - accuracy: 0.5609 - val_loss: 3.5540 - val_accuracy: 0.1075\n",
      "Epoch 39/100\n",
      "375/375 [==============================] - 1s 2ms/step - loss: 1.2750 - accuracy: 0.5677 - val_loss: 3.5553 - val_accuracy: 0.1061\n",
      "Epoch 40/100\n",
      "375/375 [==============================] - 1s 2ms/step - loss: 1.2557 - accuracy: 0.5751 - val_loss: 3.6478 - val_accuracy: 0.1062\n",
      "Epoch 41/100\n",
      "375/375 [==============================] - 1s 2ms/step - loss: 1.2347 - accuracy: 0.5830 - val_loss: 3.6957 - val_accuracy: 0.1055\n",
      "Epoch 42/100\n",
      "375/375 [==============================] - 1s 2ms/step - loss: 1.2134 - accuracy: 0.5922 - val_loss: 3.7457 - val_accuracy: 0.1017\n",
      "Epoch 43/100\n",
      "375/375 [==============================] - 1s 2ms/step - loss: 1.1956 - accuracy: 0.5996 - val_loss: 3.8043 - val_accuracy: 0.1020\n",
      "Epoch 44/100\n",
      "375/375 [==============================] - 1s 2ms/step - loss: 1.1757 - accuracy: 0.6041 - val_loss: 3.8242 - val_accuracy: 0.1034\n",
      "Epoch 45/100\n",
      "375/375 [==============================] - 1s 2ms/step - loss: 1.1560 - accuracy: 0.6102 - val_loss: 3.8853 - val_accuracy: 0.1030\n",
      "Epoch 46/100\n",
      "375/375 [==============================] - 1s 2ms/step - loss: 1.1360 - accuracy: 0.6189 - val_loss: 3.9326 - val_accuracy: 0.1046\n",
      "Epoch 47/100\n",
      "375/375 [==============================] - 1s 2ms/step - loss: 1.1191 - accuracy: 0.6254 - val_loss: 4.0038 - val_accuracy: 0.1047\n",
      "Epoch 48/100\n",
      "375/375 [==============================] - 1s 2ms/step - loss: 1.1000 - accuracy: 0.6335 - val_loss: 4.0708 - val_accuracy: 0.1066\n",
      "Epoch 49/100\n",
      "375/375 [==============================] - 1s 2ms/step - loss: 1.0821 - accuracy: 0.6370 - val_loss: 4.1389 - val_accuracy: 0.0998\n",
      "Epoch 50/100\n",
      "375/375 [==============================] - 1s 2ms/step - loss: 1.0664 - accuracy: 0.6437 - val_loss: 4.1933 - val_accuracy: 0.1050\n",
      "Epoch 51/100\n",
      "375/375 [==============================] - 1s 2ms/step - loss: 1.0482 - accuracy: 0.6516 - val_loss: 4.2405 - val_accuracy: 0.1018\n",
      "Epoch 52/100\n",
      "375/375 [==============================] - 1s 2ms/step - loss: 1.0336 - accuracy: 0.6541 - val_loss: 4.2848 - val_accuracy: 0.1087\n",
      "Epoch 53/100\n",
      "375/375 [==============================] - 1s 2ms/step - loss: 1.0141 - accuracy: 0.6634 - val_loss: 4.3391 - val_accuracy: 0.1047\n",
      "Epoch 54/100\n",
      "375/375 [==============================] - 1s 2ms/step - loss: 0.9995 - accuracy: 0.6669 - val_loss: 4.3743 - val_accuracy: 0.1000\n",
      "Epoch 55/100\n",
      "375/375 [==============================] - 1s 2ms/step - loss: 0.9839 - accuracy: 0.6732 - val_loss: 4.4394 - val_accuracy: 0.1042\n",
      "Epoch 56/100\n",
      "375/375 [==============================] - 1s 2ms/step - loss: 0.9685 - accuracy: 0.6786 - val_loss: 4.5002 - val_accuracy: 0.1034\n",
      "Epoch 57/100\n",
      "375/375 [==============================] - 1s 2ms/step - loss: 0.9541 - accuracy: 0.6821 - val_loss: 4.5834 - val_accuracy: 0.1016\n"
     ]
    },
    {
     "name": "stdout",
     "output_type": "stream",
     "text": [
      "Epoch 58/100\n",
      "375/375 [==============================] - 1s 2ms/step - loss: 0.9405 - accuracy: 0.6888 - val_loss: 4.6295 - val_accuracy: 0.1044\n",
      "Epoch 59/100\n",
      "375/375 [==============================] - 1s 2ms/step - loss: 0.9228 - accuracy: 0.6938 - val_loss: 4.7073 - val_accuracy: 0.1058\n",
      "Epoch 60/100\n",
      "375/375 [==============================] - 1s 2ms/step - loss: 0.9111 - accuracy: 0.6973 - val_loss: 4.8084 - val_accuracy: 0.1021\n",
      "Epoch 61/100\n",
      "375/375 [==============================] - 1s 2ms/step - loss: 0.8941 - accuracy: 0.7053 - val_loss: 4.8363 - val_accuracy: 0.1028\n",
      "Epoch 62/100\n",
      "375/375 [==============================] - 1s 2ms/step - loss: 0.8822 - accuracy: 0.7101 - val_loss: 4.9088 - val_accuracy: 0.1013\n",
      "Epoch 63/100\n",
      "375/375 [==============================] - 1s 2ms/step - loss: 0.8665 - accuracy: 0.7143 - val_loss: 4.9551 - val_accuracy: 0.1058\n",
      "Epoch 64/100\n",
      "375/375 [==============================] - 1s 2ms/step - loss: 0.8545 - accuracy: 0.7172 - val_loss: 4.9906 - val_accuracy: 0.1057\n",
      "Epoch 65/100\n",
      "375/375 [==============================] - 1s 2ms/step - loss: 0.8405 - accuracy: 0.7235 - val_loss: 5.0630 - val_accuracy: 0.1058\n",
      "Epoch 66/100\n",
      "375/375 [==============================] - 1s 2ms/step - loss: 0.8295 - accuracy: 0.7270 - val_loss: 5.1155 - val_accuracy: 0.1057\n",
      "Epoch 67/100\n",
      "375/375 [==============================] - 1s 2ms/step - loss: 0.8166 - accuracy: 0.7303 - val_loss: 5.1677 - val_accuracy: 0.1032\n",
      "Epoch 68/100\n",
      "375/375 [==============================] - 1s 2ms/step - loss: 0.8045 - accuracy: 0.7375 - val_loss: 5.2363 - val_accuracy: 0.1058\n",
      "Epoch 69/100\n",
      "375/375 [==============================] - 1s 2ms/step - loss: 0.7931 - accuracy: 0.7410 - val_loss: 5.3186 - val_accuracy: 0.1042\n",
      "Epoch 70/100\n",
      "375/375 [==============================] - 1s 2ms/step - loss: 0.7820 - accuracy: 0.7433 - val_loss: 5.3641 - val_accuracy: 0.1033\n",
      "Epoch 71/100\n",
      "375/375 [==============================] - 1s 2ms/step - loss: 0.7692 - accuracy: 0.7469 - val_loss: 5.4702 - val_accuracy: 0.1030\n",
      "Epoch 72/100\n",
      "375/375 [==============================] - 1s 2ms/step - loss: 0.7573 - accuracy: 0.7508 - val_loss: 5.4768 - val_accuracy: 0.1041\n",
      "Epoch 73/100\n",
      "375/375 [==============================] - 1s 2ms/step - loss: 0.7452 - accuracy: 0.7571 - val_loss: 5.5575 - val_accuracy: 0.1053\n",
      "Epoch 74/100\n",
      "375/375 [==============================] - 1s 2ms/step - loss: 0.7384 - accuracy: 0.7575 - val_loss: 5.6312 - val_accuracy: 0.1067\n",
      "Epoch 75/100\n",
      "375/375 [==============================] - 1s 2ms/step - loss: 0.7251 - accuracy: 0.7639 - val_loss: 5.7187 - val_accuracy: 0.1007\n",
      "Epoch 76/100\n",
      "375/375 [==============================] - 1s 2ms/step - loss: 0.7133 - accuracy: 0.7673 - val_loss: 5.7497 - val_accuracy: 0.1032\n",
      "Epoch 77/100\n",
      "375/375 [==============================] - 1s 2ms/step - loss: 0.7019 - accuracy: 0.7709 - val_loss: 5.8491 - val_accuracy: 0.1051\n",
      "Epoch 78/100\n",
      "375/375 [==============================] - 1s 2ms/step - loss: 0.6943 - accuracy: 0.7747 - val_loss: 5.8977 - val_accuracy: 0.1034\n",
      "Epoch 79/100\n",
      "375/375 [==============================] - 1s 2ms/step - loss: 0.6826 - accuracy: 0.7784 - val_loss: 5.9891 - val_accuracy: 0.1033\n",
      "Epoch 80/100\n",
      "375/375 [==============================] - 1s 2ms/step - loss: 0.6733 - accuracy: 0.7809 - val_loss: 6.0020 - val_accuracy: 0.1030\n",
      "Epoch 81/100\n",
      "375/375 [==============================] - 1s 2ms/step - loss: 0.6640 - accuracy: 0.7850 - val_loss: 6.0781 - val_accuracy: 0.1051\n",
      "Epoch 82/100\n",
      "375/375 [==============================] - 1s 2ms/step - loss: 0.6536 - accuracy: 0.7864 - val_loss: 6.1773 - val_accuracy: 0.1049\n",
      "Epoch 83/100\n",
      "375/375 [==============================] - 1s 2ms/step - loss: 0.6427 - accuracy: 0.7919 - val_loss: 6.1986 - val_accuracy: 0.1009\n",
      "Epoch 84/100\n",
      "375/375 [==============================] - 1s 2ms/step - loss: 0.6352 - accuracy: 0.7936 - val_loss: 6.3143 - val_accuracy: 0.1047\n",
      "Epoch 85/100\n",
      "375/375 [==============================] - 1s 2ms/step - loss: 0.6284 - accuracy: 0.7973 - val_loss: 6.3965 - val_accuracy: 0.1027\n",
      "Epoch 86/100\n",
      "375/375 [==============================] - 1s 2ms/step - loss: 0.6157 - accuracy: 0.8023 - val_loss: 6.4509 - val_accuracy: 0.1028\n",
      "Epoch 87/100\n",
      "375/375 [==============================] - 1s 2ms/step - loss: 0.6104 - accuracy: 0.8029 - val_loss: 6.4911 - val_accuracy: 0.1048\n",
      "Epoch 88/100\n",
      "375/375 [==============================] - 1s 2ms/step - loss: 0.6002 - accuracy: 0.8066 - val_loss: 6.5753 - val_accuracy: 0.1031\n",
      "Epoch 89/100\n",
      "375/375 [==============================] - 1s 2ms/step - loss: 0.5926 - accuracy: 0.8091 - val_loss: 6.7217 - val_accuracy: 0.1045\n",
      "Epoch 90/100\n",
      "375/375 [==============================] - 1s 2ms/step - loss: 0.5839 - accuracy: 0.8105 - val_loss: 6.7105 - val_accuracy: 0.1028\n",
      "Epoch 91/100\n",
      "375/375 [==============================] - 1s 2ms/step - loss: 0.5760 - accuracy: 0.8133 - val_loss: 6.7970 - val_accuracy: 0.1041\n",
      "Epoch 92/100\n",
      "375/375 [==============================] - 1s 2ms/step - loss: 0.5661 - accuracy: 0.8179 - val_loss: 6.8239 - val_accuracy: 0.1023\n",
      "Epoch 93/100\n",
      "375/375 [==============================] - 1s 2ms/step - loss: 0.5600 - accuracy: 0.8200 - val_loss: 6.9085 - val_accuracy: 0.1003\n",
      "Epoch 94/100\n",
      "375/375 [==============================] - 1s 2ms/step - loss: 0.5496 - accuracy: 0.8224 - val_loss: 7.0048 - val_accuracy: 0.1025\n",
      "Epoch 95/100\n",
      "375/375 [==============================] - 1s 2ms/step - loss: 0.5442 - accuracy: 0.8249 - val_loss: 7.0230 - val_accuracy: 0.1022\n",
      "Epoch 96/100\n",
      "375/375 [==============================] - 1s 2ms/step - loss: 0.5365 - accuracy: 0.8277 - val_loss: 7.1207 - val_accuracy: 0.1013\n",
      "Epoch 97/100\n",
      "375/375 [==============================] - 1s 2ms/step - loss: 0.5294 - accuracy: 0.8310 - val_loss: 7.1745 - val_accuracy: 0.1013\n",
      "Epoch 98/100\n",
      "375/375 [==============================] - 1s 2ms/step - loss: 0.5220 - accuracy: 0.8314 - val_loss: 7.2654 - val_accuracy: 0.1007\n",
      "Epoch 99/100\n",
      "375/375 [==============================] - 1s 2ms/step - loss: 0.5143 - accuracy: 0.8370 - val_loss: 7.3632 - val_accuracy: 0.1001\n",
      "Epoch 100/100\n",
      "375/375 [==============================] - 1s 2ms/step - loss: 0.5073 - accuracy: 0.8385 - val_loss: 7.4379 - val_accuracy: 0.1012\n"
     ]
    },
    {
     "data": {
      "text/plain": [
       "<keras.src.callbacks.History at 0x346dcc690>"
      ]
     },
     "execution_count": 21,
     "metadata": {},
     "output_type": "execute_result"
    }
   ],
   "source": [
    "model = keras.Sequential([\n",
    "    layers.Dense(512, activation=\"relu\"),\n",
    "    layers.Dense(10, activation=\"softmax\")\n",
    "])\n",
    "model.compile(optimizer=\"rmsprop\",\n",
    "              loss=\"sparse_categorical_crossentropy\",\n",
    "              metrics=[\"accuracy\"])\n",
    "model.fit(train_images, random_train_labels,\n",
    "          epochs=100,\n",
    "          batch_size=128,\n",
    "          validation_split=0.2)"
   ]
  },
  {
   "cell_type": "markdown",
   "id": "ca434191",
   "metadata": {},
   "source": [
    "### Evaluationg Machine Learning Models\n",
    "\n",
    "#### Training, validation & test sets\n",
    "\n",
    "##### Simple Holdout Validation"
   ]
  },
  {
   "cell_type": "code",
   "execution_count": 24,
   "id": "a9873c89",
   "metadata": {},
   "outputs": [
    {
     "data": {
      "text/plain": [
       "'\\nnum_validation_samples = 10000\\nnp.random.shuffle(data)\\n\\n# Defining Validation set\\nvalidation_data = data[:num_validation_samples]\\n# Setting train set\\ntraining_data = data[num_validation_samples:]\\nmodel = get_model()\\n# Model Training\\nmodel.fit(training_data, ...)\\nvalidation_score = model.evaluate(validation_data,..)\\n\\n...\\n\\nmodel = get_model()\\nmodel.fit(np.concatenate([training_data,\\n                            validation_data]), ...)\\n\\ntest_score = model.evaluate(test_data, ...)\\n'"
      ]
     },
     "execution_count": 24,
     "metadata": {},
     "output_type": "execute_result"
    }
   ],
   "source": [
    "# Holdout validation (note that labels are omitted for simplicity)\n",
    "\n",
    "'''\n",
    "num_validation_samples = 10000\n",
    "np.random.shuffle(data)\n",
    "\n",
    "# Defining Validation set\n",
    "validation_data = data[:num_validation_samples]\n",
    "# Setting train set\n",
    "training_data = data[num_validation_samples:]\n",
    "model = get_model()\n",
    "# Model Training\n",
    "model.fit(training_data, ...)\n",
    "validation_score = model.evaluate(validation_data,..)\n",
    "\n",
    "...\n",
    "\n",
    "model = get_model()\n",
    "model.fit(np.concatenate([training_data,\n",
    "                            validation_data]), ...)\n",
    "\n",
    "test_score = model.evaluate(test_data, ...)\n",
    "'''"
   ]
  },
  {
   "cell_type": "markdown",
   "id": "7aaae592",
   "metadata": {},
   "source": [
    "##### K-Fold Validation"
   ]
  },
  {
   "cell_type": "code",
   "execution_count": 25,
   "id": "72dbf37f",
   "metadata": {},
   "outputs": [],
   "source": [
    "# k = 3\n",
    "# num_validation_samples = len(data) // k\n",
    "# np.random.shuffle(data)\n",
    "# validation_scores = []\n",
    "\n",
    "# for fold in range(k):\n",
    "#     validation_data = data[num_validation_samples * fold:\n",
    "#                            num_validation_samples * (fold + 1)]\n",
    "    \n",
    "#     training_data = np.concatenate(\n",
    "#         data[:num_validation_samples *],\n",
    "#         data[num_validation_samples * (fold + 1) :])\n",
    "    \n",
    "#     model = get_model()\n",
    "#     model.fit(training_data, ...)\n",
    "#     validation_score = model.evaluate(validation_data, ...)\n",
    "#     validation_scores.append(validation_score)\n",
    "# validation_score = np.average(validation_scores)\n",
    "# model = get_model()\n",
    "# model.fit(data, ...)\n",
    "# test_score = model.evaluate(test_data, ...)"
   ]
  },
  {
   "cell_type": "markdown",
   "id": "55ecf5b7",
   "metadata": {},
   "source": [
    "### Improving Model Fit\n",
    "\n",
    "#### Tuning Key Gradient Descent Parameters"
   ]
  },
  {
   "cell_type": "code",
   "execution_count": 26,
   "id": "1c0d684c",
   "metadata": {},
   "outputs": [],
   "source": [
    "# Training with inappropiately large learning rate as follow:\n",
    "(train_images, train_labels), _ = mnist.load_data()\n",
    "train_images = train_images.reshape((60000, 28 * 28))\n",
    "train_images = train_images.astype(\"float32\") / 255"
   ]
  },
  {
   "cell_type": "code",
   "execution_count": 27,
   "id": "5484a221",
   "metadata": {},
   "outputs": [],
   "source": [
    "# Setting Model\n",
    "model = keras.Sequential([\n",
    "    layers.Dense(512, activation=\"relu\"),\n",
    "    layers.Dense(10, activation=\"softmax\")\n",
    "])"
   ]
  },
  {
   "cell_type": "code",
   "execution_count": 30,
   "id": "fdaa2f14",
   "metadata": {},
   "outputs": [],
   "source": [
    "# Compiling model\n",
    "from tensorflow.keras.optimizers import legacy\n",
    "\n",
    "model.compile(optimizer=legacy.RMSprop(lr=1.),\n",
    "              loss=\"sparse_categorical_crossentropy\",\n",
    "              metrics=[\"accuracy\"])"
   ]
  },
  {
   "cell_type": "code",
   "execution_count": 31,
   "id": "01c2ff3a",
   "metadata": {},
   "outputs": [
    {
     "name": "stdout",
     "output_type": "stream",
     "text": [
      "Epoch 1/10\n",
      "375/375 [==============================] - 1s 2ms/step - loss: 766.2747 - accuracy: 0.3504 - val_loss: 2.3370 - val_accuracy: 0.2693\n",
      "Epoch 2/10\n",
      "375/375 [==============================] - 1s 2ms/step - loss: 4.0160 - accuracy: 0.2612 - val_loss: 3.1786 - val_accuracy: 0.2612\n",
      "Epoch 3/10\n",
      "375/375 [==============================] - 1s 2ms/step - loss: 3.2278 - accuracy: 0.2459 - val_loss: 2.2493 - val_accuracy: 0.2604\n",
      "Epoch 4/10\n",
      "375/375 [==============================] - 1s 2ms/step - loss: 2.9371 - accuracy: 0.2585 - val_loss: 2.3474 - val_accuracy: 0.2851\n",
      "Epoch 5/10\n",
      "375/375 [==============================] - 1s 2ms/step - loss: 2.5447 - accuracy: 0.2591 - val_loss: 2.3564 - val_accuracy: 0.3272\n",
      "Epoch 6/10\n",
      "375/375 [==============================] - 1s 2ms/step - loss: 2.7541 - accuracy: 0.2596 - val_loss: 2.3719 - val_accuracy: 0.2772\n",
      "Epoch 7/10\n",
      "375/375 [==============================] - 1s 2ms/step - loss: 2.6446 - accuracy: 0.2573 - val_loss: 2.3103 - val_accuracy: 0.2322\n",
      "Epoch 8/10\n",
      "375/375 [==============================] - 1s 2ms/step - loss: 2.2401 - accuracy: 0.2276 - val_loss: 2.1414 - val_accuracy: 0.2465\n",
      "Epoch 9/10\n",
      "375/375 [==============================] - 1s 2ms/step - loss: 2.5339 - accuracy: 0.2531 - val_loss: 2.7127 - val_accuracy: 0.3086\n",
      "Epoch 10/10\n",
      "375/375 [==============================] - 1s 2ms/step - loss: 2.6676 - accuracy: 0.2592 - val_loss: 2.9653 - val_accuracy: 0.2701\n"
     ]
    },
    {
     "data": {
      "text/plain": [
       "<keras.src.callbacks.History at 0x3661d4b50>"
      ]
     },
     "execution_count": 31,
     "metadata": {},
     "output_type": "execute_result"
    }
   ],
   "source": [
    "model.fit(train_images, train_labels,\n",
    "          epochs=10,\n",
    "          batch_size=128,\n",
    "          validation_split=0.2)"
   ]
  },
  {
   "cell_type": "markdown",
   "id": "af967886",
   "metadata": {},
   "source": [
    "##### With an appropiate Learning Rate"
   ]
  },
  {
   "cell_type": "code",
   "execution_count": 33,
   "id": "ee6284f8",
   "metadata": {},
   "outputs": [
    {
     "name": "stdout",
     "output_type": "stream",
     "text": [
      "Epoch 1/10\n",
      "375/375 [==============================] - 1s 2ms/step - loss: 0.3469 - accuracy: 0.9129 - val_loss: 0.1858 - val_accuracy: 0.9528\n",
      "Epoch 2/10\n",
      "375/375 [==============================] - 1s 2ms/step - loss: 0.1451 - accuracy: 0.9640 - val_loss: 0.1625 - val_accuracy: 0.9615\n",
      "Epoch 3/10\n",
      "375/375 [==============================] - 1s 2ms/step - loss: 0.1129 - accuracy: 0.9732 - val_loss: 0.1703 - val_accuracy: 0.9677\n",
      "Epoch 4/10\n",
      "375/375 [==============================] - 1s 2ms/step - loss: 0.1013 - accuracy: 0.9776 - val_loss: 0.1758 - val_accuracy: 0.9739\n",
      "Epoch 5/10\n",
      "375/375 [==============================] - 1s 2ms/step - loss: 0.0868 - accuracy: 0.9819 - val_loss: 0.2074 - val_accuracy: 0.9727\n",
      "Epoch 6/10\n",
      "375/375 [==============================] - 1s 2ms/step - loss: 0.0796 - accuracy: 0.9839 - val_loss: 0.2216 - val_accuracy: 0.9706\n",
      "Epoch 7/10\n",
      "375/375 [==============================] - 1s 2ms/step - loss: 0.0733 - accuracy: 0.9865 - val_loss: 0.2499 - val_accuracy: 0.9711\n",
      "Epoch 8/10\n",
      "375/375 [==============================] - 1s 2ms/step - loss: 0.0686 - accuracy: 0.9882 - val_loss: 0.2758 - val_accuracy: 0.9732\n",
      "Epoch 9/10\n",
      "375/375 [==============================] - 1s 2ms/step - loss: 0.0644 - accuracy: 0.9885 - val_loss: 0.3294 - val_accuracy: 0.9702\n",
      "Epoch 10/10\n",
      "375/375 [==============================] - 1s 2ms/step - loss: 0.0566 - accuracy: 0.9903 - val_loss: 0.2961 - val_accuracy: 0.9737\n"
     ]
    },
    {
     "data": {
      "text/plain": [
       "<keras.src.callbacks.History at 0x36ff4ff90>"
      ]
     },
     "execution_count": 33,
     "metadata": {},
     "output_type": "execute_result"
    }
   ],
   "source": [
    "# Re-setting a Well trained model set-up\n",
    "model = keras.Sequential([\n",
    "    layers.Dense(512, activation=\"relu\"),\n",
    "    layers.Dense(10, activation=\"softmax\")\n",
    "])\n",
    "\n",
    "# Compiling model\n",
    "\n",
    "model.compile(optimizer=legacy.RMSprop(1e-2),\n",
    "              loss=\"sparse_categorical_crossentropy\",\n",
    "              metrics=[\"accuracy\"])\n",
    "\n",
    "# Fitting Model\n",
    "model.fit(train_images, train_labels,\n",
    "          epochs=10,\n",
    "          batch_size=128,\n",
    "          validation_split=0.2)"
   ]
  },
  {
   "cell_type": "markdown",
   "id": "0662693e",
   "metadata": {},
   "source": [
    "#### Increasing Model Capacity"
   ]
  },
  {
   "cell_type": "code",
   "execution_count": 34,
   "id": "f4a4128b",
   "metadata": {},
   "outputs": [],
   "source": [
    "model = keras.Sequential([layers.Dense(10, activation=\"softmax\")])\n",
    "\n",
    "model.compile(optimizer=\"rmsprop\",\n",
    "              loss=\"sparse_categorical_crossentropy\",\n",
    "              metrics=[\"accuracy\"])"
   ]
  },
  {
   "cell_type": "code",
   "execution_count": 36,
   "id": "7da2ed79",
   "metadata": {},
   "outputs": [
    {
     "name": "stdout",
     "output_type": "stream",
     "text": [
      "Epoch 1/20\n",
      "375/375 [==============================] - 0s 553us/step - loss: 0.6686 - accuracy: 0.8371 - val_loss: 0.3613 - val_accuracy: 0.9034\n",
      "Epoch 2/20\n",
      "375/375 [==============================] - 0s 371us/step - loss: 0.3512 - accuracy: 0.9031 - val_loss: 0.3077 - val_accuracy: 0.9154\n",
      "Epoch 3/20\n",
      "375/375 [==============================] - 0s 377us/step - loss: 0.3154 - accuracy: 0.9126 - val_loss: 0.2895 - val_accuracy: 0.9195\n",
      "Epoch 4/20\n",
      "375/375 [==============================] - 0s 376us/step - loss: 0.2993 - accuracy: 0.9165 - val_loss: 0.2814 - val_accuracy: 0.9214\n",
      "Epoch 5/20\n",
      "375/375 [==============================] - 0s 382us/step - loss: 0.2895 - accuracy: 0.9188 - val_loss: 0.2765 - val_accuracy: 0.9228\n",
      "Epoch 6/20\n",
      "375/375 [==============================] - 0s 375us/step - loss: 0.2829 - accuracy: 0.9207 - val_loss: 0.2716 - val_accuracy: 0.9262\n",
      "Epoch 7/20\n",
      "375/375 [==============================] - 0s 391us/step - loss: 0.2779 - accuracy: 0.9226 - val_loss: 0.2683 - val_accuracy: 0.9268\n",
      "Epoch 8/20\n",
      "375/375 [==============================] - 0s 377us/step - loss: 0.2742 - accuracy: 0.9232 - val_loss: 0.2675 - val_accuracy: 0.9268\n",
      "Epoch 9/20\n",
      "375/375 [==============================] - 0s 370us/step - loss: 0.2712 - accuracy: 0.9247 - val_loss: 0.2673 - val_accuracy: 0.9265\n",
      "Epoch 10/20\n",
      "375/375 [==============================] - 0s 376us/step - loss: 0.2685 - accuracy: 0.9254 - val_loss: 0.2667 - val_accuracy: 0.9273\n",
      "Epoch 11/20\n",
      "375/375 [==============================] - 0s 372us/step - loss: 0.2665 - accuracy: 0.9266 - val_loss: 0.2635 - val_accuracy: 0.9286\n",
      "Epoch 12/20\n",
      "375/375 [==============================] - 0s 376us/step - loss: 0.2645 - accuracy: 0.9270 - val_loss: 0.2627 - val_accuracy: 0.9287\n",
      "Epoch 13/20\n",
      "375/375 [==============================] - 0s 412us/step - loss: 0.2627 - accuracy: 0.9277 - val_loss: 0.2621 - val_accuracy: 0.9302\n",
      "Epoch 14/20\n",
      "375/375 [==============================] - 0s 431us/step - loss: 0.2615 - accuracy: 0.9285 - val_loss: 0.2620 - val_accuracy: 0.9302\n",
      "Epoch 15/20\n",
      "375/375 [==============================] - 0s 425us/step - loss: 0.2599 - accuracy: 0.9292 - val_loss: 0.2634 - val_accuracy: 0.9308\n",
      "Epoch 16/20\n",
      "375/375 [==============================] - 0s 405us/step - loss: 0.2591 - accuracy: 0.9291 - val_loss: 0.2637 - val_accuracy: 0.9286\n",
      "Epoch 17/20\n",
      "375/375 [==============================] - 0s 397us/step - loss: 0.2580 - accuracy: 0.9296 - val_loss: 0.2609 - val_accuracy: 0.9312\n",
      "Epoch 18/20\n",
      "375/375 [==============================] - 0s 392us/step - loss: 0.2570 - accuracy: 0.9302 - val_loss: 0.2608 - val_accuracy: 0.9304\n",
      "Epoch 19/20\n",
      "375/375 [==============================] - 0s 389us/step - loss: 0.2564 - accuracy: 0.9304 - val_loss: 0.2611 - val_accuracy: 0.9300\n",
      "Epoch 20/20\n",
      "375/375 [==============================] - 0s 379us/step - loss: 0.2554 - accuracy: 0.9300 - val_loss: 0.2616 - val_accuracy: 0.9316\n"
     ]
    }
   ],
   "source": [
    "history_small_model = model.fit(train_images, train_labels,\n",
    "                                epochs=20,\n",
    "                                batch_size=128,\n",
    "                                validation_split=0.2)"
   ]
  },
  {
   "cell_type": "code",
   "execution_count": 41,
   "id": "9b757ffe",
   "metadata": {},
   "outputs": [
    {
     "data": {
      "image/png": "[encoded data removed]",
      "text/plain": [
       "<Figure size 640x480 with 1 Axes>"
      ]
     },
     "metadata": {},
     "output_type": "display_data"
    }
   ],
   "source": [
    "# Getting Loss curve as follow:\n",
    "val_loss = history_small_model.history[\"val_loss\"]\n",
    "epochs = range(1, 21)\n",
    "\n",
    "plt.plot(epochs, val_loss, \"b--\", label=\"Validation loss\")\n",
    "plt.title(\"Effect of insufficient model capacity on validation loss\")\n",
    "plt.xlabel(\"Epochs\")\n",
    "plt.ylabel(\"Loss\")\n",
    "plt.grid(True)\n",
    "plt.legend()\n",
    "plt.show()"
   ]
  },
  {
   "cell_type": "code",
   "execution_count": 42,
   "id": "a70442cd",
   "metadata": {},
   "outputs": [
    {
     "name": "stdout",
     "output_type": "stream",
     "text": [
      "Epoch 1/20\n",
      "375/375 [==============================] - 0s 931us/step - loss: 0.3694 - accuracy: 0.8948 - val_loss: 0.1892 - val_accuracy: 0.9453\n",
      "Epoch 2/20\n",
      "375/375 [==============================] - 0s 768us/step - loss: 0.1661 - accuracy: 0.9509 - val_loss: 0.1598 - val_accuracy: 0.9528\n",
      "Epoch 3/20\n",
      "375/375 [==============================] - 0s 769us/step - loss: 0.1185 - accuracy: 0.9645 - val_loss: 0.1267 - val_accuracy: 0.9618\n",
      "Epoch 4/20\n",
      "375/375 [==============================] - 0s 820us/step - loss: 0.0906 - accuracy: 0.9728 - val_loss: 0.1230 - val_accuracy: 0.9633\n",
      "Epoch 5/20\n",
      "375/375 [==============================] - 0s 832us/step - loss: 0.0721 - accuracy: 0.9781 - val_loss: 0.0913 - val_accuracy: 0.9732\n",
      "Epoch 6/20\n",
      "375/375 [==============================] - 0s 813us/step - loss: 0.0582 - accuracy: 0.9821 - val_loss: 0.0937 - val_accuracy: 0.9737\n",
      "Epoch 7/20\n",
      "375/375 [==============================] - 0s 787us/step - loss: 0.0483 - accuracy: 0.9854 - val_loss: 0.1084 - val_accuracy: 0.9683\n",
      "Epoch 8/20\n",
      "375/375 [==============================] - 0s 797us/step - loss: 0.0411 - accuracy: 0.9873 - val_loss: 0.0895 - val_accuracy: 0.9749\n",
      "Epoch 9/20\n",
      "375/375 [==============================] - 0s 767us/step - loss: 0.0341 - accuracy: 0.9893 - val_loss: 0.0970 - val_accuracy: 0.9748\n",
      "Epoch 10/20\n",
      "375/375 [==============================] - 0s 775us/step - loss: 0.0285 - accuracy: 0.9911 - val_loss: 0.1016 - val_accuracy: 0.9737\n",
      "Epoch 11/20\n",
      "375/375 [==============================] - 0s 783us/step - loss: 0.0241 - accuracy: 0.9927 - val_loss: 0.1092 - val_accuracy: 0.9727\n",
      "Epoch 12/20\n",
      "375/375 [==============================] - 0s 798us/step - loss: 0.0205 - accuracy: 0.9938 - val_loss: 0.1078 - val_accuracy: 0.9744\n",
      "Epoch 13/20\n",
      "375/375 [==============================] - 0s 824us/step - loss: 0.0180 - accuracy: 0.9944 - val_loss: 0.1094 - val_accuracy: 0.9748\n",
      "Epoch 14/20\n",
      "375/375 [==============================] - 0s 813us/step - loss: 0.0146 - accuracy: 0.9955 - val_loss: 0.1174 - val_accuracy: 0.9734\n",
      "Epoch 15/20\n",
      "375/375 [==============================] - 0s 810us/step - loss: 0.0121 - accuracy: 0.9962 - val_loss: 0.1155 - val_accuracy: 0.9740\n",
      "Epoch 16/20\n",
      "375/375 [==============================] - 0s 789us/step - loss: 0.0108 - accuracy: 0.9965 - val_loss: 0.1168 - val_accuracy: 0.9758\n",
      "Epoch 17/20\n",
      "375/375 [==============================] - 0s 785us/step - loss: 0.0094 - accuracy: 0.9971 - val_loss: 0.1227 - val_accuracy: 0.9764\n",
      "Epoch 18/20\n",
      "375/375 [==============================] - 0s 781us/step - loss: 0.0082 - accuracy: 0.9975 - val_loss: 0.1211 - val_accuracy: 0.9768\n",
      "Epoch 19/20\n",
      "375/375 [==============================] - 0s 776us/step - loss: 0.0072 - accuracy: 0.9977 - val_loss: 0.1326 - val_accuracy: 0.9740\n",
      "Epoch 20/20\n",
      "375/375 [==============================] - 0s 770us/step - loss: 0.0059 - accuracy: 0.9980 - val_loss: 0.1371 - val_accuracy: 0.9752\n"
     ]
    }
   ],
   "source": [
    "model = keras.Sequential([\n",
    "    layers.Dense(96, activation=\"relu\"),\n",
    "    layers.Dense(96, activation=\"relu\"),\n",
    "    layers.Dense(10, activation=\"softmax\"),\n",
    "])\n",
    "\n",
    "# Compiling model\n",
    "model.compile(optimizer=\"rmsprop\",\n",
    "              loss=\"sparse_categorical_crossentropy\",\n",
    "              metrics=[\"accuracy\"])\n",
    "\n",
    "# Fitting model\n",
    "history_large_model = model.fit(\n",
    "    train_images, train_labels,\n",
    "    epochs=20,\n",
    "    batch_size=128,\n",
    "    validation_split=0.2)"
   ]
  },
  {
   "cell_type": "markdown",
   "id": "9c981fef",
   "metadata": {},
   "source": [
    "### Improve Generalization\n",
    "\n",
    "#### Regularizing the model\n",
    "\n",
    "##### reducing the network size"
   ]
  },
  {
   "cell_type": "code",
   "execution_count": 49,
   "id": "b234281e",
   "metadata": {},
   "outputs": [],
   "source": [
    "# Original Model as follow:\n",
    "(train_data, train_labels), _ = imdb.load_data(num_words=10000)"
   ]
  },
  {
   "cell_type": "code",
   "execution_count": 50,
   "id": "5e7a7e3d",
   "metadata": {},
   "outputs": [],
   "source": [
    "def vectorize_sequences(sequences, dimension=10000):\n",
    "    results = np.zeros((len(sequences), dimension))\n",
    "    for i, sequence in enumerate(sequences):\n",
    "        results[i, sequence] = 1.\n",
    "    return results\n",
    "\n",
    "train_data = vectorize_sequences(train_data)"
   ]
  },
  {
   "cell_type": "code",
   "execution_count": 51,
   "id": "9794fff4",
   "metadata": {},
   "outputs": [],
   "source": [
    "# Setting model\n",
    "model = keras.Sequential([\n",
    "    layers.Dense(16, activation=\"relu\"),\n",
    "    layers.Dense(16, activation=\"relu\"),\n",
    "    layers.Dense(1, activation=\"sigmoid\")\n",
    "])"
   ]
  },
  {
   "cell_type": "code",
   "execution_count": 52,
   "id": "fb18d8be",
   "metadata": {},
   "outputs": [],
   "source": [
    "# Compiling model\n",
    "model.compile(optimizer=\"rmsprop\",\n",
    "              loss=\"binary_crossentropy\",\n",
    "              metrics=[\"accuracy\"])"
   ]
  },
  {
   "cell_type": "code",
   "execution_count": 53,
   "id": "dc9d05c2",
   "metadata": {},
   "outputs": [
    {
     "name": "stdout",
     "output_type": "stream",
     "text": [
      "Epoch 1/20\n",
      "30/30 [==============================] - 1s 16ms/step - loss: 0.4924 - accuracy: 0.7947 - val_loss: 0.3622 - val_accuracy: 0.8760\n",
      "Epoch 2/20\n",
      "30/30 [==============================] - 0s 5ms/step - loss: 0.2876 - accuracy: 0.9075 - val_loss: 0.3232 - val_accuracy: 0.8710\n",
      "Epoch 3/20\n",
      "30/30 [==============================] - 0s 4ms/step - loss: 0.2143 - accuracy: 0.9293 - val_loss: 0.3149 - val_accuracy: 0.8720\n",
      "Epoch 4/20\n",
      "30/30 [==============================] - 0s 4ms/step - loss: 0.1662 - accuracy: 0.9467 - val_loss: 0.2770 - val_accuracy: 0.8893\n",
      "Epoch 5/20\n",
      "30/30 [==============================] - 0s 4ms/step - loss: 0.1374 - accuracy: 0.9551 - val_loss: 0.2862 - val_accuracy: 0.8872\n",
      "Epoch 6/20\n",
      "30/30 [==============================] - 0s 4ms/step - loss: 0.1111 - accuracy: 0.9658 - val_loss: 0.3095 - val_accuracy: 0.8826\n",
      "Epoch 7/20\n",
      "30/30 [==============================] - 0s 5ms/step - loss: 0.0912 - accuracy: 0.9731 - val_loss: 0.3620 - val_accuracy: 0.8733\n",
      "Epoch 8/20\n",
      "30/30 [==============================] - 0s 4ms/step - loss: 0.0748 - accuracy: 0.9782 - val_loss: 0.3542 - val_accuracy: 0.8778\n",
      "Epoch 9/20\n",
      "30/30 [==============================] - 0s 4ms/step - loss: 0.0615 - accuracy: 0.9829 - val_loss: 0.3676 - val_accuracy: 0.8797\n",
      "Epoch 10/20\n",
      "30/30 [==============================] - 0s 4ms/step - loss: 0.0506 - accuracy: 0.9862 - val_loss: 0.4031 - val_accuracy: 0.8754\n",
      "Epoch 11/20\n",
      "30/30 [==============================] - 0s 4ms/step - loss: 0.0384 - accuracy: 0.9923 - val_loss: 0.4258 - val_accuracy: 0.8765\n",
      "Epoch 12/20\n",
      "30/30 [==============================] - 0s 4ms/step - loss: 0.0328 - accuracy: 0.9927 - val_loss: 0.4659 - val_accuracy: 0.8738\n",
      "Epoch 13/20\n",
      "30/30 [==============================] - 0s 4ms/step - loss: 0.0267 - accuracy: 0.9943 - val_loss: 0.4949 - val_accuracy: 0.8709\n",
      "Epoch 14/20\n",
      "30/30 [==============================] - 0s 4ms/step - loss: 0.0216 - accuracy: 0.9955 - val_loss: 0.5307 - val_accuracy: 0.8716\n",
      "Epoch 15/20\n",
      "30/30 [==============================] - 0s 4ms/step - loss: 0.0129 - accuracy: 0.9983 - val_loss: 0.5704 - val_accuracy: 0.8697\n",
      "Epoch 16/20\n",
      "30/30 [==============================] - 0s 4ms/step - loss: 0.0149 - accuracy: 0.9970 - val_loss: 0.5972 - val_accuracy: 0.8682\n",
      "Epoch 17/20\n",
      "30/30 [==============================] - 0s 4ms/step - loss: 0.0083 - accuracy: 0.9992 - val_loss: 0.6416 - val_accuracy: 0.8668\n",
      "Epoch 18/20\n",
      "30/30 [==============================] - 0s 4ms/step - loss: 0.0106 - accuracy: 0.9972 - val_loss: 0.6727 - val_accuracy: 0.8661\n",
      "Epoch 19/20\n",
      "30/30 [==============================] - 0s 4ms/step - loss: 0.0043 - accuracy: 0.9997 - val_loss: 0.7403 - val_accuracy: 0.8611\n",
      "Epoch 20/20\n",
      "30/30 [==============================] - 0s 4ms/step - loss: 0.0048 - accuracy: 0.9997 - val_loss: 0.7530 - val_accuracy: 0.8653\n"
     ]
    }
   ],
   "source": [
    "# Fitting model as follow:\n",
    "history_original = model.fit(train_data, train_labels,\n",
    "                             epochs=20, batch_size=512, validation_split=0.4)"
   ]
  },
  {
   "cell_type": "code",
   "execution_count": 54,
   "id": "3c40c673",
   "metadata": {},
   "outputs": [
    {
     "name": "stdout",
     "output_type": "stream",
     "text": [
      "Epoch 1/20\n",
      "30/30 [==============================] - 1s 16ms/step - loss: 0.6316 - accuracy: 0.6638 - val_loss: 0.5903 - val_accuracy: 0.7709\n",
      "Epoch 2/20\n",
      "30/30 [==============================] - 0s 4ms/step - loss: 0.5543 - accuracy: 0.7785 - val_loss: 0.5500 - val_accuracy: 0.7400\n",
      "Epoch 3/20\n",
      "30/30 [==============================] - 0s 3ms/step - loss: 0.5099 - accuracy: 0.8261 - val_loss: 0.5171 - val_accuracy: 0.8287\n",
      "Epoch 4/20\n",
      "30/30 [==============================] - 0s 3ms/step - loss: 0.4759 - accuracy: 0.8603 - val_loss: 0.4963 - val_accuracy: 0.8301\n",
      "Epoch 5/20\n",
      "30/30 [==============================] - 0s 3ms/step - loss: 0.4473 - accuracy: 0.8859 - val_loss: 0.4860 - val_accuracy: 0.8259\n",
      "Epoch 6/20\n",
      "30/30 [==============================] - 0s 3ms/step - loss: 0.4233 - accuracy: 0.9022 - val_loss: 0.4782 - val_accuracy: 0.8321\n",
      "Epoch 7/20\n",
      "30/30 [==============================] - 0s 3ms/step - loss: 0.4023 - accuracy: 0.9176 - val_loss: 0.4574 - val_accuracy: 0.8698\n",
      "Epoch 8/20\n",
      "30/30 [==============================] - 0s 4ms/step - loss: 0.3835 - accuracy: 0.9310 - val_loss: 0.4651 - val_accuracy: 0.8524\n",
      "Epoch 9/20\n",
      "30/30 [==============================] - 0s 4ms/step - loss: 0.3670 - accuracy: 0.9411 - val_loss: 0.4507 - val_accuracy: 0.8667\n",
      "Epoch 10/20\n",
      "30/30 [==============================] - 0s 4ms/step - loss: 0.3518 - accuracy: 0.9483 - val_loss: 0.4565 - val_accuracy: 0.8618\n",
      "Epoch 11/20\n",
      "30/30 [==============================] - 0s 4ms/step - loss: 0.3376 - accuracy: 0.9549 - val_loss: 0.4615 - val_accuracy: 0.8604\n",
      "Epoch 12/20\n",
      "30/30 [==============================] - 0s 4ms/step - loss: 0.3240 - accuracy: 0.9617 - val_loss: 0.4790 - val_accuracy: 0.8516\n",
      "Epoch 13/20\n",
      "30/30 [==============================] - 0s 4ms/step - loss: 0.3124 - accuracy: 0.9662 - val_loss: 0.4624 - val_accuracy: 0.8666\n",
      "Epoch 14/20\n",
      "30/30 [==============================] - 0s 4ms/step - loss: 0.3009 - accuracy: 0.9712 - val_loss: 0.4782 - val_accuracy: 0.8605\n",
      "Epoch 15/20\n",
      "30/30 [==============================] - 0s 4ms/step - loss: 0.2905 - accuracy: 0.9747 - val_loss: 0.4757 - val_accuracy: 0.8650\n",
      "Epoch 16/20\n",
      "30/30 [==============================] - 0s 4ms/step - loss: 0.2805 - accuracy: 0.9775 - val_loss: 0.4744 - val_accuracy: 0.8672\n",
      "Epoch 17/20\n",
      "30/30 [==============================] - 0s 3ms/step - loss: 0.2709 - accuracy: 0.9809 - val_loss: 0.4576 - val_accuracy: 0.8753\n",
      "Epoch 18/20\n",
      "30/30 [==============================] - 0s 4ms/step - loss: 0.2625 - accuracy: 0.9824 - val_loss: 0.4748 - val_accuracy: 0.8722\n",
      "Epoch 19/20\n",
      "30/30 [==============================] - 0s 3ms/step - loss: 0.2541 - accuracy: 0.9831 - val_loss: 0.5180 - val_accuracy: 0.8629\n",
      "Epoch 20/20\n",
      "30/30 [==============================] - 0s 4ms/step - loss: 0.2470 - accuracy: 0.9844 - val_loss: 0.5311 - val_accuracy: 0.8615\n"
     ]
    }
   ],
   "source": [
    "# Lower capacity model version as follow:\n",
    "model = keras.Sequential([\n",
    "    layers.Dense(4, activation=\"relu\"),\n",
    "    layers.Dense(4, activation=\"relu\"),\n",
    "    layers.Dense(1, activation=\"sigmoid\")\n",
    "])\n",
    "\n",
    "# Compiling model\n",
    "model.compile(optimizer=\"rmsprop\",\n",
    "              loss=\"binary_crossentropy\",\n",
    "              metrics=[\"accuracy\"])\n",
    "\n",
    "# Fitting model\n",
    "history_smaller_model = model.fit(\n",
    "    train_data, train_labels,\n",
    "    epochs=20, batch_size=512, validation_split=0.4)"
   ]
  },
  {
   "cell_type": "code",
   "execution_count": 55,
   "id": "36208dc7",
   "metadata": {},
   "outputs": [
    {
     "name": "stdout",
     "output_type": "stream",
     "text": [
      "Epoch 1/20\n",
      "30/30 [==============================] - 1s 44ms/step - loss: 0.5173 - accuracy: 0.7668 - val_loss: 0.7197 - val_accuracy: 0.7031\n",
      "Epoch 2/20\n",
      "30/30 [==============================] - 1s 30ms/step - loss: 0.2793 - accuracy: 0.8866 - val_loss: 0.2755 - val_accuracy: 0.8911\n",
      "Epoch 3/20\n",
      "30/30 [==============================] - 1s 29ms/step - loss: 0.1604 - accuracy: 0.9453 - val_loss: 0.2783 - val_accuracy: 0.8920\n",
      "Epoch 4/20\n",
      "30/30 [==============================] - 1s 29ms/step - loss: 0.0863 - accuracy: 0.9718 - val_loss: 0.3707 - val_accuracy: 0.8879\n",
      "Epoch 5/20\n",
      "30/30 [==============================] - 1s 29ms/step - loss: 0.1249 - accuracy: 0.9755 - val_loss: 0.3273 - val_accuracy: 0.8882\n",
      "Epoch 6/20\n",
      "30/30 [==============================] - 1s 29ms/step - loss: 0.0065 - accuracy: 0.9995 - val_loss: 0.5023 - val_accuracy: 0.8873\n",
      "Epoch 7/20\n",
      "30/30 [==============================] - 1s 29ms/step - loss: 9.8661e-04 - accuracy: 0.9999 - val_loss: 0.6192 - val_accuracy: 0.8865\n",
      "Epoch 8/20\n",
      "30/30 [==============================] - 1s 29ms/step - loss: 1.2779e-04 - accuracy: 1.0000 - val_loss: 0.7519 - val_accuracy: 0.8857\n",
      "Epoch 9/20\n",
      "30/30 [==============================] - 1s 29ms/step - loss: 2.2120e-05 - accuracy: 1.0000 - val_loss: 0.8595 - val_accuracy: 0.8851\n",
      "Epoch 10/20\n",
      "30/30 [==============================] - 1s 29ms/step - loss: 5.1626e-06 - accuracy: 1.0000 - val_loss: 0.9548 - val_accuracy: 0.8839\n",
      "Epoch 11/20\n",
      "30/30 [==============================] - 1s 31ms/step - loss: 1.2522e-06 - accuracy: 1.0000 - val_loss: 1.0460 - val_accuracy: 0.8847\n",
      "Epoch 12/20\n",
      "30/30 [==============================] - 1s 29ms/step - loss: 3.8051e-07 - accuracy: 1.0000 - val_loss: 1.1307 - val_accuracy: 0.8837\n",
      "Epoch 13/20\n",
      "30/30 [==============================] - 1s 29ms/step - loss: 1.2590e-07 - accuracy: 1.0000 - val_loss: 1.1992 - val_accuracy: 0.8842\n",
      "Epoch 14/20\n",
      "30/30 [==============================] - 1s 29ms/step - loss: 5.3779e-08 - accuracy: 1.0000 - val_loss: 1.2626 - val_accuracy: 0.8841\n",
      "Epoch 15/20\n",
      "30/30 [==============================] - 1s 29ms/step - loss: 2.9047e-08 - accuracy: 1.0000 - val_loss: 1.2854 - val_accuracy: 0.8841\n",
      "Epoch 16/20\n",
      "30/30 [==============================] - 1s 29ms/step - loss: 1.9060e-08 - accuracy: 1.0000 - val_loss: 1.3125 - val_accuracy: 0.8843\n",
      "Epoch 17/20\n",
      "30/30 [==============================] - 1s 34ms/step - loss: 1.4182e-08 - accuracy: 1.0000 - val_loss: 1.3301 - val_accuracy: 0.8839\n",
      "Epoch 18/20\n",
      "30/30 [==============================] - 1s 29ms/step - loss: 1.1274e-08 - accuracy: 1.0000 - val_loss: 1.3449 - val_accuracy: 0.8840\n",
      "Epoch 19/20\n",
      "30/30 [==============================] - 1s 29ms/step - loss: 9.3880e-09 - accuracy: 1.0000 - val_loss: 1.3565 - val_accuracy: 0.8839\n",
      "Epoch 20/20\n",
      "30/30 [==============================] - 1s 29ms/step - loss: 8.0449e-09 - accuracy: 1.0000 - val_loss: 1.3660 - val_accuracy: 0.8839\n"
     ]
    }
   ],
   "source": [
    "# Higher capacity model version as follow:\n",
    "model = keras.Sequential([\n",
    "    layers.Dense(512, activation=\"relu\"),\n",
    "    layers.Dense(512, activation=\"relu\"),\n",
    "    layers.Dense(1, activation=\"sigmoid\")\n",
    "])\n",
    "\n",
    "# Compiling model\n",
    "model.compile(optimizer=\"rmsprop\",\n",
    "              loss=\"binary_crossentropy\",\n",
    "              metrics=[\"accuracy\"])\n",
    "\n",
    "# Fitting larger model\n",
    "history_larger_model = model.fit(\n",
    "    train_data, train_labels,\n",
    "    epochs=20, batch_size=512, validation_split=0.4)"
   ]
  },
  {
   "cell_type": "markdown",
   "id": "7cb1a640",
   "metadata": {},
   "source": [
    "##### Adding weight regulatization"
   ]
  },
  {
   "cell_type": "code",
   "execution_count": 58,
   "id": "3ec25f07",
   "metadata": {},
   "outputs": [
    {
     "name": "stdout",
     "output_type": "stream",
     "text": [
      "Epoch 1/20\n",
      "30/30 [==============================] - 1s 18ms/step - loss: 0.5966 - accuracy: 0.7838 - val_loss: 0.4626 - val_accuracy: 0.8705\n",
      "Epoch 2/20\n",
      "30/30 [==============================] - 0s 5ms/step - loss: 0.3953 - accuracy: 0.8984 - val_loss: 0.3873 - val_accuracy: 0.8866\n",
      "Epoch 3/20\n",
      "30/30 [==============================] - 0s 4ms/step - loss: 0.3250 - accuracy: 0.9165 - val_loss: 0.3627 - val_accuracy: 0.8900\n",
      "Epoch 4/20\n",
      "30/30 [==============================] - 0s 4ms/step - loss: 0.2951 - accuracy: 0.9263 - val_loss: 0.3553 - val_accuracy: 0.8898\n",
      "Epoch 5/20\n",
      "30/30 [==============================] - 0s 4ms/step - loss: 0.2713 - accuracy: 0.9341 - val_loss: 0.3532 - val_accuracy: 0.8896\n",
      "Epoch 6/20\n",
      "30/30 [==============================] - 0s 4ms/step - loss: 0.2590 - accuracy: 0.9387 - val_loss: 0.3560 - val_accuracy: 0.8875\n",
      "Epoch 7/20\n",
      "30/30 [==============================] - 0s 5ms/step - loss: 0.2476 - accuracy: 0.9432 - val_loss: 0.3879 - val_accuracy: 0.8745\n",
      "Epoch 8/20\n",
      "30/30 [==============================] - 0s 5ms/step - loss: 0.2377 - accuracy: 0.9460 - val_loss: 0.3601 - val_accuracy: 0.8857\n",
      "Epoch 9/20\n",
      "30/30 [==============================] - 0s 5ms/step - loss: 0.2347 - accuracy: 0.9465 - val_loss: 0.3780 - val_accuracy: 0.8799\n",
      "Epoch 10/20\n",
      "30/30 [==============================] - 0s 5ms/step - loss: 0.2253 - accuracy: 0.9494 - val_loss: 0.4328 - val_accuracy: 0.8598\n",
      "Epoch 11/20\n",
      "30/30 [==============================] - 0s 4ms/step - loss: 0.2192 - accuracy: 0.9533 - val_loss: 0.3804 - val_accuracy: 0.8791\n",
      "Epoch 12/20\n",
      "30/30 [==============================] - 0s 4ms/step - loss: 0.2158 - accuracy: 0.9538 - val_loss: 0.4474 - val_accuracy: 0.8602\n",
      "Epoch 13/20\n",
      "30/30 [==============================] - 0s 4ms/step - loss: 0.2148 - accuracy: 0.9535 - val_loss: 0.3984 - val_accuracy: 0.8745\n",
      "Epoch 14/20\n",
      "30/30 [==============================] - 0s 4ms/step - loss: 0.2120 - accuracy: 0.9531 - val_loss: 0.3958 - val_accuracy: 0.8759\n",
      "Epoch 15/20\n",
      "30/30 [==============================] - 0s 4ms/step - loss: 0.2068 - accuracy: 0.9561 - val_loss: 0.5228 - val_accuracy: 0.8389\n",
      "Epoch 16/20\n",
      "30/30 [==============================] - 0s 4ms/step - loss: 0.2064 - accuracy: 0.9553 - val_loss: 0.3955 - val_accuracy: 0.8763\n",
      "Epoch 17/20\n",
      "30/30 [==============================] - 0s 4ms/step - loss: 0.2043 - accuracy: 0.9571 - val_loss: 0.4001 - val_accuracy: 0.8762\n",
      "Epoch 18/20\n",
      "30/30 [==============================] - 0s 4ms/step - loss: 0.2034 - accuracy: 0.9566 - val_loss: 0.4105 - val_accuracy: 0.8745\n",
      "Epoch 19/20\n",
      "30/30 [==============================] - 0s 4ms/step - loss: 0.1952 - accuracy: 0.9601 - val_loss: 0.4644 - val_accuracy: 0.8606\n",
      "Epoch 20/20\n",
      "30/30 [==============================] - 0s 4ms/step - loss: 0.1987 - accuracy: 0.9584 - val_loss: 0.4176 - val_accuracy: 0.8736\n"
     ]
    }
   ],
   "source": [
    "# Adding L2 weight regularization to the model, as follow:\n",
    "model = keras.Sequential([\n",
    "    layers.Dense(16, kernel_regularizer=regularizers.l2(0.002), activation=\"relu\"),\n",
    "    layers.Dense(16, kernel_regularizer=regularizers.l2(0.002), activation=\"relu\"),\n",
    "    layers.Dense(1, activation=\"sigmoid\")\n",
    "])\n",
    "\n",
    "# Compiling model\n",
    "model.compile(optimizer=\"rmsprop\",\n",
    "              loss=\"binary_crossentropy\",\n",
    "              metrics=[\"accuracy\"])\n",
    "\n",
    "# Fitting model\n",
    "history_l2_reg = model.fit(train_data, train_labels,\n",
    "                           epochs=20,\n",
    "                           batch_size=512,\n",
    "                           validation_split=0.4)"
   ]
  },
  {
   "cell_type": "code",
   "execution_count": 60,
   "id": "bf2b7454",
   "metadata": {},
   "outputs": [
    {
     "data": {
      "text/plain": [
       "<keras.src.regularizers.L1L2 at 0x387606050>"
      ]
     },
     "execution_count": 60,
     "metadata": {},
     "output_type": "execute_result"
    }
   ],
   "source": [
    "# Different weight regularizers available in Keras\n",
    "\n",
    "# L1 regularizer\n",
    "regularizers.l1(0.001)\n",
    "# L2 regularizer\n",
    "regularizers.l1_l2(l1=0.001, l2=0.001)"
   ]
  },
  {
   "cell_type": "markdown",
   "id": "53c63376",
   "metadata": {},
   "source": [
    "##### Adding DropOut"
   ]
  },
  {
   "cell_type": "code",
   "execution_count": 65,
   "id": "3756c13e",
   "metadata": {},
   "outputs": [
    {
     "name": "stdout",
     "output_type": "stream",
     "text": [
      "Epoch 1/20\n",
      "30/30 [==============================] - 1s 20ms/step - loss: 0.6342 - accuracy: 0.6273 - val_loss: 0.5240 - val_accuracy: 0.8470\n",
      "Epoch 2/20\n",
      "30/30 [==============================] - 0s 5ms/step - loss: 0.5237 - accuracy: 0.7533 - val_loss: 0.4311 - val_accuracy: 0.8551\n",
      "Epoch 3/20\n",
      "30/30 [==============================] - 0s 4ms/step - loss: 0.4487 - accuracy: 0.8140 - val_loss: 0.3636 - val_accuracy: 0.8813\n",
      "Epoch 4/20\n",
      "30/30 [==============================] - 0s 4ms/step - loss: 0.3876 - accuracy: 0.8553 - val_loss: 0.3256 - val_accuracy: 0.8857\n",
      "Epoch 5/20\n",
      "30/30 [==============================] - 0s 4ms/step - loss: 0.3411 - accuracy: 0.8801 - val_loss: 0.2997 - val_accuracy: 0.8913\n",
      "Epoch 6/20\n",
      "30/30 [==============================] - 0s 4ms/step - loss: 0.2973 - accuracy: 0.8985 - val_loss: 0.2858 - val_accuracy: 0.8829\n",
      "Epoch 7/20\n",
      "30/30 [==============================] - 0s 4ms/step - loss: 0.2624 - accuracy: 0.9161 - val_loss: 0.2839 - val_accuracy: 0.8921\n",
      "Epoch 8/20\n",
      "30/30 [==============================] - 0s 4ms/step - loss: 0.2258 - accuracy: 0.9278 - val_loss: 0.2885 - val_accuracy: 0.8889\n",
      "Epoch 9/20\n",
      "30/30 [==============================] - 0s 5ms/step - loss: 0.2047 - accuracy: 0.9349 - val_loss: 0.3253 - val_accuracy: 0.8888\n",
      "Epoch 10/20\n",
      "30/30 [==============================] - 0s 5ms/step - loss: 0.1855 - accuracy: 0.9449 - val_loss: 0.3401 - val_accuracy: 0.8884\n",
      "Epoch 11/20\n",
      "30/30 [==============================] - 0s 5ms/step - loss: 0.1648 - accuracy: 0.9509 - val_loss: 0.3402 - val_accuracy: 0.8871\n",
      "Epoch 12/20\n",
      "30/30 [==============================] - 0s 5ms/step - loss: 0.1425 - accuracy: 0.9571 - val_loss: 0.3488 - val_accuracy: 0.8848\n",
      "Epoch 13/20\n",
      "30/30 [==============================] - 0s 5ms/step - loss: 0.1348 - accuracy: 0.9600 - val_loss: 0.3956 - val_accuracy: 0.8867\n",
      "Epoch 14/20\n",
      "30/30 [==============================] - 0s 4ms/step - loss: 0.1195 - accuracy: 0.9635 - val_loss: 0.4424 - val_accuracy: 0.8860\n",
      "Epoch 15/20\n",
      "30/30 [==============================] - 0s 4ms/step - loss: 0.1128 - accuracy: 0.9660 - val_loss: 0.4198 - val_accuracy: 0.8832\n",
      "Epoch 16/20\n",
      "30/30 [==============================] - 0s 4ms/step - loss: 0.1070 - accuracy: 0.9685 - val_loss: 0.4520 - val_accuracy: 0.8873\n",
      "Epoch 17/20\n",
      "30/30 [==============================] - 0s 4ms/step - loss: 0.0970 - accuracy: 0.9698 - val_loss: 0.4671 - val_accuracy: 0.8845\n",
      "Epoch 18/20\n",
      "30/30 [==============================] - 0s 4ms/step - loss: 0.0906 - accuracy: 0.9728 - val_loss: 0.5009 - val_accuracy: 0.8849\n",
      "Epoch 19/20\n",
      "30/30 [==============================] - 0s 4ms/step - loss: 0.0909 - accuracy: 0.9742 - val_loss: 0.5337 - val_accuracy: 0.8842\n",
      "Epoch 20/20\n",
      "30/30 [==============================] - 0s 5ms/step - loss: 0.0843 - accuracy: 0.9745 - val_loss: 0.5689 - val_accuracy: 0.8849\n"
     ]
    }
   ],
   "source": [
    "# Adding dropout to the IMDB model, as follow\n",
    "model = keras.Sequential([\n",
    "    layers.Dense(16, activation=\"relu\"),\n",
    "    layers.Dropout(0.5),\n",
    "    layers.Dense(16, activation=\"relu\"),\n",
    "    layers.Dropout(0.5),\n",
    "    layers.Dense(1, activation=\"sigmoid\")\n",
    "])\n",
    "\n",
    "# Compiling model\n",
    "model.compile(optimizer=\"rmsprop\",\n",
    "              loss=\"binary_crossentropy\",\n",
    "              metrics=[\"accuracy\"])\n",
    "\n",
    "# Fitting model\n",
    "history_dropout = model.fit(train_data, train_labels,\n",
    "                            epochs=20,\n",
    "                            batch_size=512,\n",
    "                            validation_split=0.4)"
   ]
  },
  {
   "cell_type": "code",
   "execution_count": null,
   "id": "fb8ae23e",
   "metadata": {},
   "outputs": [],
   "source": []
  }
 ],
 "metadata": {
  "kernelspec": {
   "display_name": "Python 3 (ipykernel)",
   "language": "python",
   "name": "python3"
  },
  "language_info": {
   "codemirror_mode": {
    "name": "ipython",
    "version": 3
   },
   "file_extension": ".py",
   "mimetype": "text/x-python",
   "name": "python",
   "nbconvert_exporter": "python",
   "pygments_lexer": "ipython3",
   "version": "3.11.7"
  }
 },
 "nbformat": 4,
 "nbformat_minor": 5
}
